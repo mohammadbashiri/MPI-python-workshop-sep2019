{
 "cells": [
  {
   "cell_type": "markdown",
   "metadata": {},
   "source": [
    "# Python Beginners Workshop: Pandas\n",
    "## By Mohammad Bashiri"
   ]
  },
  {
   "cell_type": "markdown",
   "metadata": {},
   "source": [
    "## Learning Goals\n",
    "\n",
    "- What is Pandas? and Why?\n",
    "- loading data and Creating Pandas Series and DataFrame objects\n",
    "- Saving Pandas DataFrames\n",
    "- Data Selection (indexing, masking, and splitting)\n",
    "- Data Manipulation (values, index, and columns)\n",
    "- Combining and splitting DataFrames\n",
    "- Split-Apply-Combine"
   ]
  },
  {
   "cell_type": "markdown",
   "metadata": {},
   "source": [
    "---"
   ]
  },
  {
   "cell_type": "markdown",
   "metadata": {},
   "source": [
    "# Day 2"
   ]
  },
  {
   "cell_type": "code",
   "execution_count": 1,
   "metadata": {},
   "outputs": [],
   "source": [
    "import numpy as np\n",
    "import pandas as pd\n",
    "import matplotlib.pyplot as plt"
   ]
  },
  {
   "cell_type": "markdown",
   "metadata": {},
   "source": [
    "## Motivation"
   ]
  },
  {
   "cell_type": "code",
   "execution_count": 2,
   "metadata": {},
   "outputs": [
    {
     "data": {
      "text/plain": [
       "array([[ 0,  1,  2,  3],\n",
       "       [ 4,  5,  6,  7],\n",
       "       [ 8,  9, 10, 11],\n",
       "       [12, 13, 14, 15],\n",
       "       [16, 17, 18, 19]])"
      ]
     },
     "execution_count": 2,
     "metadata": {},
     "output_type": "execute_result"
    }
   ],
   "source": [
    "an_arr = np.arange(20).reshape(5, -1)\n",
    "an_arr"
   ]
  },
  {
   "cell_type": "code",
   "execution_count": 3,
   "metadata": {},
   "outputs": [
    {
     "data": {
      "text/html": [
       "<div>\n",
       "<style scoped>\n",
       "    .dataframe tbody tr th:only-of-type {\n",
       "        vertical-align: middle;\n",
       "    }\n",
       "\n",
       "    .dataframe tbody tr th {\n",
       "        vertical-align: top;\n",
       "    }\n",
       "\n",
       "    .dataframe thead th {\n",
       "        text-align: right;\n",
       "    }\n",
       "</style>\n",
       "<table border=\"1\" class=\"dataframe\">\n",
       "  <thead>\n",
       "    <tr style=\"text-align: right;\">\n",
       "      <th></th>\n",
       "      <th>A</th>\n",
       "      <th>B</th>\n",
       "      <th>C</th>\n",
       "      <th>D</th>\n",
       "    </tr>\n",
       "  </thead>\n",
       "  <tbody>\n",
       "    <tr>\n",
       "      <th>0</th>\n",
       "      <td>0</td>\n",
       "      <td>1</td>\n",
       "      <td>2</td>\n",
       "      <td>3</td>\n",
       "    </tr>\n",
       "    <tr>\n",
       "      <th>1</th>\n",
       "      <td>4</td>\n",
       "      <td>5</td>\n",
       "      <td>6</td>\n",
       "      <td>7</td>\n",
       "    </tr>\n",
       "    <tr>\n",
       "      <th>2</th>\n",
       "      <td>8</td>\n",
       "      <td>9</td>\n",
       "      <td>10</td>\n",
       "      <td>11</td>\n",
       "    </tr>\n",
       "    <tr>\n",
       "      <th>3</th>\n",
       "      <td>12</td>\n",
       "      <td>13</td>\n",
       "      <td>14</td>\n",
       "      <td>15</td>\n",
       "    </tr>\n",
       "    <tr>\n",
       "      <th>4</th>\n",
       "      <td>16</td>\n",
       "      <td>17</td>\n",
       "      <td>18</td>\n",
       "      <td>19</td>\n",
       "    </tr>\n",
       "  </tbody>\n",
       "</table>\n",
       "</div>"
      ],
      "text/plain": [
       "    A   B   C   D\n",
       "0   0   1   2   3\n",
       "1   4   5   6   7\n",
       "2   8   9  10  11\n",
       "3  12  13  14  15\n",
       "4  16  17  18  19"
      ]
     },
     "execution_count": 3,
     "metadata": {},
     "output_type": "execute_result"
    }
   ],
   "source": [
    "pd.DataFrame(an_arr, \n",
    "             columns=['A', 'B', 'C', 'D'])"
   ]
  },
  {
   "cell_type": "markdown",
   "metadata": {},
   "source": [
    "## What is Pandas? And Why?"
   ]
  },
  {
   "cell_type": "markdown",
   "metadata": {},
   "source": [
    "**pandas** is a Python package providing fast, flexible, and expressive data structures designed to work with *relational* or *labeled* data both. It stores data in a tabular form. Each table, which is sometimes called a relation, in a relational database contains one or more data categories in columns, also called attributes. Each row, also called a record or tuple, contains a unique instance of data, or key, for the categories defined by the columns.\n",
    "\n",
    "It is a fundamental high-level building block for doing practical, real world data analysis in Python. \n",
    "\n",
    "pandas is well suited for:\n",
    "\n",
    "- Tabular data with heterogeneously-typed columns, as in an SQL table or Excel spreadsheet\n",
    "- Ordered and unordered (not necessarily fixed-frequency) time series data.\n",
    "- Arbitrary matrix data (homogeneously typed or heterogeneous) with row and column labels\n",
    "- Any other form of observational / statistical data sets. The data actually need not be labeled at all to be placed into a pandas data structure\n",
    "\n",
    "\n",
    "Key features:\n",
    "    \n",
    "- Easy handling of **missing data**\n",
    "- **Size mutability**: columns can be inserted and deleted from DataFrame and higher dimensional objects\n",
    "- Automatic and explicit **data alignment**: objects can be explicitly aligned to a set of labels, or the data can be aligned automatically\n",
    "- Powerful, flexible **group by functionality** to perform split-apply-combine operations on data sets\n",
    "- Intelligent label-based **slicing, fancy indexing, and subsetting** of large data sets\n",
    "- Intuitive **merging and joining** data sets\n",
    "- Flexible **reshaping and pivoting** of data sets\n",
    "- **Hierarchical labeling** of axes\n",
    "- Robust **IO tools** for loading data from flat files, Excel files, databases, and HDF5\n",
    "- **Time series functionality**: date range generation and frequency conversion, moving window statistics, moving window linear regressions, date shifting and lagging, etc."
   ]
  },
  {
   "cell_type": "markdown",
   "metadata": {},
   "source": [
    "### Pandas Series"
   ]
  },
  {
   "cell_type": "markdown",
   "metadata": {},
   "source": [
    "Pandas Series is a generalized of one-dimensional array with flexible indexing (one index per element in the column):"
   ]
  },
  {
   "cell_type": "code",
   "execution_count": 4,
   "metadata": {},
   "outputs": [
    {
     "data": {
      "text/plain": [
       "0    1\n",
       "1    2\n",
       "2    3\n",
       "3    4\n",
       "dtype: int64"
      ]
     },
     "execution_count": 4,
     "metadata": {},
     "output_type": "execute_result"
    }
   ],
   "source": [
    "ss = pd.Series([1, 2, 3, 4])\n",
    "ss"
   ]
  },
  {
   "cell_type": "markdown",
   "metadata": {},
   "source": [
    "If an index is not specified, a default sequence of integers is assigned as the index. A NumPy array comprises the values of the `Series`, while the index is a pandas `Index` object."
   ]
  },
  {
   "cell_type": "code",
   "execution_count": 5,
   "metadata": {},
   "outputs": [
    {
     "data": {
      "text/plain": [
       "Mohammad    25\n",
       "Nick        30\n",
       "Hana        33\n",
       "Anna        28\n",
       "dtype: int64"
      ]
     },
     "execution_count": 5,
     "metadata": {},
     "output_type": "execute_result"
    }
   ],
   "source": [
    "ss = pd.Series([25, 30, 33, 28], \n",
    "               index=['Mohammad', 'Nick', 'Hana', 'Anna'])\n",
    "ss"
   ]
  },
  {
   "cell_type": "code",
   "execution_count": 6,
   "metadata": {},
   "outputs": [
    {
     "data": {
      "text/plain": [
       "Mohammad    25\n",
       "Nick        30\n",
       "Hana        33\n",
       "Anna        28\n",
       "dtype: int64"
      ]
     },
     "execution_count": 6,
     "metadata": {},
     "output_type": "execute_result"
    }
   ],
   "source": [
    "ss = pd.Series({'Mohammad': 25, \n",
    "                'Nick':30, \n",
    "                'Hana':33, \n",
    "                'Anna': 28})\n",
    "ss"
   ]
  },
  {
   "cell_type": "markdown",
   "metadata": {},
   "source": [
    "These labels can be used to refer to the values in the `Series`."
   ]
  },
  {
   "cell_type": "code",
   "execution_count": 7,
   "metadata": {},
   "outputs": [
    {
     "data": {
      "text/plain": [
       "25"
      ]
     },
     "execution_count": 7,
     "metadata": {},
     "output_type": "execute_result"
    }
   ],
   "source": [
    "ss['Mohammad']"
   ]
  },
  {
   "cell_type": "code",
   "execution_count": 8,
   "metadata": {},
   "outputs": [
    {
     "data": {
      "text/plain": [
       "Nick    30\n",
       "Hana    33\n",
       "Anna    28\n",
       "dtype: int64"
      ]
     },
     "execution_count": 8,
     "metadata": {},
     "output_type": "execute_result"
    }
   ],
   "source": [
    "ss[['Nick', 'Hana', 'Anna']]"
   ]
  },
  {
   "cell_type": "code",
   "execution_count": 9,
   "metadata": {},
   "outputs": [
    {
     "data": {
      "text/plain": [
       "Nick    30\n",
       "Hana    33\n",
       "Anna    28\n",
       "dtype: int64"
      ]
     },
     "execution_count": 9,
     "metadata": {},
     "output_type": "execute_result"
    }
   ],
   "source": [
    "ss['Nick':'Anna']"
   ]
  },
  {
   "cell_type": "code",
   "execution_count": 10,
   "metadata": {},
   "outputs": [
    {
     "data": {
      "text/plain": [
       "Nick    30\n",
       "Anna    28\n",
       "dtype: int64"
      ]
     },
     "execution_count": 10,
     "metadata": {},
     "output_type": "execute_result"
    }
   ],
   "source": [
    "ss['Nick':'Anna':2]"
   ]
  },
  {
   "cell_type": "code",
   "execution_count": 11,
   "metadata": {},
   "outputs": [
    {
     "data": {
      "text/plain": [
       "Nick    30\n",
       "Hana    33\n",
       "Anna    28\n",
       "dtype: int64"
      ]
     },
     "execution_count": 11,
     "metadata": {},
     "output_type": "execute_result"
    }
   ],
   "source": [
    "ss[[False, True, True, True]]"
   ]
  },
  {
   "cell_type": "markdown",
   "metadata": {},
   "source": [
    "Notice that the indexing operation preserved the association between the values and the corresponding indices.\n",
    "\n",
    "We can still use positional indexing if we wish."
   ]
  },
  {
   "cell_type": "markdown",
   "metadata": {},
   "source": [
    "### Pandas DataFrame"
   ]
  },
  {
   "cell_type": "markdown",
   "metadata": {},
   "source": [
    "Inevitably, we want to be able to store, view and manipulate data that is *multivariate*, where for every index there are multiple fields or columns of data, often of varying data type.\n",
    "\n",
    "A `DataFrame` is a tabular data structure, encapsulating multiple series like columns in a spreadsheet. Pandas `DataFrame` is a generalization of two-dimensional array wit flexible indexing. We can create DataFrame directly from a dictionary, or from series:"
   ]
  },
  {
   "cell_type": "code",
   "execution_count": 12,
   "metadata": {},
   "outputs": [],
   "source": [
    "age = {'Mohammad': 25, 'Nick':30, 'Hana':33, 'Anna': 28}\n",
    "weight = {'Mohammad': 90, 'Nick': 80,'Hana': 50, 'Anna':55}"
   ]
  },
  {
   "cell_type": "code",
   "execution_count": 13,
   "metadata": {},
   "outputs": [],
   "source": [
    "df = pd.DataFrame({'age': age, 'weight': weight})"
   ]
  },
  {
   "cell_type": "code",
   "execution_count": 14,
   "metadata": {},
   "outputs": [
    {
     "data": {
      "text/html": [
       "<div>\n",
       "<style scoped>\n",
       "    .dataframe tbody tr th:only-of-type {\n",
       "        vertical-align: middle;\n",
       "    }\n",
       "\n",
       "    .dataframe tbody tr th {\n",
       "        vertical-align: top;\n",
       "    }\n",
       "\n",
       "    .dataframe thead th {\n",
       "        text-align: right;\n",
       "    }\n",
       "</style>\n",
       "<table border=\"1\" class=\"dataframe\">\n",
       "  <thead>\n",
       "    <tr style=\"text-align: right;\">\n",
       "      <th></th>\n",
       "      <th>age</th>\n",
       "      <th>weight</th>\n",
       "    </tr>\n",
       "  </thead>\n",
       "  <tbody>\n",
       "    <tr>\n",
       "      <th>Anna</th>\n",
       "      <td>28</td>\n",
       "      <td>55</td>\n",
       "    </tr>\n",
       "    <tr>\n",
       "      <th>Hana</th>\n",
       "      <td>33</td>\n",
       "      <td>50</td>\n",
       "    </tr>\n",
       "    <tr>\n",
       "      <th>Mohammad</th>\n",
       "      <td>25</td>\n",
       "      <td>90</td>\n",
       "    </tr>\n",
       "    <tr>\n",
       "      <th>Nick</th>\n",
       "      <td>30</td>\n",
       "      <td>80</td>\n",
       "    </tr>\n",
       "  </tbody>\n",
       "</table>\n",
       "</div>"
      ],
      "text/plain": [
       "          age  weight\n",
       "Anna       28      55\n",
       "Hana       33      50\n",
       "Mohammad   25      90\n",
       "Nick       30      80"
      ]
     },
     "execution_count": 14,
     "metadata": {},
     "output_type": "execute_result"
    }
   ],
   "source": [
    "df"
   ]
  },
  {
   "cell_type": "code",
   "execution_count": 15,
   "metadata": {},
   "outputs": [
    {
     "data": {
      "text/plain": [
       "Index(['Anna', 'Hana', 'Mohammad', 'Nick'], dtype='object')"
      ]
     },
     "execution_count": 15,
     "metadata": {},
     "output_type": "execute_result"
    }
   ],
   "source": [
    "df.index"
   ]
  },
  {
   "cell_type": "code",
   "execution_count": 16,
   "metadata": {},
   "outputs": [
    {
     "data": {
      "text/plain": [
       "Index(['age', 'weight'], dtype='object')"
      ]
     },
     "execution_count": 16,
     "metadata": {},
     "output_type": "execute_result"
    }
   ],
   "source": [
    "df.columns"
   ]
  },
  {
   "cell_type": "markdown",
   "metadata": {},
   "source": [
    "### Other ways of creating Pandas DataFrame"
   ]
  },
  {
   "cell_type": "markdown",
   "metadata": {},
   "source": [
    "Directly from a dictionary"
   ]
  },
  {
   "cell_type": "code",
   "execution_count": 17,
   "metadata": {},
   "outputs": [
    {
     "data": {
      "text/html": [
       "<div>\n",
       "<style scoped>\n",
       "    .dataframe tbody tr th:only-of-type {\n",
       "        vertical-align: middle;\n",
       "    }\n",
       "\n",
       "    .dataframe tbody tr th {\n",
       "        vertical-align: top;\n",
       "    }\n",
       "\n",
       "    .dataframe thead th {\n",
       "        text-align: right;\n",
       "    }\n",
       "</style>\n",
       "<table border=\"1\" class=\"dataframe\">\n",
       "  <thead>\n",
       "    <tr style=\"text-align: right;\">\n",
       "      <th></th>\n",
       "      <th>age</th>\n",
       "      <th>weight</th>\n",
       "    </tr>\n",
       "  </thead>\n",
       "  <tbody>\n",
       "    <tr>\n",
       "      <th>0</th>\n",
       "      <td>25</td>\n",
       "      <td>90</td>\n",
       "    </tr>\n",
       "    <tr>\n",
       "      <th>1</th>\n",
       "      <td>30</td>\n",
       "      <td>80</td>\n",
       "    </tr>\n",
       "    <tr>\n",
       "      <th>2</th>\n",
       "      <td>33</td>\n",
       "      <td>50</td>\n",
       "    </tr>\n",
       "    <tr>\n",
       "      <th>3</th>\n",
       "      <td>28</td>\n",
       "      <td>55</td>\n",
       "    </tr>\n",
       "  </tbody>\n",
       "</table>\n",
       "</div>"
      ],
      "text/plain": [
       "   age  weight\n",
       "0   25      90\n",
       "1   30      80\n",
       "2   33      50\n",
       "3   28      55"
      ]
     },
     "execution_count": 17,
     "metadata": {},
     "output_type": "execute_result"
    }
   ],
   "source": [
    "df = pd.DataFrame({'age': [25, 30, 33, 28], \n",
    "                   'weight': [90, 80, 50, 55]})\n",
    "df"
   ]
  },
  {
   "cell_type": "code",
   "execution_count": 18,
   "metadata": {},
   "outputs": [
    {
     "data": {
      "text/html": [
       "<div>\n",
       "<style scoped>\n",
       "    .dataframe tbody tr th:only-of-type {\n",
       "        vertical-align: middle;\n",
       "    }\n",
       "\n",
       "    .dataframe tbody tr th {\n",
       "        vertical-align: top;\n",
       "    }\n",
       "\n",
       "    .dataframe thead th {\n",
       "        text-align: right;\n",
       "    }\n",
       "</style>\n",
       "<table border=\"1\" class=\"dataframe\">\n",
       "  <thead>\n",
       "    <tr style=\"text-align: right;\">\n",
       "      <th></th>\n",
       "      <th>age</th>\n",
       "      <th>weight</th>\n",
       "    </tr>\n",
       "  </thead>\n",
       "  <tbody>\n",
       "    <tr>\n",
       "      <th>Mohammad</th>\n",
       "      <td>25</td>\n",
       "      <td>90</td>\n",
       "    </tr>\n",
       "    <tr>\n",
       "      <th>Nick</th>\n",
       "      <td>30</td>\n",
       "      <td>80</td>\n",
       "    </tr>\n",
       "    <tr>\n",
       "      <th>Hana</th>\n",
       "      <td>33</td>\n",
       "      <td>50</td>\n",
       "    </tr>\n",
       "    <tr>\n",
       "      <th>Anna</th>\n",
       "      <td>28</td>\n",
       "      <td>55</td>\n",
       "    </tr>\n",
       "  </tbody>\n",
       "</table>\n",
       "</div>"
      ],
      "text/plain": [
       "          age  weight\n",
       "Mohammad   25      90\n",
       "Nick       30      80\n",
       "Hana       33      50\n",
       "Anna       28      55"
      ]
     },
     "execution_count": 18,
     "metadata": {},
     "output_type": "execute_result"
    }
   ],
   "source": [
    "df = pd.DataFrame({'age': [25, 30, 33, 28], \n",
    "                   'weight': [90, 80, 50, 55]}, \n",
    "                  index=['Mohammad', 'Nick', 'Hana', 'Anna'])\n",
    "df"
   ]
  },
  {
   "cell_type": "code",
   "execution_count": 19,
   "metadata": {},
   "outputs": [
    {
     "data": {
      "text/html": [
       "<div>\n",
       "<style scoped>\n",
       "    .dataframe tbody tr th:only-of-type {\n",
       "        vertical-align: middle;\n",
       "    }\n",
       "\n",
       "    .dataframe tbody tr th {\n",
       "        vertical-align: top;\n",
       "    }\n",
       "\n",
       "    .dataframe thead th {\n",
       "        text-align: right;\n",
       "    }\n",
       "</style>\n",
       "<table border=\"1\" class=\"dataframe\">\n",
       "  <thead>\n",
       "    <tr style=\"text-align: right;\">\n",
       "      <th></th>\n",
       "      <th>Age</th>\n",
       "      <th>Weight</th>\n",
       "    </tr>\n",
       "  </thead>\n",
       "  <tbody>\n",
       "    <tr>\n",
       "      <th>Mohammad</th>\n",
       "      <td>25</td>\n",
       "      <td>90</td>\n",
       "    </tr>\n",
       "    <tr>\n",
       "      <th>Nick</th>\n",
       "      <td>30</td>\n",
       "      <td>80</td>\n",
       "    </tr>\n",
       "    <tr>\n",
       "      <th>Hana</th>\n",
       "      <td>33</td>\n",
       "      <td>50</td>\n",
       "    </tr>\n",
       "    <tr>\n",
       "      <th>Anna</th>\n",
       "      <td>28</td>\n",
       "      <td>55</td>\n",
       "    </tr>\n",
       "  </tbody>\n",
       "</table>\n",
       "</div>"
      ],
      "text/plain": [
       "          Age  Weight\n",
       "Mohammad   25      90\n",
       "Nick       30      80\n",
       "Hana       33      50\n",
       "Anna       28      55"
      ]
     },
     "execution_count": 19,
     "metadata": {},
     "output_type": "execute_result"
    }
   ],
   "source": [
    "df = pd.DataFrame([[25, 90], \n",
    "                   [30, 80], \n",
    "                   [33, 50], \n",
    "                   [28, 55]], \n",
    "                  columns= ['Age', 'Weight'],\n",
    "                  index=['Mohammad', 'Nick', 'Hana', 'Anna'])\n",
    "df"
   ]
  },
  {
   "cell_type": "markdown",
   "metadata": {},
   "source": [
    "### Import data from csv file"
   ]
  },
  {
   "cell_type": "code",
   "execution_count": 20,
   "metadata": {},
   "outputs": [
    {
     "data": {
      "text/html": [
       "<div>\n",
       "<style scoped>\n",
       "    .dataframe tbody tr th:only-of-type {\n",
       "        vertical-align: middle;\n",
       "    }\n",
       "\n",
       "    .dataframe tbody tr th {\n",
       "        vertical-align: top;\n",
       "    }\n",
       "\n",
       "    .dataframe thead th {\n",
       "        text-align: right;\n",
       "    }\n",
       "</style>\n",
       "<table border=\"1\" class=\"dataframe\">\n",
       "  <thead>\n",
       "    <tr style=\"text-align: right;\">\n",
       "      <th></th>\n",
       "      <th>A</th>\n",
       "      <th>B</th>\n",
       "      <th>C</th>\n",
       "    </tr>\n",
       "  </thead>\n",
       "  <tbody>\n",
       "    <tr>\n",
       "      <th>D</th>\n",
       "      <td>1</td>\n",
       "      <td>4</td>\n",
       "      <td>7</td>\n",
       "    </tr>\n",
       "    <tr>\n",
       "      <th>E</th>\n",
       "      <td>2</td>\n",
       "      <td>5</td>\n",
       "      <td>8</td>\n",
       "    </tr>\n",
       "    <tr>\n",
       "      <th>F</th>\n",
       "      <td>3</td>\n",
       "      <td>6</td>\n",
       "      <td>9</td>\n",
       "    </tr>\n",
       "  </tbody>\n",
       "</table>\n",
       "</div>"
      ],
      "text/plain": [
       "   A  B  C\n",
       "D  1  4  7\n",
       "E  2  5  8\n",
       "F  3  6  9"
      ]
     },
     "execution_count": 20,
     "metadata": {},
     "output_type": "execute_result"
    }
   ],
   "source": [
    "pd.read_csv(\"csv_sample.csv\", index_col=0)"
   ]
  },
  {
   "cell_type": "markdown",
   "metadata": {},
   "source": [
    "### Import data from Exel sheet"
   ]
  },
  {
   "cell_type": "markdown",
   "metadata": {},
   "source": [
    "**NOTE**: We need to install a library called `xlrd`."
   ]
  },
  {
   "cell_type": "code",
   "execution_count": 21,
   "metadata": {},
   "outputs": [
    {
     "data": {
      "text/html": [
       "<div>\n",
       "<style scoped>\n",
       "    .dataframe tbody tr th:only-of-type {\n",
       "        vertical-align: middle;\n",
       "    }\n",
       "\n",
       "    .dataframe tbody tr th {\n",
       "        vertical-align: top;\n",
       "    }\n",
       "\n",
       "    .dataframe thead th {\n",
       "        text-align: right;\n",
       "    }\n",
       "</style>\n",
       "<table border=\"1\" class=\"dataframe\">\n",
       "  <thead>\n",
       "    <tr style=\"text-align: right;\">\n",
       "      <th></th>\n",
       "      <th>Unnamed: 0</th>\n",
       "      <th>A</th>\n",
       "      <th>B</th>\n",
       "      <th>C</th>\n",
       "    </tr>\n",
       "  </thead>\n",
       "  <tbody>\n",
       "    <tr>\n",
       "      <th>0</th>\n",
       "      <td>D</td>\n",
       "      <td>1</td>\n",
       "      <td>4</td>\n",
       "      <td>7</td>\n",
       "    </tr>\n",
       "    <tr>\n",
       "      <th>1</th>\n",
       "      <td>E</td>\n",
       "      <td>2</td>\n",
       "      <td>5</td>\n",
       "      <td>8</td>\n",
       "    </tr>\n",
       "    <tr>\n",
       "      <th>2</th>\n",
       "      <td>F</td>\n",
       "      <td>3</td>\n",
       "      <td>6</td>\n",
       "      <td>9</td>\n",
       "    </tr>\n",
       "  </tbody>\n",
       "</table>\n",
       "</div>"
      ],
      "text/plain": [
       "  Unnamed: 0  A  B  C\n",
       "0          D  1  4  7\n",
       "1          E  2  5  8\n",
       "2          F  3  6  9"
      ]
     },
     "execution_count": 21,
     "metadata": {},
     "output_type": "execute_result"
    }
   ],
   "source": [
    "pd.read_excel(\"excel_sample.xlsx\")"
   ]
  },
  {
   "cell_type": "markdown",
   "metadata": {},
   "source": [
    "## Writing Data to Files"
   ]
  },
  {
   "cell_type": "code",
   "execution_count": 329,
   "metadata": {},
   "outputs": [],
   "source": [
    "df = pd.DataFrame({'A': [1, 2, 3, 4, 5, 6, 7, 8, 9],\n",
    "                   'B': [9, 8, 7, 6, 5, 4, 3, 2, 1], \n",
    "                   'C': ['a', 'b', 'c', 'd', 'e', 'f', 'g', 'h', 'i']})"
   ]
  },
  {
   "cell_type": "code",
   "execution_count": 330,
   "metadata": {},
   "outputs": [],
   "source": [
    "df.to_csv(\"hello.csv\")"
   ]
  },
  {
   "cell_type": "markdown",
   "metadata": {},
   "source": [
    "Note that this generates a new column for th index. If we do not want the file to automatically generate a new column:"
   ]
  },
  {
   "cell_type": "code",
   "execution_count": 331,
   "metadata": {},
   "outputs": [],
   "source": [
    "df.to_csv(\"hello.csv\", index=False)"
   ]
  },
  {
   "cell_type": "markdown",
   "metadata": {},
   "source": [
    "---"
   ]
  },
  {
   "cell_type": "markdown",
   "metadata": {},
   "source": [
    "## Data Inspection"
   ]
  },
  {
   "cell_type": "code",
   "execution_count": 333,
   "metadata": {},
   "outputs": [
    {
     "data": {
      "text/html": [
       "<div>\n",
       "<style scoped>\n",
       "    .dataframe tbody tr th:only-of-type {\n",
       "        vertical-align: middle;\n",
       "    }\n",
       "\n",
       "    .dataframe tbody tr th {\n",
       "        vertical-align: top;\n",
       "    }\n",
       "\n",
       "    .dataframe thead th {\n",
       "        text-align: right;\n",
       "    }\n",
       "</style>\n",
       "<table border=\"1\" class=\"dataframe\">\n",
       "  <thead>\n",
       "    <tr style=\"text-align: right;\">\n",
       "      <th></th>\n",
       "      <th>A</th>\n",
       "      <th>B</th>\n",
       "      <th>C</th>\n",
       "    </tr>\n",
       "  </thead>\n",
       "  <tbody>\n",
       "    <tr>\n",
       "      <th>0</th>\n",
       "      <td>1</td>\n",
       "      <td>9</td>\n",
       "      <td>a</td>\n",
       "    </tr>\n",
       "    <tr>\n",
       "      <th>1</th>\n",
       "      <td>2</td>\n",
       "      <td>8</td>\n",
       "      <td>b</td>\n",
       "    </tr>\n",
       "    <tr>\n",
       "      <th>2</th>\n",
       "      <td>3</td>\n",
       "      <td>7</td>\n",
       "      <td>c</td>\n",
       "    </tr>\n",
       "    <tr>\n",
       "      <th>3</th>\n",
       "      <td>4</td>\n",
       "      <td>6</td>\n",
       "      <td>d</td>\n",
       "    </tr>\n",
       "    <tr>\n",
       "      <th>4</th>\n",
       "      <td>5</td>\n",
       "      <td>5</td>\n",
       "      <td>e</td>\n",
       "    </tr>\n",
       "    <tr>\n",
       "      <th>5</th>\n",
       "      <td>6</td>\n",
       "      <td>4</td>\n",
       "      <td>f</td>\n",
       "    </tr>\n",
       "    <tr>\n",
       "      <th>6</th>\n",
       "      <td>7</td>\n",
       "      <td>3</td>\n",
       "      <td>g</td>\n",
       "    </tr>\n",
       "  </tbody>\n",
       "</table>\n",
       "</div>"
      ],
      "text/plain": [
       "   A  B  C\n",
       "0  1  9  a\n",
       "1  2  8  b\n",
       "2  3  7  c\n",
       "3  4  6  d\n",
       "4  5  5  e\n",
       "5  6  4  f\n",
       "6  7  3  g"
      ]
     },
     "execution_count": 333,
     "metadata": {},
     "output_type": "execute_result"
    }
   ],
   "source": [
    "df.head(7)"
   ]
  },
  {
   "cell_type": "code",
   "execution_count": 334,
   "metadata": {},
   "outputs": [
    {
     "data": {
      "text/html": [
       "<div>\n",
       "<style scoped>\n",
       "    .dataframe tbody tr th:only-of-type {\n",
       "        vertical-align: middle;\n",
       "    }\n",
       "\n",
       "    .dataframe tbody tr th {\n",
       "        vertical-align: top;\n",
       "    }\n",
       "\n",
       "    .dataframe thead th {\n",
       "        text-align: right;\n",
       "    }\n",
       "</style>\n",
       "<table border=\"1\" class=\"dataframe\">\n",
       "  <thead>\n",
       "    <tr style=\"text-align: right;\">\n",
       "      <th></th>\n",
       "      <th>A</th>\n",
       "      <th>B</th>\n",
       "      <th>C</th>\n",
       "    </tr>\n",
       "  </thead>\n",
       "  <tbody>\n",
       "    <tr>\n",
       "      <th>6</th>\n",
       "      <td>7</td>\n",
       "      <td>3</td>\n",
       "      <td>g</td>\n",
       "    </tr>\n",
       "    <tr>\n",
       "      <th>7</th>\n",
       "      <td>8</td>\n",
       "      <td>2</td>\n",
       "      <td>h</td>\n",
       "    </tr>\n",
       "    <tr>\n",
       "      <th>8</th>\n",
       "      <td>9</td>\n",
       "      <td>1</td>\n",
       "      <td>i</td>\n",
       "    </tr>\n",
       "  </tbody>\n",
       "</table>\n",
       "</div>"
      ],
      "text/plain": [
       "   A  B  C\n",
       "6  7  3  g\n",
       "7  8  2  h\n",
       "8  9  1  i"
      ]
     },
     "execution_count": 334,
     "metadata": {},
     "output_type": "execute_result"
    }
   ],
   "source": [
    "df.tail(3)"
   ]
  },
  {
   "cell_type": "code",
   "execution_count": 335,
   "metadata": {},
   "outputs": [
    {
     "data": {
      "text/plain": [
       "(9, 3)"
      ]
     },
     "execution_count": 335,
     "metadata": {},
     "output_type": "execute_result"
    }
   ],
   "source": [
    "df.shape"
   ]
  },
  {
   "cell_type": "code",
   "execution_count": 336,
   "metadata": {},
   "outputs": [
    {
     "data": {
      "text/plain": [
       "9"
      ]
     },
     "execution_count": 336,
     "metadata": {},
     "output_type": "execute_result"
    }
   ],
   "source": [
    "len(df)"
   ]
  },
  {
   "cell_type": "code",
   "execution_count": 337,
   "metadata": {},
   "outputs": [
    {
     "data": {
      "text/plain": [
       "A     int64\n",
       "B     int64\n",
       "C    object\n",
       "dtype: object"
      ]
     },
     "execution_count": 337,
     "metadata": {},
     "output_type": "execute_result"
    }
   ],
   "source": [
    "df.dtypes"
   ]
  },
  {
   "cell_type": "code",
   "execution_count": 338,
   "metadata": {},
   "outputs": [
    {
     "data": {
      "text/html": [
       "<div>\n",
       "<style scoped>\n",
       "    .dataframe tbody tr th:only-of-type {\n",
       "        vertical-align: middle;\n",
       "    }\n",
       "\n",
       "    .dataframe tbody tr th {\n",
       "        vertical-align: top;\n",
       "    }\n",
       "\n",
       "    .dataframe thead th {\n",
       "        text-align: right;\n",
       "    }\n",
       "</style>\n",
       "<table border=\"1\" class=\"dataframe\">\n",
       "  <thead>\n",
       "    <tr style=\"text-align: right;\">\n",
       "      <th></th>\n",
       "      <th>A</th>\n",
       "      <th>B</th>\n",
       "    </tr>\n",
       "  </thead>\n",
       "  <tbody>\n",
       "    <tr>\n",
       "      <th>count</th>\n",
       "      <td>9.000000</td>\n",
       "      <td>9.000000</td>\n",
       "    </tr>\n",
       "    <tr>\n",
       "      <th>mean</th>\n",
       "      <td>5.000000</td>\n",
       "      <td>5.000000</td>\n",
       "    </tr>\n",
       "    <tr>\n",
       "      <th>std</th>\n",
       "      <td>2.738613</td>\n",
       "      <td>2.738613</td>\n",
       "    </tr>\n",
       "    <tr>\n",
       "      <th>min</th>\n",
       "      <td>1.000000</td>\n",
       "      <td>1.000000</td>\n",
       "    </tr>\n",
       "    <tr>\n",
       "      <th>25%</th>\n",
       "      <td>3.000000</td>\n",
       "      <td>3.000000</td>\n",
       "    </tr>\n",
       "    <tr>\n",
       "      <th>50%</th>\n",
       "      <td>5.000000</td>\n",
       "      <td>5.000000</td>\n",
       "    </tr>\n",
       "    <tr>\n",
       "      <th>75%</th>\n",
       "      <td>7.000000</td>\n",
       "      <td>7.000000</td>\n",
       "    </tr>\n",
       "    <tr>\n",
       "      <th>max</th>\n",
       "      <td>9.000000</td>\n",
       "      <td>9.000000</td>\n",
       "    </tr>\n",
       "  </tbody>\n",
       "</table>\n",
       "</div>"
      ],
      "text/plain": [
       "              A         B\n",
       "count  9.000000  9.000000\n",
       "mean   5.000000  5.000000\n",
       "std    2.738613  2.738613\n",
       "min    1.000000  1.000000\n",
       "25%    3.000000  3.000000\n",
       "50%    5.000000  5.000000\n",
       "75%    7.000000  7.000000\n",
       "max    9.000000  9.000000"
      ]
     },
     "execution_count": 338,
     "metadata": {},
     "output_type": "execute_result"
    }
   ],
   "source": [
    "df.describe()"
   ]
  },
  {
   "cell_type": "markdown",
   "metadata": {},
   "source": [
    "## Column to Numpy array"
   ]
  },
  {
   "cell_type": "markdown",
   "metadata": {},
   "source": [
    "A column can be selected in two ways:"
   ]
  },
  {
   "cell_type": "code",
   "execution_count": 339,
   "metadata": {},
   "outputs": [
    {
     "data": {
      "text/plain": [
       "0    1\n",
       "1    2\n",
       "2    3\n",
       "3    4\n",
       "4    5\n",
       "5    6\n",
       "6    7\n",
       "7    8\n",
       "8    9\n",
       "Name: A, dtype: int64"
      ]
     },
     "execution_count": 339,
     "metadata": {},
     "output_type": "execute_result"
    }
   ],
   "source": [
    "df['A']"
   ]
  },
  {
   "cell_type": "code",
   "execution_count": 340,
   "metadata": {},
   "outputs": [
    {
     "data": {
      "text/plain": [
       "0    1\n",
       "1    2\n",
       "2    3\n",
       "3    4\n",
       "4    5\n",
       "5    6\n",
       "6    7\n",
       "7    8\n",
       "8    9\n",
       "Name: A, dtype: int64"
      ]
     },
     "execution_count": 340,
     "metadata": {},
     "output_type": "execute_result"
    }
   ],
   "source": [
    "df.A"
   ]
  },
  {
   "cell_type": "markdown",
   "metadata": {},
   "source": [
    "This retruns a Pandas Series. We can change the column (Series) to a Numpy array by using the `.values` attribute:"
   ]
  },
  {
   "cell_type": "code",
   "execution_count": 341,
   "metadata": {},
   "outputs": [
    {
     "data": {
      "text/plain": [
       "array([1, 2, 3, 4, 5, 6, 7, 8, 9])"
      ]
     },
     "execution_count": 341,
     "metadata": {},
     "output_type": "execute_result"
    }
   ],
   "source": [
    "df.A.values"
   ]
  },
  {
   "cell_type": "markdown",
   "metadata": {},
   "source": [
    "---"
   ]
  },
  {
   "cell_type": "markdown",
   "metadata": {},
   "source": [
    "## Exercise 2.6"
   ]
  },
  {
   "cell_type": "markdown",
   "metadata": {},
   "source": [
    "---"
   ]
  },
  {
   "cell_type": "markdown",
   "metadata": {},
   "source": [
    "# Day 3"
   ]
  },
  {
   "cell_type": "markdown",
   "metadata": {},
   "source": [
    "## Data Selection: Column-wise"
   ]
  },
  {
   "cell_type": "markdown",
   "metadata": {},
   "source": [
    "We can select specific columns to show:"
   ]
  },
  {
   "cell_type": "code",
   "execution_count": 77,
   "metadata": {},
   "outputs": [
    {
     "data": {
      "text/html": [
       "<div>\n",
       "<style scoped>\n",
       "    .dataframe tbody tr th:only-of-type {\n",
       "        vertical-align: middle;\n",
       "    }\n",
       "\n",
       "    .dataframe tbody tr th {\n",
       "        vertical-align: top;\n",
       "    }\n",
       "\n",
       "    .dataframe thead th {\n",
       "        text-align: right;\n",
       "    }\n",
       "</style>\n",
       "<table border=\"1\" class=\"dataframe\">\n",
       "  <thead>\n",
       "    <tr style=\"text-align: right;\">\n",
       "      <th></th>\n",
       "      <th>name</th>\n",
       "      <th>MPI</th>\n",
       "      <th>age</th>\n",
       "    </tr>\n",
       "  </thead>\n",
       "  <tbody>\n",
       "    <tr>\n",
       "      <th>0</th>\n",
       "      <td>Paul Wong</td>\n",
       "      <td>Biochem</td>\n",
       "      <td>26.719182</td>\n",
       "    </tr>\n",
       "    <tr>\n",
       "      <th>1</th>\n",
       "      <td>Tyler Lopez</td>\n",
       "      <td>Neuro</td>\n",
       "      <td>36.479622</td>\n",
       "    </tr>\n",
       "    <tr>\n",
       "      <th>2</th>\n",
       "      <td>Suzanne Miller</td>\n",
       "      <td>Neuro</td>\n",
       "      <td>29.250290</td>\n",
       "    </tr>\n",
       "    <tr>\n",
       "      <th>3</th>\n",
       "      <td>Rebecca Russo</td>\n",
       "      <td>Neuro</td>\n",
       "      <td>29.037500</td>\n",
       "    </tr>\n",
       "    <tr>\n",
       "      <th>4</th>\n",
       "      <td>Timothy Chapman</td>\n",
       "      <td>Biochem</td>\n",
       "      <td>26.946125</td>\n",
       "    </tr>\n",
       "  </tbody>\n",
       "</table>\n",
       "</div>"
      ],
      "text/plain": [
       "              name      MPI        age\n",
       "0        Paul Wong  Biochem  26.719182\n",
       "1      Tyler Lopez    Neuro  36.479622\n",
       "2   Suzanne Miller    Neuro  29.250290\n",
       "3    Rebecca Russo    Neuro  29.037500\n",
       "4  Timothy Chapman  Biochem  26.946125"
      ]
     },
     "execution_count": 77,
     "metadata": {},
     "output_type": "execute_result"
    }
   ],
   "source": [
    "df[['name', 'MPI', 'age']].head()"
   ]
  },
  {
   "cell_type": "markdown",
   "metadata": {},
   "source": [
    "We can also get all of the Columns:"
   ]
  },
  {
   "cell_type": "code",
   "execution_count": 78,
   "metadata": {},
   "outputs": [
    {
     "data": {
      "text/plain": [
       "Index(['name', 'sex', 'from_Germany', 'MPI', 'age', 'papers', 'citations',\n",
       "       'colleagues', 'coffees', 'ranking'],\n",
       "      dtype='object')"
      ]
     },
     "execution_count": 78,
     "metadata": {},
     "output_type": "execute_result"
    }
   ],
   "source": [
    "df.columns"
   ]
  },
  {
   "cell_type": "markdown",
   "metadata": {},
   "source": [
    "And once we have all the columns we can use indexing to select columns:"
   ]
  },
  {
   "cell_type": "code",
   "execution_count": 79,
   "metadata": {},
   "outputs": [
    {
     "data": {
      "text/html": [
       "<div>\n",
       "<style scoped>\n",
       "    .dataframe tbody tr th:only-of-type {\n",
       "        vertical-align: middle;\n",
       "    }\n",
       "\n",
       "    .dataframe tbody tr th {\n",
       "        vertical-align: top;\n",
       "    }\n",
       "\n",
       "    .dataframe thead th {\n",
       "        text-align: right;\n",
       "    }\n",
       "</style>\n",
       "<table border=\"1\" class=\"dataframe\">\n",
       "  <thead>\n",
       "    <tr style=\"text-align: right;\">\n",
       "      <th></th>\n",
       "      <th>name</th>\n",
       "      <th>sex</th>\n",
       "      <th>from_Germany</th>\n",
       "      <th>MPI</th>\n",
       "      <th>age</th>\n",
       "    </tr>\n",
       "  </thead>\n",
       "  <tbody>\n",
       "    <tr>\n",
       "      <th>0</th>\n",
       "      <td>Paul Wong</td>\n",
       "      <td>Female</td>\n",
       "      <td>True</td>\n",
       "      <td>Biochem</td>\n",
       "      <td>26.719182</td>\n",
       "    </tr>\n",
       "    <tr>\n",
       "      <th>1</th>\n",
       "      <td>Tyler Lopez</td>\n",
       "      <td>Male</td>\n",
       "      <td>False</td>\n",
       "      <td>Neuro</td>\n",
       "      <td>36.479622</td>\n",
       "    </tr>\n",
       "    <tr>\n",
       "      <th>2</th>\n",
       "      <td>Suzanne Miller</td>\n",
       "      <td>Male</td>\n",
       "      <td>False</td>\n",
       "      <td>Neuro</td>\n",
       "      <td>29.250290</td>\n",
       "    </tr>\n",
       "    <tr>\n",
       "      <th>3</th>\n",
       "      <td>Rebecca Russo</td>\n",
       "      <td>Female</td>\n",
       "      <td>False</td>\n",
       "      <td>Neuro</td>\n",
       "      <td>29.037500</td>\n",
       "    </tr>\n",
       "    <tr>\n",
       "      <th>4</th>\n",
       "      <td>Timothy Chapman</td>\n",
       "      <td>Male</td>\n",
       "      <td>True</td>\n",
       "      <td>Biochem</td>\n",
       "      <td>26.946125</td>\n",
       "    </tr>\n",
       "  </tbody>\n",
       "</table>\n",
       "</div>"
      ],
      "text/plain": [
       "              name     sex  from_Germany      MPI        age\n",
       "0        Paul Wong  Female          True  Biochem  26.719182\n",
       "1      Tyler Lopez    Male         False    Neuro  36.479622\n",
       "2   Suzanne Miller    Male         False    Neuro  29.250290\n",
       "3    Rebecca Russo  Female         False    Neuro  29.037500\n",
       "4  Timothy Chapman    Male          True  Biochem  26.946125"
      ]
     },
     "execution_count": 79,
     "metadata": {},
     "output_type": "execute_result"
    }
   ],
   "source": [
    "df[df.columns[:5]].head()"
   ]
  },
  {
   "cell_type": "markdown",
   "metadata": {},
   "source": [
    "## Data Selection: Row-wise\n",
    "\n",
    "Row-wise indexing can be done in two ways:\n",
    "    - via the index value\n",
    "    - via the numbered location of the row, row number 10 for example\n",
    "    \n",
    "`.iloc`: to index rows with numbered location <br>\n",
    "`.loc`: to index rows with idex value\n",
    "\n",
    "For this purpose, let's change the index value of our DataFrame. So we are gonna import it differently:"
   ]
  },
  {
   "cell_type": "code",
   "execution_count": 105,
   "metadata": {},
   "outputs": [],
   "source": [
    "df = pd.read_csv('MPI-info.csv', index_col='name')"
   ]
  },
  {
   "cell_type": "code",
   "execution_count": 106,
   "metadata": {},
   "outputs": [
    {
     "data": {
      "text/html": [
       "<div>\n",
       "<style scoped>\n",
       "    .dataframe tbody tr th:only-of-type {\n",
       "        vertical-align: middle;\n",
       "    }\n",
       "\n",
       "    .dataframe tbody tr th {\n",
       "        vertical-align: top;\n",
       "    }\n",
       "\n",
       "    .dataframe thead th {\n",
       "        text-align: right;\n",
       "    }\n",
       "</style>\n",
       "<table border=\"1\" class=\"dataframe\">\n",
       "  <thead>\n",
       "    <tr style=\"text-align: right;\">\n",
       "      <th></th>\n",
       "      <th>sex</th>\n",
       "      <th>from_Germany</th>\n",
       "      <th>MPI</th>\n",
       "      <th>age</th>\n",
       "      <th>papers</th>\n",
       "      <th>citations</th>\n",
       "      <th>colleagues</th>\n",
       "      <th>coffees</th>\n",
       "      <th>ranking</th>\n",
       "    </tr>\n",
       "    <tr>\n",
       "      <th>name</th>\n",
       "      <th></th>\n",
       "      <th></th>\n",
       "      <th></th>\n",
       "      <th></th>\n",
       "      <th></th>\n",
       "      <th></th>\n",
       "      <th></th>\n",
       "      <th></th>\n",
       "      <th></th>\n",
       "    </tr>\n",
       "  </thead>\n",
       "  <tbody>\n",
       "    <tr>\n",
       "      <th>Paul Wong</th>\n",
       "      <td>Female</td>\n",
       "      <td>True</td>\n",
       "      <td>Biochem</td>\n",
       "      <td>26.719182</td>\n",
       "      <td>11</td>\n",
       "      <td>80</td>\n",
       "      <td>4</td>\n",
       "      <td>0</td>\n",
       "      <td>82</td>\n",
       "    </tr>\n",
       "    <tr>\n",
       "      <th>Tyler Lopez</th>\n",
       "      <td>Male</td>\n",
       "      <td>False</td>\n",
       "      <td>Neuro</td>\n",
       "      <td>36.479622</td>\n",
       "      <td>15</td>\n",
       "      <td>219</td>\n",
       "      <td>6</td>\n",
       "      <td>7</td>\n",
       "      <td>74</td>\n",
       "    </tr>\n",
       "    <tr>\n",
       "      <th>Suzanne Miller</th>\n",
       "      <td>Male</td>\n",
       "      <td>False</td>\n",
       "      <td>Neuro</td>\n",
       "      <td>29.250290</td>\n",
       "      <td>14</td>\n",
       "      <td>174</td>\n",
       "      <td>5</td>\n",
       "      <td>5</td>\n",
       "      <td>46</td>\n",
       "    </tr>\n",
       "    <tr>\n",
       "      <th>Rebecca Russo</th>\n",
       "      <td>Female</td>\n",
       "      <td>False</td>\n",
       "      <td>Neuro</td>\n",
       "      <td>29.037500</td>\n",
       "      <td>7</td>\n",
       "      <td>137</td>\n",
       "      <td>3</td>\n",
       "      <td>0</td>\n",
       "      <td>261</td>\n",
       "    </tr>\n",
       "    <tr>\n",
       "      <th>Timothy Chapman</th>\n",
       "      <td>Male</td>\n",
       "      <td>True</td>\n",
       "      <td>Biochem</td>\n",
       "      <td>26.946125</td>\n",
       "      <td>9</td>\n",
       "      <td>55</td>\n",
       "      <td>3</td>\n",
       "      <td>7</td>\n",
       "      <td>186</td>\n",
       "    </tr>\n",
       "  </tbody>\n",
       "</table>\n",
       "</div>"
      ],
      "text/plain": [
       "                    sex  from_Germany      MPI        age  papers  citations  \\\n",
       "name                                                                           \n",
       "Paul Wong        Female          True  Biochem  26.719182      11         80   \n",
       "Tyler Lopez        Male         False    Neuro  36.479622      15        219   \n",
       "Suzanne Miller     Male         False    Neuro  29.250290      14        174   \n",
       "Rebecca Russo    Female         False    Neuro  29.037500       7        137   \n",
       "Timothy Chapman    Male          True  Biochem  26.946125       9         55   \n",
       "\n",
       "                 colleagues  coffees  ranking  \n",
       "name                                           \n",
       "Paul Wong                 4        0       82  \n",
       "Tyler Lopez               6        7       74  \n",
       "Suzanne Miller            5        5       46  \n",
       "Rebecca Russo             3        0      261  \n",
       "Timothy Chapman           3        7      186  "
      ]
     },
     "execution_count": 106,
     "metadata": {},
     "output_type": "execute_result"
    }
   ],
   "source": [
    "df.head()"
   ]
  },
  {
   "cell_type": "code",
   "execution_count": 107,
   "metadata": {},
   "outputs": [
    {
     "data": {
      "text/html": [
       "<div>\n",
       "<style scoped>\n",
       "    .dataframe tbody tr th:only-of-type {\n",
       "        vertical-align: middle;\n",
       "    }\n",
       "\n",
       "    .dataframe tbody tr th {\n",
       "        vertical-align: top;\n",
       "    }\n",
       "\n",
       "    .dataframe thead th {\n",
       "        text-align: right;\n",
       "    }\n",
       "</style>\n",
       "<table border=\"1\" class=\"dataframe\">\n",
       "  <thead>\n",
       "    <tr style=\"text-align: right;\">\n",
       "      <th></th>\n",
       "      <th>sex</th>\n",
       "      <th>from_Germany</th>\n",
       "      <th>MPI</th>\n",
       "      <th>age</th>\n",
       "      <th>papers</th>\n",
       "      <th>citations</th>\n",
       "      <th>colleagues</th>\n",
       "      <th>coffees</th>\n",
       "      <th>ranking</th>\n",
       "    </tr>\n",
       "    <tr>\n",
       "      <th>name</th>\n",
       "      <th></th>\n",
       "      <th></th>\n",
       "      <th></th>\n",
       "      <th></th>\n",
       "      <th></th>\n",
       "      <th></th>\n",
       "      <th></th>\n",
       "      <th></th>\n",
       "      <th></th>\n",
       "    </tr>\n",
       "  </thead>\n",
       "  <tbody>\n",
       "    <tr>\n",
       "      <th>Paul Wong</th>\n",
       "      <td>Female</td>\n",
       "      <td>True</td>\n",
       "      <td>Biochem</td>\n",
       "      <td>26.719182</td>\n",
       "      <td>11</td>\n",
       "      <td>80</td>\n",
       "      <td>4</td>\n",
       "      <td>0</td>\n",
       "      <td>82</td>\n",
       "    </tr>\n",
       "    <tr>\n",
       "      <th>Tyler Lopez</th>\n",
       "      <td>Male</td>\n",
       "      <td>False</td>\n",
       "      <td>Neuro</td>\n",
       "      <td>36.479622</td>\n",
       "      <td>15</td>\n",
       "      <td>219</td>\n",
       "      <td>6</td>\n",
       "      <td>7</td>\n",
       "      <td>74</td>\n",
       "    </tr>\n",
       "    <tr>\n",
       "      <th>Suzanne Miller</th>\n",
       "      <td>Male</td>\n",
       "      <td>False</td>\n",
       "      <td>Neuro</td>\n",
       "      <td>29.250290</td>\n",
       "      <td>14</td>\n",
       "      <td>174</td>\n",
       "      <td>5</td>\n",
       "      <td>5</td>\n",
       "      <td>46</td>\n",
       "    </tr>\n",
       "  </tbody>\n",
       "</table>\n",
       "</div>"
      ],
      "text/plain": [
       "                   sex  from_Germany      MPI        age  papers  citations  \\\n",
       "name                                                                          \n",
       "Paul Wong       Female          True  Biochem  26.719182      11         80   \n",
       "Tyler Lopez       Male         False    Neuro  36.479622      15        219   \n",
       "Suzanne Miller    Male         False    Neuro  29.250290      14        174   \n",
       "\n",
       "                colleagues  coffees  ranking  \n",
       "name                                          \n",
       "Paul Wong                4        0       82  \n",
       "Tyler Lopez              6        7       74  \n",
       "Suzanne Miller           5        5       46  "
      ]
     },
     "execution_count": 107,
     "metadata": {},
     "output_type": "execute_result"
    }
   ],
   "source": [
    "df.loc['Paul Wong': 'Suzanne Miller']"
   ]
  },
  {
   "cell_type": "code",
   "execution_count": 108,
   "metadata": {},
   "outputs": [
    {
     "data": {
      "text/html": [
       "<div>\n",
       "<style scoped>\n",
       "    .dataframe tbody tr th:only-of-type {\n",
       "        vertical-align: middle;\n",
       "    }\n",
       "\n",
       "    .dataframe tbody tr th {\n",
       "        vertical-align: top;\n",
       "    }\n",
       "\n",
       "    .dataframe thead th {\n",
       "        text-align: right;\n",
       "    }\n",
       "</style>\n",
       "<table border=\"1\" class=\"dataframe\">\n",
       "  <thead>\n",
       "    <tr style=\"text-align: right;\">\n",
       "      <th></th>\n",
       "      <th>sex</th>\n",
       "      <th>from_Germany</th>\n",
       "      <th>MPI</th>\n",
       "      <th>age</th>\n",
       "      <th>papers</th>\n",
       "      <th>citations</th>\n",
       "      <th>colleagues</th>\n",
       "      <th>coffees</th>\n",
       "      <th>ranking</th>\n",
       "    </tr>\n",
       "    <tr>\n",
       "      <th>name</th>\n",
       "      <th></th>\n",
       "      <th></th>\n",
       "      <th></th>\n",
       "      <th></th>\n",
       "      <th></th>\n",
       "      <th></th>\n",
       "      <th></th>\n",
       "      <th></th>\n",
       "      <th></th>\n",
       "    </tr>\n",
       "  </thead>\n",
       "  <tbody>\n",
       "    <tr>\n",
       "      <th>Paul Wong</th>\n",
       "      <td>Female</td>\n",
       "      <td>True</td>\n",
       "      <td>Biochem</td>\n",
       "      <td>26.719182</td>\n",
       "      <td>11</td>\n",
       "      <td>80</td>\n",
       "      <td>4</td>\n",
       "      <td>0</td>\n",
       "      <td>82</td>\n",
       "    </tr>\n",
       "    <tr>\n",
       "      <th>Tyler Lopez</th>\n",
       "      <td>Male</td>\n",
       "      <td>False</td>\n",
       "      <td>Neuro</td>\n",
       "      <td>36.479622</td>\n",
       "      <td>15</td>\n",
       "      <td>219</td>\n",
       "      <td>6</td>\n",
       "      <td>7</td>\n",
       "      <td>74</td>\n",
       "    </tr>\n",
       "    <tr>\n",
       "      <th>Suzanne Miller</th>\n",
       "      <td>Male</td>\n",
       "      <td>False</td>\n",
       "      <td>Neuro</td>\n",
       "      <td>29.250290</td>\n",
       "      <td>14</td>\n",
       "      <td>174</td>\n",
       "      <td>5</td>\n",
       "      <td>5</td>\n",
       "      <td>46</td>\n",
       "    </tr>\n",
       "  </tbody>\n",
       "</table>\n",
       "</div>"
      ],
      "text/plain": [
       "                   sex  from_Germany      MPI        age  papers  citations  \\\n",
       "name                                                                          \n",
       "Paul Wong       Female          True  Biochem  26.719182      11         80   \n",
       "Tyler Lopez       Male         False    Neuro  36.479622      15        219   \n",
       "Suzanne Miller    Male         False    Neuro  29.250290      14        174   \n",
       "\n",
       "                colleagues  coffees  ranking  \n",
       "name                                          \n",
       "Paul Wong                4        0       82  \n",
       "Tyler Lopez              6        7       74  \n",
       "Suzanne Miller           5        5       46  "
      ]
     },
     "execution_count": 108,
     "metadata": {},
     "output_type": "execute_result"
    }
   ],
   "source": [
    "df.iloc[0:3]"
   ]
  },
  {
   "cell_type": "markdown",
   "metadata": {},
   "source": [
    "## How to combine selection of the rows and columns?"
   ]
  },
  {
   "cell_type": "code",
   "execution_count": 109,
   "metadata": {},
   "outputs": [
    {
     "data": {
      "text/plain": [
       "'Neuro'"
      ]
     },
     "execution_count": 109,
     "metadata": {},
     "output_type": "execute_result"
    }
   ],
   "source": [
    "df.loc['Tyler Lopez', 'MPI']"
   ]
  },
  {
   "cell_type": "code",
   "execution_count": 110,
   "metadata": {},
   "outputs": [
    {
     "data": {
      "text/plain": [
       "'Neuro'"
      ]
     },
     "execution_count": 110,
     "metadata": {},
     "output_type": "execute_result"
    }
   ],
   "source": [
    "df.iloc[1]['MPI']"
   ]
  },
  {
   "cell_type": "markdown",
   "metadata": {},
   "source": [
    "## More than columns and/or rows?"
   ]
  },
  {
   "cell_type": "code",
   "execution_count": 111,
   "metadata": {},
   "outputs": [
    {
     "data": {
      "text/html": [
       "<div>\n",
       "<style scoped>\n",
       "    .dataframe tbody tr th:only-of-type {\n",
       "        vertical-align: middle;\n",
       "    }\n",
       "\n",
       "    .dataframe tbody tr th {\n",
       "        vertical-align: top;\n",
       "    }\n",
       "\n",
       "    .dataframe thead th {\n",
       "        text-align: right;\n",
       "    }\n",
       "</style>\n",
       "<table border=\"1\" class=\"dataframe\">\n",
       "  <thead>\n",
       "    <tr style=\"text-align: right;\">\n",
       "      <th></th>\n",
       "      <th>sex</th>\n",
       "      <th>from_Germany</th>\n",
       "      <th>MPI</th>\n",
       "    </tr>\n",
       "    <tr>\n",
       "      <th>name</th>\n",
       "      <th></th>\n",
       "      <th></th>\n",
       "      <th></th>\n",
       "    </tr>\n",
       "  </thead>\n",
       "  <tbody>\n",
       "    <tr>\n",
       "      <th>Paul Wong</th>\n",
       "      <td>Female</td>\n",
       "      <td>True</td>\n",
       "      <td>Biochem</td>\n",
       "    </tr>\n",
       "    <tr>\n",
       "      <th>Tyler Lopez</th>\n",
       "      <td>Male</td>\n",
       "      <td>False</td>\n",
       "      <td>Neuro</td>\n",
       "    </tr>\n",
       "    <tr>\n",
       "      <th>Suzanne Miller</th>\n",
       "      <td>Male</td>\n",
       "      <td>False</td>\n",
       "      <td>Neuro</td>\n",
       "    </tr>\n",
       "  </tbody>\n",
       "</table>\n",
       "</div>"
      ],
      "text/plain": [
       "                   sex  from_Germany      MPI\n",
       "name                                         \n",
       "Paul Wong       Female          True  Biochem\n",
       "Tyler Lopez       Male         False    Neuro\n",
       "Suzanne Miller    Male         False    Neuro"
      ]
     },
     "execution_count": 111,
     "metadata": {},
     "output_type": "execute_result"
    }
   ],
   "source": [
    "df.loc['Paul Wong': 'Suzanne Miller', 'sex': 'MPI']"
   ]
  },
  {
   "cell_type": "code",
   "execution_count": 112,
   "metadata": {},
   "outputs": [
    {
     "data": {
      "text/html": [
       "<div>\n",
       "<style scoped>\n",
       "    .dataframe tbody tr th:only-of-type {\n",
       "        vertical-align: middle;\n",
       "    }\n",
       "\n",
       "    .dataframe tbody tr th {\n",
       "        vertical-align: top;\n",
       "    }\n",
       "\n",
       "    .dataframe thead th {\n",
       "        text-align: right;\n",
       "    }\n",
       "</style>\n",
       "<table border=\"1\" class=\"dataframe\">\n",
       "  <thead>\n",
       "    <tr style=\"text-align: right;\">\n",
       "      <th></th>\n",
       "      <th>sex</th>\n",
       "      <th>MPI</th>\n",
       "      <th>papers</th>\n",
       "    </tr>\n",
       "    <tr>\n",
       "      <th>name</th>\n",
       "      <th></th>\n",
       "      <th></th>\n",
       "      <th></th>\n",
       "    </tr>\n",
       "  </thead>\n",
       "  <tbody>\n",
       "    <tr>\n",
       "      <th>Paul Wong</th>\n",
       "      <td>Female</td>\n",
       "      <td>Biochem</td>\n",
       "      <td>11</td>\n",
       "    </tr>\n",
       "    <tr>\n",
       "      <th>Suzanne Miller</th>\n",
       "      <td>Male</td>\n",
       "      <td>Neuro</td>\n",
       "      <td>14</td>\n",
       "    </tr>\n",
       "  </tbody>\n",
       "</table>\n",
       "</div>"
      ],
      "text/plain": [
       "                   sex      MPI  papers\n",
       "name                                   \n",
       "Paul Wong       Female  Biochem      11\n",
       "Suzanne Miller    Male    Neuro      14"
      ]
     },
     "execution_count": 112,
     "metadata": {},
     "output_type": "execute_result"
    }
   ],
   "source": [
    "df.loc[['Paul Wong', 'Suzanne Miller'], ['sex', 'MPI', 'papers']]"
   ]
  },
  {
   "cell_type": "markdown",
   "metadata": {},
   "source": [
    "### Masking"
   ]
  },
  {
   "cell_type": "code",
   "execution_count": 183,
   "metadata": {},
   "outputs": [
    {
     "data": {
      "text/html": [
       "<div>\n",
       "<style scoped>\n",
       "    .dataframe tbody tr th:only-of-type {\n",
       "        vertical-align: middle;\n",
       "    }\n",
       "\n",
       "    .dataframe tbody tr th {\n",
       "        vertical-align: top;\n",
       "    }\n",
       "\n",
       "    .dataframe thead th {\n",
       "        text-align: right;\n",
       "    }\n",
       "</style>\n",
       "<table border=\"1\" class=\"dataframe\">\n",
       "  <thead>\n",
       "    <tr style=\"text-align: right;\">\n",
       "      <th></th>\n",
       "      <th>name</th>\n",
       "      <th>sex</th>\n",
       "      <th>from_Germany</th>\n",
       "      <th>MPI</th>\n",
       "      <th>age</th>\n",
       "      <th>papers</th>\n",
       "      <th>citations</th>\n",
       "      <th>colleagues</th>\n",
       "      <th>coffees</th>\n",
       "      <th>citations_per_paper</th>\n",
       "    </tr>\n",
       "    <tr>\n",
       "      <th>ranking</th>\n",
       "      <th></th>\n",
       "      <th></th>\n",
       "      <th></th>\n",
       "      <th></th>\n",
       "      <th></th>\n",
       "      <th></th>\n",
       "      <th></th>\n",
       "      <th></th>\n",
       "      <th></th>\n",
       "      <th></th>\n",
       "    </tr>\n",
       "  </thead>\n",
       "  <tbody>\n",
       "    <tr>\n",
       "      <th>1</th>\n",
       "      <td>Melissa Lee</td>\n",
       "      <td>Male</td>\n",
       "      <td>False</td>\n",
       "      <td>Neuro</td>\n",
       "      <td>36.284564</td>\n",
       "      <td>21</td>\n",
       "      <td>325</td>\n",
       "      <td>9</td>\n",
       "      <td>11</td>\n",
       "      <td>15.476190</td>\n",
       "    </tr>\n",
       "    <tr>\n",
       "      <th>2</th>\n",
       "      <td>David Cabrera</td>\n",
       "      <td>Male</td>\n",
       "      <td>False</td>\n",
       "      <td>Neuro</td>\n",
       "      <td>36.454276</td>\n",
       "      <td>21</td>\n",
       "      <td>309</td>\n",
       "      <td>9</td>\n",
       "      <td>11</td>\n",
       "      <td>14.714286</td>\n",
       "    </tr>\n",
       "    <tr>\n",
       "      <th>5</th>\n",
       "      <td>Richard Carter</td>\n",
       "      <td>Male</td>\n",
       "      <td>False</td>\n",
       "      <td>Neuro</td>\n",
       "      <td>36.517136</td>\n",
       "      <td>20</td>\n",
       "      <td>371</td>\n",
       "      <td>9</td>\n",
       "      <td>10</td>\n",
       "      <td>18.550000</td>\n",
       "    </tr>\n",
       "    <tr>\n",
       "      <th>6</th>\n",
       "      <td>Yesenia Rodriguez</td>\n",
       "      <td>Male</td>\n",
       "      <td>False</td>\n",
       "      <td>Neuro</td>\n",
       "      <td>35.006498</td>\n",
       "      <td>19</td>\n",
       "      <td>291</td>\n",
       "      <td>8</td>\n",
       "      <td>5</td>\n",
       "      <td>15.315789</td>\n",
       "    </tr>\n",
       "    <tr>\n",
       "      <th>14</th>\n",
       "      <td>Matthew Davis</td>\n",
       "      <td>Male</td>\n",
       "      <td>False</td>\n",
       "      <td>Neuro</td>\n",
       "      <td>39.549952</td>\n",
       "      <td>19</td>\n",
       "      <td>299</td>\n",
       "      <td>8</td>\n",
       "      <td>6</td>\n",
       "      <td>15.736842</td>\n",
       "    </tr>\n",
       "    <tr>\n",
       "      <th>15</th>\n",
       "      <td>Joseph Campbell</td>\n",
       "      <td>Male</td>\n",
       "      <td>False</td>\n",
       "      <td>Neuro</td>\n",
       "      <td>39.618615</td>\n",
       "      <td>19</td>\n",
       "      <td>336</td>\n",
       "      <td>9</td>\n",
       "      <td>8</td>\n",
       "      <td>17.684211</td>\n",
       "    </tr>\n",
       "    <tr>\n",
       "      <th>17</th>\n",
       "      <td>Carolyn Martinez</td>\n",
       "      <td>Male</td>\n",
       "      <td>False</td>\n",
       "      <td>Neuro</td>\n",
       "      <td>38.788083</td>\n",
       "      <td>19</td>\n",
       "      <td>354</td>\n",
       "      <td>9</td>\n",
       "      <td>11</td>\n",
       "      <td>18.631579</td>\n",
       "    </tr>\n",
       "    <tr>\n",
       "      <th>22</th>\n",
       "      <td>Amber Grant</td>\n",
       "      <td>Male</td>\n",
       "      <td>False</td>\n",
       "      <td>Neuro</td>\n",
       "      <td>40.758882</td>\n",
       "      <td>19</td>\n",
       "      <td>263</td>\n",
       "      <td>8</td>\n",
       "      <td>9</td>\n",
       "      <td>13.842105</td>\n",
       "    </tr>\n",
       "  </tbody>\n",
       "</table>\n",
       "</div>"
      ],
      "text/plain": [
       "                      name   sex  from_Germany    MPI        age  papers  \\\n",
       "ranking                                                                    \n",
       "1              Melissa Lee  Male         False  Neuro  36.284564      21   \n",
       "2            David Cabrera  Male         False  Neuro  36.454276      21   \n",
       "5           Richard Carter  Male         False  Neuro  36.517136      20   \n",
       "6        Yesenia Rodriguez  Male         False  Neuro  35.006498      19   \n",
       "14           Matthew Davis  Male         False  Neuro  39.549952      19   \n",
       "15         Joseph Campbell  Male         False  Neuro  39.618615      19   \n",
       "17        Carolyn Martinez  Male         False  Neuro  38.788083      19   \n",
       "22             Amber Grant  Male         False  Neuro  40.758882      19   \n",
       "\n",
       "         citations  colleagues  coffees  citations_per_paper  \n",
       "ranking                                                       \n",
       "1              325           9       11            15.476190  \n",
       "2              309           9       11            14.714286  \n",
       "5              371           9       10            18.550000  \n",
       "6              291           8        5            15.315789  \n",
       "14             299           8        6            15.736842  \n",
       "15             336           9        8            17.684211  \n",
       "17             354           9       11            18.631579  \n",
       "22             263           8        9            13.842105  "
      ]
     },
     "execution_count": 183,
     "metadata": {},
     "output_type": "execute_result"
    }
   ],
   "source": [
    "df[df.papers > 18]"
   ]
  },
  {
   "cell_type": "markdown",
   "metadata": {},
   "source": [
    "For a more concise (and readable) syntax, we can use the `query` method to perform selection on a `DataFrame`. Instead of having to type the fully-specified column, we can simply pass a string that describes what to select. The query above is then simply:"
   ]
  },
  {
   "cell_type": "code",
   "execution_count": 184,
   "metadata": {},
   "outputs": [
    {
     "data": {
      "text/html": [
       "<div>\n",
       "<style scoped>\n",
       "    .dataframe tbody tr th:only-of-type {\n",
       "        vertical-align: middle;\n",
       "    }\n",
       "\n",
       "    .dataframe tbody tr th {\n",
       "        vertical-align: top;\n",
       "    }\n",
       "\n",
       "    .dataframe thead th {\n",
       "        text-align: right;\n",
       "    }\n",
       "</style>\n",
       "<table border=\"1\" class=\"dataframe\">\n",
       "  <thead>\n",
       "    <tr style=\"text-align: right;\">\n",
       "      <th></th>\n",
       "      <th>name</th>\n",
       "      <th>sex</th>\n",
       "      <th>from_Germany</th>\n",
       "      <th>MPI</th>\n",
       "      <th>age</th>\n",
       "      <th>papers</th>\n",
       "      <th>citations</th>\n",
       "      <th>colleagues</th>\n",
       "      <th>coffees</th>\n",
       "      <th>citations_per_paper</th>\n",
       "    </tr>\n",
       "    <tr>\n",
       "      <th>ranking</th>\n",
       "      <th></th>\n",
       "      <th></th>\n",
       "      <th></th>\n",
       "      <th></th>\n",
       "      <th></th>\n",
       "      <th></th>\n",
       "      <th></th>\n",
       "      <th></th>\n",
       "      <th></th>\n",
       "      <th></th>\n",
       "    </tr>\n",
       "  </thead>\n",
       "  <tbody>\n",
       "    <tr>\n",
       "      <th>1</th>\n",
       "      <td>Melissa Lee</td>\n",
       "      <td>Male</td>\n",
       "      <td>False</td>\n",
       "      <td>Neuro</td>\n",
       "      <td>36.284564</td>\n",
       "      <td>21</td>\n",
       "      <td>325</td>\n",
       "      <td>9</td>\n",
       "      <td>11</td>\n",
       "      <td>15.476190</td>\n",
       "    </tr>\n",
       "    <tr>\n",
       "      <th>2</th>\n",
       "      <td>David Cabrera</td>\n",
       "      <td>Male</td>\n",
       "      <td>False</td>\n",
       "      <td>Neuro</td>\n",
       "      <td>36.454276</td>\n",
       "      <td>21</td>\n",
       "      <td>309</td>\n",
       "      <td>9</td>\n",
       "      <td>11</td>\n",
       "      <td>14.714286</td>\n",
       "    </tr>\n",
       "    <tr>\n",
       "      <th>5</th>\n",
       "      <td>Richard Carter</td>\n",
       "      <td>Male</td>\n",
       "      <td>False</td>\n",
       "      <td>Neuro</td>\n",
       "      <td>36.517136</td>\n",
       "      <td>20</td>\n",
       "      <td>371</td>\n",
       "      <td>9</td>\n",
       "      <td>10</td>\n",
       "      <td>18.550000</td>\n",
       "    </tr>\n",
       "    <tr>\n",
       "      <th>6</th>\n",
       "      <td>Yesenia Rodriguez</td>\n",
       "      <td>Male</td>\n",
       "      <td>False</td>\n",
       "      <td>Neuro</td>\n",
       "      <td>35.006498</td>\n",
       "      <td>19</td>\n",
       "      <td>291</td>\n",
       "      <td>8</td>\n",
       "      <td>5</td>\n",
       "      <td>15.315789</td>\n",
       "    </tr>\n",
       "    <tr>\n",
       "      <th>14</th>\n",
       "      <td>Matthew Davis</td>\n",
       "      <td>Male</td>\n",
       "      <td>False</td>\n",
       "      <td>Neuro</td>\n",
       "      <td>39.549952</td>\n",
       "      <td>19</td>\n",
       "      <td>299</td>\n",
       "      <td>8</td>\n",
       "      <td>6</td>\n",
       "      <td>15.736842</td>\n",
       "    </tr>\n",
       "  </tbody>\n",
       "</table>\n",
       "</div>"
      ],
      "text/plain": [
       "                      name   sex  from_Germany    MPI        age  papers  \\\n",
       "ranking                                                                    \n",
       "1              Melissa Lee  Male         False  Neuro  36.284564      21   \n",
       "2            David Cabrera  Male         False  Neuro  36.454276      21   \n",
       "5           Richard Carter  Male         False  Neuro  36.517136      20   \n",
       "6        Yesenia Rodriguez  Male         False  Neuro  35.006498      19   \n",
       "14           Matthew Davis  Male         False  Neuro  39.549952      19   \n",
       "\n",
       "         citations  colleagues  coffees  citations_per_paper  \n",
       "ranking                                                       \n",
       "1              325           9       11            15.476190  \n",
       "2              309           9       11            14.714286  \n",
       "5              371           9       10            18.550000  \n",
       "6              291           8        5            15.315789  \n",
       "14             299           8        6            15.736842  "
      ]
     },
     "execution_count": 184,
     "metadata": {},
     "output_type": "execute_result"
    }
   ],
   "source": [
    "cond = 'papers > 18'\n",
    "df.query(cond).head()"
   ]
  },
  {
   "cell_type": "markdown",
   "metadata": {},
   "source": [
    "And we can also select the columns we want to look into right away:"
   ]
  },
  {
   "cell_type": "code",
   "execution_count": 188,
   "metadata": {},
   "outputs": [],
   "source": [
    "cols = ['name', 'age', 'MPI', 'papers']"
   ]
  },
  {
   "cell_type": "code",
   "execution_count": 189,
   "metadata": {},
   "outputs": [
    {
     "data": {
      "text/html": [
       "<div>\n",
       "<style scoped>\n",
       "    .dataframe tbody tr th:only-of-type {\n",
       "        vertical-align: middle;\n",
       "    }\n",
       "\n",
       "    .dataframe tbody tr th {\n",
       "        vertical-align: top;\n",
       "    }\n",
       "\n",
       "    .dataframe thead th {\n",
       "        text-align: right;\n",
       "    }\n",
       "</style>\n",
       "<table border=\"1\" class=\"dataframe\">\n",
       "  <thead>\n",
       "    <tr style=\"text-align: right;\">\n",
       "      <th></th>\n",
       "      <th>name</th>\n",
       "      <th>age</th>\n",
       "      <th>MPI</th>\n",
       "      <th>papers</th>\n",
       "    </tr>\n",
       "    <tr>\n",
       "      <th>ranking</th>\n",
       "      <th></th>\n",
       "      <th></th>\n",
       "      <th></th>\n",
       "      <th></th>\n",
       "    </tr>\n",
       "  </thead>\n",
       "  <tbody>\n",
       "    <tr>\n",
       "      <th>1</th>\n",
       "      <td>Melissa Lee</td>\n",
       "      <td>36.284564</td>\n",
       "      <td>Neuro</td>\n",
       "      <td>21</td>\n",
       "    </tr>\n",
       "    <tr>\n",
       "      <th>2</th>\n",
       "      <td>David Cabrera</td>\n",
       "      <td>36.454276</td>\n",
       "      <td>Neuro</td>\n",
       "      <td>21</td>\n",
       "    </tr>\n",
       "    <tr>\n",
       "      <th>5</th>\n",
       "      <td>Richard Carter</td>\n",
       "      <td>36.517136</td>\n",
       "      <td>Neuro</td>\n",
       "      <td>20</td>\n",
       "    </tr>\n",
       "    <tr>\n",
       "      <th>6</th>\n",
       "      <td>Yesenia Rodriguez</td>\n",
       "      <td>35.006498</td>\n",
       "      <td>Neuro</td>\n",
       "      <td>19</td>\n",
       "    </tr>\n",
       "    <tr>\n",
       "      <th>14</th>\n",
       "      <td>Matthew Davis</td>\n",
       "      <td>39.549952</td>\n",
       "      <td>Neuro</td>\n",
       "      <td>19</td>\n",
       "    </tr>\n",
       "  </tbody>\n",
       "</table>\n",
       "</div>"
      ],
      "text/plain": [
       "                      name        age    MPI  papers\n",
       "ranking                                             \n",
       "1              Melissa Lee  36.284564  Neuro      21\n",
       "2            David Cabrera  36.454276  Neuro      21\n",
       "5           Richard Carter  36.517136  Neuro      20\n",
       "6        Yesenia Rodriguez  35.006498  Neuro      19\n",
       "14           Matthew Davis  39.549952  Neuro      19"
      ]
     },
     "execution_count": 189,
     "metadata": {},
     "output_type": "execute_result"
    }
   ],
   "source": [
    "cond = 'papers > 18'\n",
    "df.query(cond)[cols].head()"
   ]
  },
  {
   "cell_type": "markdown",
   "metadata": {},
   "source": [
    "However, the more neater way in my opinion is the usage of `.loc`:"
   ]
  },
  {
   "cell_type": "code",
   "execution_count": 190,
   "metadata": {},
   "outputs": [
    {
     "data": {
      "text/html": [
       "<div>\n",
       "<style scoped>\n",
       "    .dataframe tbody tr th:only-of-type {\n",
       "        vertical-align: middle;\n",
       "    }\n",
       "\n",
       "    .dataframe tbody tr th {\n",
       "        vertical-align: top;\n",
       "    }\n",
       "\n",
       "    .dataframe thead th {\n",
       "        text-align: right;\n",
       "    }\n",
       "</style>\n",
       "<table border=\"1\" class=\"dataframe\">\n",
       "  <thead>\n",
       "    <tr style=\"text-align: right;\">\n",
       "      <th></th>\n",
       "      <th>name</th>\n",
       "      <th>age</th>\n",
       "      <th>MPI</th>\n",
       "      <th>papers</th>\n",
       "    </tr>\n",
       "    <tr>\n",
       "      <th>ranking</th>\n",
       "      <th></th>\n",
       "      <th></th>\n",
       "      <th></th>\n",
       "      <th></th>\n",
       "    </tr>\n",
       "  </thead>\n",
       "  <tbody>\n",
       "    <tr>\n",
       "      <th>1</th>\n",
       "      <td>Melissa Lee</td>\n",
       "      <td>36.284564</td>\n",
       "      <td>Neuro</td>\n",
       "      <td>21</td>\n",
       "    </tr>\n",
       "    <tr>\n",
       "      <th>2</th>\n",
       "      <td>David Cabrera</td>\n",
       "      <td>36.454276</td>\n",
       "      <td>Neuro</td>\n",
       "      <td>21</td>\n",
       "    </tr>\n",
       "    <tr>\n",
       "      <th>3</th>\n",
       "      <td>David Vega</td>\n",
       "      <td>29.735890</td>\n",
       "      <td>Neuro</td>\n",
       "      <td>18</td>\n",
       "    </tr>\n",
       "    <tr>\n",
       "      <th>4</th>\n",
       "      <td>Shannon Jacobs</td>\n",
       "      <td>30.133847</td>\n",
       "      <td>Neuro</td>\n",
       "      <td>18</td>\n",
       "    </tr>\n",
       "    <tr>\n",
       "      <th>5</th>\n",
       "      <td>Richard Carter</td>\n",
       "      <td>36.517136</td>\n",
       "      <td>Neuro</td>\n",
       "      <td>20</td>\n",
       "    </tr>\n",
       "  </tbody>\n",
       "</table>\n",
       "</div>"
      ],
      "text/plain": [
       "                   name        age    MPI  papers\n",
       "ranking                                          \n",
       "1           Melissa Lee  36.284564  Neuro      21\n",
       "2         David Cabrera  36.454276  Neuro      21\n",
       "3            David Vega  29.735890  Neuro      18\n",
       "4        Shannon Jacobs  30.133847  Neuro      18\n",
       "5        Richard Carter  36.517136  Neuro      20"
      ]
     },
     "execution_count": 190,
     "metadata": {},
     "output_type": "execute_result"
    }
   ],
   "source": [
    "df.loc[df.papers > .5, cols].head()"
   ]
  },
  {
   "cell_type": "markdown",
   "metadata": {},
   "source": [
    "## Remember:\n",
    "\n",
    "Its important to note that the `Series`/`DataFrame` that we get when we index our original DataFrame still includes the values of the original DataFrame, so any changes would also take effect on the original DataFrame (So you must be cautious when manipulating this data). The way to do this safely is to copy the DataFrame using the `.copy()` method."
   ]
  },
  {
   "cell_type": "markdown",
   "metadata": {},
   "source": [
    "---"
   ]
  },
  {
   "cell_type": "markdown",
   "metadata": {},
   "source": [
    "## Data Manipulation\n",
    "\n",
    "Mainly two aspect:\n",
    "- Changing labels\n",
    "    - change index\n",
    "    - remove rows\n",
    "    - add new columns\n",
    "    - reordering the columns\n",
    "    - renaming columns\n",
    "    - removing columns\n",
    "- Changing data (applying some funcions, or adding new data, etc.)\n",
    "    - change column values\n",
    "    - apply function on the columns and rows\n",
    "        - group-wise\n",
    "        - element-wise"
   ]
  },
  {
   "cell_type": "markdown",
   "metadata": {},
   "source": [
    "## Labels Manipulation"
   ]
  },
  {
   "cell_type": "markdown",
   "metadata": {},
   "source": [
    "### Change index"
   ]
  },
  {
   "cell_type": "code",
   "execution_count": 113,
   "metadata": {},
   "outputs": [],
   "source": [
    "df.set_index('ranking', inplace=True)"
   ]
  },
  {
   "cell_type": "code",
   "execution_count": 114,
   "metadata": {},
   "outputs": [
    {
     "data": {
      "text/html": [
       "<div>\n",
       "<style scoped>\n",
       "    .dataframe tbody tr th:only-of-type {\n",
       "        vertical-align: middle;\n",
       "    }\n",
       "\n",
       "    .dataframe tbody tr th {\n",
       "        vertical-align: top;\n",
       "    }\n",
       "\n",
       "    .dataframe thead th {\n",
       "        text-align: right;\n",
       "    }\n",
       "</style>\n",
       "<table border=\"1\" class=\"dataframe\">\n",
       "  <thead>\n",
       "    <tr style=\"text-align: right;\">\n",
       "      <th></th>\n",
       "      <th>sex</th>\n",
       "      <th>from_Germany</th>\n",
       "      <th>MPI</th>\n",
       "      <th>age</th>\n",
       "      <th>papers</th>\n",
       "      <th>citations</th>\n",
       "      <th>colleagues</th>\n",
       "      <th>coffees</th>\n",
       "    </tr>\n",
       "    <tr>\n",
       "      <th>ranking</th>\n",
       "      <th></th>\n",
       "      <th></th>\n",
       "      <th></th>\n",
       "      <th></th>\n",
       "      <th></th>\n",
       "      <th></th>\n",
       "      <th></th>\n",
       "      <th></th>\n",
       "    </tr>\n",
       "  </thead>\n",
       "  <tbody>\n",
       "    <tr>\n",
       "      <th>82</th>\n",
       "      <td>Female</td>\n",
       "      <td>True</td>\n",
       "      <td>Biochem</td>\n",
       "      <td>26.719182</td>\n",
       "      <td>11</td>\n",
       "      <td>80</td>\n",
       "      <td>4</td>\n",
       "      <td>0</td>\n",
       "    </tr>\n",
       "    <tr>\n",
       "      <th>74</th>\n",
       "      <td>Male</td>\n",
       "      <td>False</td>\n",
       "      <td>Neuro</td>\n",
       "      <td>36.479622</td>\n",
       "      <td>15</td>\n",
       "      <td>219</td>\n",
       "      <td>6</td>\n",
       "      <td>7</td>\n",
       "    </tr>\n",
       "    <tr>\n",
       "      <th>46</th>\n",
       "      <td>Male</td>\n",
       "      <td>False</td>\n",
       "      <td>Neuro</td>\n",
       "      <td>29.250290</td>\n",
       "      <td>14</td>\n",
       "      <td>174</td>\n",
       "      <td>5</td>\n",
       "      <td>5</td>\n",
       "    </tr>\n",
       "    <tr>\n",
       "      <th>261</th>\n",
       "      <td>Female</td>\n",
       "      <td>False</td>\n",
       "      <td>Neuro</td>\n",
       "      <td>29.037500</td>\n",
       "      <td>7</td>\n",
       "      <td>137</td>\n",
       "      <td>3</td>\n",
       "      <td>0</td>\n",
       "    </tr>\n",
       "    <tr>\n",
       "      <th>186</th>\n",
       "      <td>Male</td>\n",
       "      <td>True</td>\n",
       "      <td>Biochem</td>\n",
       "      <td>26.946125</td>\n",
       "      <td>9</td>\n",
       "      <td>55</td>\n",
       "      <td>3</td>\n",
       "      <td>7</td>\n",
       "    </tr>\n",
       "  </tbody>\n",
       "</table>\n",
       "</div>"
      ],
      "text/plain": [
       "            sex  from_Germany      MPI        age  papers  citations  \\\n",
       "ranking                                                                \n",
       "82       Female          True  Biochem  26.719182      11         80   \n",
       "74         Male         False    Neuro  36.479622      15        219   \n",
       "46         Male         False    Neuro  29.250290      14        174   \n",
       "261      Female         False    Neuro  29.037500       7        137   \n",
       "186        Male          True  Biochem  26.946125       9         55   \n",
       "\n",
       "         colleagues  coffees  \n",
       "ranking                       \n",
       "82                4        0  \n",
       "74                6        7  \n",
       "46                5        5  \n",
       "261               3        0  \n",
       "186               3        7  "
      ]
     },
     "execution_count": 114,
     "metadata": {},
     "output_type": "execute_result"
    }
   ],
   "source": [
    "df.head()"
   ]
  },
  {
   "cell_type": "markdown",
   "metadata": {},
   "source": [
    "And by this we can also check who is rank 1"
   ]
  },
  {
   "cell_type": "code",
   "execution_count": 115,
   "metadata": {},
   "outputs": [
    {
     "data": {
      "text/plain": [
       "sex                Male\n",
       "from_Germany      False\n",
       "MPI               Neuro\n",
       "age             36.2846\n",
       "papers               21\n",
       "citations           325\n",
       "colleagues            9\n",
       "coffees               6\n",
       "Name: 1, dtype: object"
      ]
     },
     "execution_count": 115,
     "metadata": {},
     "output_type": "execute_result"
    }
   ],
   "source": [
    "df.loc[1]"
   ]
  },
  {
   "cell_type": "markdown",
   "metadata": {},
   "source": [
    "Note that we lost the old index label - the names. We can avoid that by creating a new column before removing the old label"
   ]
  },
  {
   "cell_type": "code",
   "execution_count": 116,
   "metadata": {},
   "outputs": [],
   "source": [
    "df = pd.read_csv('MPI-info.csv', index_col='name')"
   ]
  },
  {
   "cell_type": "code",
   "execution_count": 118,
   "metadata": {},
   "outputs": [],
   "source": [
    "df['name'] = df.index"
   ]
  },
  {
   "cell_type": "code",
   "execution_count": 120,
   "metadata": {},
   "outputs": [],
   "source": [
    "df.set_index('ranking', inplace=True)"
   ]
  },
  {
   "cell_type": "code",
   "execution_count": 121,
   "metadata": {},
   "outputs": [
    {
     "data": {
      "text/html": [
       "<div>\n",
       "<style scoped>\n",
       "    .dataframe tbody tr th:only-of-type {\n",
       "        vertical-align: middle;\n",
       "    }\n",
       "\n",
       "    .dataframe tbody tr th {\n",
       "        vertical-align: top;\n",
       "    }\n",
       "\n",
       "    .dataframe thead th {\n",
       "        text-align: right;\n",
       "    }\n",
       "</style>\n",
       "<table border=\"1\" class=\"dataframe\">\n",
       "  <thead>\n",
       "    <tr style=\"text-align: right;\">\n",
       "      <th></th>\n",
       "      <th>sex</th>\n",
       "      <th>from_Germany</th>\n",
       "      <th>MPI</th>\n",
       "      <th>age</th>\n",
       "      <th>papers</th>\n",
       "      <th>citations</th>\n",
       "      <th>colleagues</th>\n",
       "      <th>coffees</th>\n",
       "      <th>name</th>\n",
       "    </tr>\n",
       "    <tr>\n",
       "      <th>ranking</th>\n",
       "      <th></th>\n",
       "      <th></th>\n",
       "      <th></th>\n",
       "      <th></th>\n",
       "      <th></th>\n",
       "      <th></th>\n",
       "      <th></th>\n",
       "      <th></th>\n",
       "      <th></th>\n",
       "    </tr>\n",
       "  </thead>\n",
       "  <tbody>\n",
       "    <tr>\n",
       "      <th>82</th>\n",
       "      <td>Female</td>\n",
       "      <td>True</td>\n",
       "      <td>Biochem</td>\n",
       "      <td>26.719182</td>\n",
       "      <td>11</td>\n",
       "      <td>80</td>\n",
       "      <td>4</td>\n",
       "      <td>0</td>\n",
       "      <td>Paul Wong</td>\n",
       "    </tr>\n",
       "    <tr>\n",
       "      <th>74</th>\n",
       "      <td>Male</td>\n",
       "      <td>False</td>\n",
       "      <td>Neuro</td>\n",
       "      <td>36.479622</td>\n",
       "      <td>15</td>\n",
       "      <td>219</td>\n",
       "      <td>6</td>\n",
       "      <td>7</td>\n",
       "      <td>Tyler Lopez</td>\n",
       "    </tr>\n",
       "    <tr>\n",
       "      <th>46</th>\n",
       "      <td>Male</td>\n",
       "      <td>False</td>\n",
       "      <td>Neuro</td>\n",
       "      <td>29.250290</td>\n",
       "      <td>14</td>\n",
       "      <td>174</td>\n",
       "      <td>5</td>\n",
       "      <td>5</td>\n",
       "      <td>Suzanne Miller</td>\n",
       "    </tr>\n",
       "    <tr>\n",
       "      <th>261</th>\n",
       "      <td>Female</td>\n",
       "      <td>False</td>\n",
       "      <td>Neuro</td>\n",
       "      <td>29.037500</td>\n",
       "      <td>7</td>\n",
       "      <td>137</td>\n",
       "      <td>3</td>\n",
       "      <td>0</td>\n",
       "      <td>Rebecca Russo</td>\n",
       "    </tr>\n",
       "    <tr>\n",
       "      <th>186</th>\n",
       "      <td>Male</td>\n",
       "      <td>True</td>\n",
       "      <td>Biochem</td>\n",
       "      <td>26.946125</td>\n",
       "      <td>9</td>\n",
       "      <td>55</td>\n",
       "      <td>3</td>\n",
       "      <td>7</td>\n",
       "      <td>Timothy Chapman</td>\n",
       "    </tr>\n",
       "  </tbody>\n",
       "</table>\n",
       "</div>"
      ],
      "text/plain": [
       "            sex  from_Germany      MPI        age  papers  citations  \\\n",
       "ranking                                                                \n",
       "82       Female          True  Biochem  26.719182      11         80   \n",
       "74         Male         False    Neuro  36.479622      15        219   \n",
       "46         Male         False    Neuro  29.250290      14        174   \n",
       "261      Female         False    Neuro  29.037500       7        137   \n",
       "186        Male          True  Biochem  26.946125       9         55   \n",
       "\n",
       "         colleagues  coffees             name  \n",
       "ranking                                        \n",
       "82                4        0        Paul Wong  \n",
       "74                6        7      Tyler Lopez  \n",
       "46                5        5   Suzanne Miller  \n",
       "261               3        0    Rebecca Russo  \n",
       "186               3        7  Timothy Chapman  "
      ]
     },
     "execution_count": 121,
     "metadata": {},
     "output_type": "execute_result"
    }
   ],
   "source": [
    "df.head()"
   ]
  },
  {
   "cell_type": "markdown",
   "metadata": {},
   "source": [
    "### Reindexing"
   ]
  },
  {
   "cell_type": "code",
   "execution_count": 126,
   "metadata": {},
   "outputs": [],
   "source": [
    "df.sort_index(axis=0, inplace=True)"
   ]
  },
  {
   "cell_type": "code",
   "execution_count": 127,
   "metadata": {},
   "outputs": [
    {
     "data": {
      "text/html": [
       "<div>\n",
       "<style scoped>\n",
       "    .dataframe tbody tr th:only-of-type {\n",
       "        vertical-align: middle;\n",
       "    }\n",
       "\n",
       "    .dataframe tbody tr th {\n",
       "        vertical-align: top;\n",
       "    }\n",
       "\n",
       "    .dataframe thead th {\n",
       "        text-align: right;\n",
       "    }\n",
       "</style>\n",
       "<table border=\"1\" class=\"dataframe\">\n",
       "  <thead>\n",
       "    <tr style=\"text-align: right;\">\n",
       "      <th></th>\n",
       "      <th>sex</th>\n",
       "      <th>from_Germany</th>\n",
       "      <th>MPI</th>\n",
       "      <th>age</th>\n",
       "      <th>papers</th>\n",
       "      <th>citations</th>\n",
       "      <th>colleagues</th>\n",
       "      <th>coffees</th>\n",
       "      <th>name</th>\n",
       "    </tr>\n",
       "    <tr>\n",
       "      <th>ranking</th>\n",
       "      <th></th>\n",
       "      <th></th>\n",
       "      <th></th>\n",
       "      <th></th>\n",
       "      <th></th>\n",
       "      <th></th>\n",
       "      <th></th>\n",
       "      <th></th>\n",
       "      <th></th>\n",
       "    </tr>\n",
       "  </thead>\n",
       "  <tbody>\n",
       "    <tr>\n",
       "      <th>1</th>\n",
       "      <td>Male</td>\n",
       "      <td>False</td>\n",
       "      <td>Neuro</td>\n",
       "      <td>36.284564</td>\n",
       "      <td>21</td>\n",
       "      <td>325</td>\n",
       "      <td>9</td>\n",
       "      <td>6</td>\n",
       "      <td>Melissa Lee</td>\n",
       "    </tr>\n",
       "    <tr>\n",
       "      <th>2</th>\n",
       "      <td>Male</td>\n",
       "      <td>False</td>\n",
       "      <td>Neuro</td>\n",
       "      <td>36.454276</td>\n",
       "      <td>21</td>\n",
       "      <td>309</td>\n",
       "      <td>9</td>\n",
       "      <td>6</td>\n",
       "      <td>David Cabrera</td>\n",
       "    </tr>\n",
       "    <tr>\n",
       "      <th>3</th>\n",
       "      <td>Male</td>\n",
       "      <td>True</td>\n",
       "      <td>Neuro</td>\n",
       "      <td>29.735890</td>\n",
       "      <td>18</td>\n",
       "      <td>348</td>\n",
       "      <td>8</td>\n",
       "      <td>5</td>\n",
       "      <td>David Vega</td>\n",
       "    </tr>\n",
       "    <tr>\n",
       "      <th>4</th>\n",
       "      <td>Male</td>\n",
       "      <td>True</td>\n",
       "      <td>Neuro</td>\n",
       "      <td>30.133847</td>\n",
       "      <td>18</td>\n",
       "      <td>313</td>\n",
       "      <td>8</td>\n",
       "      <td>4</td>\n",
       "      <td>Shannon Jacobs</td>\n",
       "    </tr>\n",
       "    <tr>\n",
       "      <th>5</th>\n",
       "      <td>Male</td>\n",
       "      <td>False</td>\n",
       "      <td>Neuro</td>\n",
       "      <td>36.517136</td>\n",
       "      <td>20</td>\n",
       "      <td>371</td>\n",
       "      <td>9</td>\n",
       "      <td>5</td>\n",
       "      <td>Richard Carter</td>\n",
       "    </tr>\n",
       "  </tbody>\n",
       "</table>\n",
       "</div>"
      ],
      "text/plain": [
       "          sex  from_Germany    MPI        age  papers  citations  colleagues  \\\n",
       "ranking                                                                        \n",
       "1        Male         False  Neuro  36.284564      21        325           9   \n",
       "2        Male         False  Neuro  36.454276      21        309           9   \n",
       "3        Male          True  Neuro  29.735890      18        348           8   \n",
       "4        Male          True  Neuro  30.133847      18        313           8   \n",
       "5        Male         False  Neuro  36.517136      20        371           9   \n",
       "\n",
       "         coffees            name  \n",
       "ranking                           \n",
       "1              6     Melissa Lee  \n",
       "2              6   David Cabrera  \n",
       "3              5      David Vega  \n",
       "4              4  Shannon Jacobs  \n",
       "5              5  Richard Carter  "
      ]
     },
     "execution_count": 127,
     "metadata": {},
     "output_type": "execute_result"
    }
   ],
   "source": [
    "df.head()"
   ]
  },
  {
   "cell_type": "code",
   "execution_count": 129,
   "metadata": {},
   "outputs": [
    {
     "data": {
      "text/html": [
       "<div>\n",
       "<style scoped>\n",
       "    .dataframe tbody tr th:only-of-type {\n",
       "        vertical-align: middle;\n",
       "    }\n",
       "\n",
       "    .dataframe tbody tr th {\n",
       "        vertical-align: top;\n",
       "    }\n",
       "\n",
       "    .dataframe thead th {\n",
       "        text-align: right;\n",
       "    }\n",
       "</style>\n",
       "<table border=\"1\" class=\"dataframe\">\n",
       "  <thead>\n",
       "    <tr style=\"text-align: right;\">\n",
       "      <th></th>\n",
       "      <th>sex</th>\n",
       "      <th>from_Germany</th>\n",
       "      <th>MPI</th>\n",
       "      <th>age</th>\n",
       "      <th>papers</th>\n",
       "      <th>citations</th>\n",
       "      <th>colleagues</th>\n",
       "      <th>coffees</th>\n",
       "      <th>name</th>\n",
       "    </tr>\n",
       "    <tr>\n",
       "      <th>ranking</th>\n",
       "      <th></th>\n",
       "      <th></th>\n",
       "      <th></th>\n",
       "      <th></th>\n",
       "      <th></th>\n",
       "      <th></th>\n",
       "      <th></th>\n",
       "      <th></th>\n",
       "      <th></th>\n",
       "    </tr>\n",
       "  </thead>\n",
       "  <tbody>\n",
       "    <tr>\n",
       "      <th>1</th>\n",
       "      <td>Male</td>\n",
       "      <td>False</td>\n",
       "      <td>Neuro</td>\n",
       "      <td>36.284564</td>\n",
       "      <td>21.0</td>\n",
       "      <td>325.0</td>\n",
       "      <td>9.0</td>\n",
       "      <td>6.0</td>\n",
       "      <td>Melissa Lee</td>\n",
       "    </tr>\n",
       "    <tr>\n",
       "      <th>2</th>\n",
       "      <td>Male</td>\n",
       "      <td>False</td>\n",
       "      <td>Neuro</td>\n",
       "      <td>36.454276</td>\n",
       "      <td>21.0</td>\n",
       "      <td>309.0</td>\n",
       "      <td>9.0</td>\n",
       "      <td>6.0</td>\n",
       "      <td>David Cabrera</td>\n",
       "    </tr>\n",
       "    <tr>\n",
       "      <th>2000</th>\n",
       "      <td>NaN</td>\n",
       "      <td>NaN</td>\n",
       "      <td>NaN</td>\n",
       "      <td>NaN</td>\n",
       "      <td>NaN</td>\n",
       "      <td>NaN</td>\n",
       "      <td>NaN</td>\n",
       "      <td>NaN</td>\n",
       "      <td>NaN</td>\n",
       "    </tr>\n",
       "  </tbody>\n",
       "</table>\n",
       "</div>"
      ],
      "text/plain": [
       "          sex from_Germany    MPI        age  papers  citations  colleagues  \\\n",
       "ranking                                                                       \n",
       "1        Male        False  Neuro  36.284564    21.0      325.0         9.0   \n",
       "2        Male        False  Neuro  36.454276    21.0      309.0         9.0   \n",
       "2000      NaN          NaN    NaN        NaN     NaN        NaN         NaN   \n",
       "\n",
       "         coffees           name  \n",
       "ranking                          \n",
       "1            6.0    Melissa Lee  \n",
       "2            6.0  David Cabrera  \n",
       "2000         NaN            NaN  "
      ]
     },
     "execution_count": 129,
     "metadata": {},
     "output_type": "execute_result"
    }
   ],
   "source": [
    "df.reindex([1, 2, 2000])"
   ]
  },
  {
   "cell_type": "markdown",
   "metadata": {},
   "source": [
    "### Remove rows"
   ]
  },
  {
   "cell_type": "code",
   "execution_count": 151,
   "metadata": {},
   "outputs": [
    {
     "data": {
      "text/html": [
       "<div>\n",
       "<style scoped>\n",
       "    .dataframe tbody tr th:only-of-type {\n",
       "        vertical-align: middle;\n",
       "    }\n",
       "\n",
       "    .dataframe tbody tr th {\n",
       "        vertical-align: top;\n",
       "    }\n",
       "\n",
       "    .dataframe thead th {\n",
       "        text-align: right;\n",
       "    }\n",
       "</style>\n",
       "<table border=\"1\" class=\"dataframe\">\n",
       "  <thead>\n",
       "    <tr style=\"text-align: right;\">\n",
       "      <th></th>\n",
       "      <th>name</th>\n",
       "      <th>sex</th>\n",
       "      <th>from_Germany</th>\n",
       "      <th>MPI</th>\n",
       "      <th>age</th>\n",
       "      <th>papers</th>\n",
       "      <th>citations</th>\n",
       "      <th>colleagues</th>\n",
       "      <th>coffees</th>\n",
       "    </tr>\n",
       "    <tr>\n",
       "      <th>ranking</th>\n",
       "      <th></th>\n",
       "      <th></th>\n",
       "      <th></th>\n",
       "      <th></th>\n",
       "      <th></th>\n",
       "      <th></th>\n",
       "      <th></th>\n",
       "      <th></th>\n",
       "      <th></th>\n",
       "    </tr>\n",
       "  </thead>\n",
       "  <tbody>\n",
       "    <tr>\n",
       "      <th>3</th>\n",
       "      <td>David Vega</td>\n",
       "      <td>Male</td>\n",
       "      <td>True</td>\n",
       "      <td>Neuro</td>\n",
       "      <td>29.735890</td>\n",
       "      <td>18</td>\n",
       "      <td>348</td>\n",
       "      <td>8</td>\n",
       "      <td>5</td>\n",
       "    </tr>\n",
       "    <tr>\n",
       "      <th>4</th>\n",
       "      <td>Shannon Jacobs</td>\n",
       "      <td>Male</td>\n",
       "      <td>True</td>\n",
       "      <td>Neuro</td>\n",
       "      <td>30.133847</td>\n",
       "      <td>18</td>\n",
       "      <td>313</td>\n",
       "      <td>8</td>\n",
       "      <td>4</td>\n",
       "    </tr>\n",
       "    <tr>\n",
       "      <th>6</th>\n",
       "      <td>Yesenia Rodriguez</td>\n",
       "      <td>Male</td>\n",
       "      <td>False</td>\n",
       "      <td>Neuro</td>\n",
       "      <td>35.006498</td>\n",
       "      <td>19</td>\n",
       "      <td>291</td>\n",
       "      <td>8</td>\n",
       "      <td>0</td>\n",
       "    </tr>\n",
       "    <tr>\n",
       "      <th>7</th>\n",
       "      <td>Karen Barron</td>\n",
       "      <td>Male</td>\n",
       "      <td>True</td>\n",
       "      <td>Neuro</td>\n",
       "      <td>28.247096</td>\n",
       "      <td>17</td>\n",
       "      <td>325</td>\n",
       "      <td>8</td>\n",
       "      <td>1</td>\n",
       "    </tr>\n",
       "    <tr>\n",
       "      <th>8</th>\n",
       "      <td>Robert Davis</td>\n",
       "      <td>Male</td>\n",
       "      <td>True</td>\n",
       "      <td>Neuro</td>\n",
       "      <td>27.335361</td>\n",
       "      <td>16</td>\n",
       "      <td>214</td>\n",
       "      <td>6</td>\n",
       "      <td>0</td>\n",
       "    </tr>\n",
       "  </tbody>\n",
       "</table>\n",
       "</div>"
      ],
      "text/plain": [
       "                      name   sex  from_Germany    MPI        age  papers  \\\n",
       "ranking                                                                    \n",
       "3               David Vega  Male          True  Neuro  29.735890      18   \n",
       "4           Shannon Jacobs  Male          True  Neuro  30.133847      18   \n",
       "6        Yesenia Rodriguez  Male         False  Neuro  35.006498      19   \n",
       "7             Karen Barron  Male          True  Neuro  28.247096      17   \n",
       "8             Robert Davis  Male          True  Neuro  27.335361      16   \n",
       "\n",
       "         citations  colleagues  coffees  \n",
       "ranking                                  \n",
       "3              348           8        5  \n",
       "4              313           8        4  \n",
       "6              291           8        0  \n",
       "7              325           8        1  \n",
       "8              214           6        0  "
      ]
     },
     "execution_count": 151,
     "metadata": {},
     "output_type": "execute_result"
    }
   ],
   "source": [
    "df.drop(labels=[1, 2, 5], axis=0).head()"
   ]
  },
  {
   "cell_type": "markdown",
   "metadata": {},
   "source": [
    "### Add a new column"
   ]
  },
  {
   "cell_type": "markdown",
   "metadata": {},
   "source": [
    "#### broadcasting a single value"
   ]
  },
  {
   "cell_type": "code",
   "execution_count": 139,
   "metadata": {},
   "outputs": [],
   "source": [
    "df['new_col'] = 'anything'"
   ]
  },
  {
   "cell_type": "markdown",
   "metadata": {},
   "source": [
    "#### per-row values"
   ]
  },
  {
   "cell_type": "code",
   "execution_count": 141,
   "metadata": {},
   "outputs": [],
   "source": [
    "df['new_values'] = np.arange(df.shape[0])"
   ]
  },
  {
   "cell_type": "markdown",
   "metadata": {},
   "source": [
    "### Reordering columns"
   ]
  },
  {
   "cell_type": "code",
   "execution_count": 147,
   "metadata": {},
   "outputs": [],
   "source": [
    "new_col_order = ['name', 'sex', 'from_Germany', 'MPI', 'age', 'papers', 'citations','colleagues', 'coffees']\n",
    "df = df.reindex(columns=new_col_order)  # similar to df[new_col_order]"
   ]
  },
  {
   "cell_type": "markdown",
   "metadata": {},
   "source": [
    "### Renaming columns"
   ]
  },
  {
   "cell_type": "markdown",
   "metadata": {},
   "source": [
    "One way is via giving the label, and choosing the axis."
   ]
  },
  {
   "cell_type": "code",
   "execution_count": 175,
   "metadata": {},
   "outputs": [
    {
     "data": {
      "text/html": [
       "<div>\n",
       "<style scoped>\n",
       "    .dataframe tbody tr th:only-of-type {\n",
       "        vertical-align: middle;\n",
       "    }\n",
       "\n",
       "    .dataframe tbody tr th {\n",
       "        vertical-align: top;\n",
       "    }\n",
       "\n",
       "    .dataframe thead th {\n",
       "        text-align: right;\n",
       "    }\n",
       "</style>\n",
       "<table border=\"1\" class=\"dataframe\">\n",
       "  <thead>\n",
       "    <tr style=\"text-align: right;\">\n",
       "      <th></th>\n",
       "      <th>name</th>\n",
       "      <th>gender</th>\n",
       "      <th>from_Germany</th>\n",
       "      <th>mpi</th>\n",
       "      <th>age</th>\n",
       "      <th>papers</th>\n",
       "      <th>citations</th>\n",
       "      <th>colleagues</th>\n",
       "      <th>coffees</th>\n",
       "      <th>citations_per_paper</th>\n",
       "    </tr>\n",
       "    <tr>\n",
       "      <th>ranking</th>\n",
       "      <th></th>\n",
       "      <th></th>\n",
       "      <th></th>\n",
       "      <th></th>\n",
       "      <th></th>\n",
       "      <th></th>\n",
       "      <th></th>\n",
       "      <th></th>\n",
       "      <th></th>\n",
       "      <th></th>\n",
       "    </tr>\n",
       "  </thead>\n",
       "  <tbody>\n",
       "    <tr>\n",
       "      <th>1</th>\n",
       "      <td>Melissa Lee</td>\n",
       "      <td>Male</td>\n",
       "      <td>False</td>\n",
       "      <td>Neuro</td>\n",
       "      <td>36.284564</td>\n",
       "      <td>21</td>\n",
       "      <td>325</td>\n",
       "      <td>9</td>\n",
       "      <td>11</td>\n",
       "      <td>15.476190</td>\n",
       "    </tr>\n",
       "    <tr>\n",
       "      <th>2</th>\n",
       "      <td>David Cabrera</td>\n",
       "      <td>Male</td>\n",
       "      <td>False</td>\n",
       "      <td>Neuro</td>\n",
       "      <td>36.454276</td>\n",
       "      <td>21</td>\n",
       "      <td>309</td>\n",
       "      <td>9</td>\n",
       "      <td>11</td>\n",
       "      <td>14.714286</td>\n",
       "    </tr>\n",
       "    <tr>\n",
       "      <th>3</th>\n",
       "      <td>David Vega</td>\n",
       "      <td>Male</td>\n",
       "      <td>True</td>\n",
       "      <td>Neuro</td>\n",
       "      <td>29.735890</td>\n",
       "      <td>18</td>\n",
       "      <td>348</td>\n",
       "      <td>8</td>\n",
       "      <td>10</td>\n",
       "      <td>19.333333</td>\n",
       "    </tr>\n",
       "    <tr>\n",
       "      <th>4</th>\n",
       "      <td>Shannon Jacobs</td>\n",
       "      <td>Male</td>\n",
       "      <td>True</td>\n",
       "      <td>Neuro</td>\n",
       "      <td>30.133847</td>\n",
       "      <td>18</td>\n",
       "      <td>313</td>\n",
       "      <td>8</td>\n",
       "      <td>9</td>\n",
       "      <td>17.388889</td>\n",
       "    </tr>\n",
       "    <tr>\n",
       "      <th>5</th>\n",
       "      <td>Richard Carter</td>\n",
       "      <td>Male</td>\n",
       "      <td>False</td>\n",
       "      <td>Neuro</td>\n",
       "      <td>36.517136</td>\n",
       "      <td>20</td>\n",
       "      <td>371</td>\n",
       "      <td>9</td>\n",
       "      <td>10</td>\n",
       "      <td>18.550000</td>\n",
       "    </tr>\n",
       "  </tbody>\n",
       "</table>\n",
       "</div>"
      ],
      "text/plain": [
       "                   name gender  from_Germany    mpi        age  papers  \\\n",
       "ranking                                                                  \n",
       "1           Melissa Lee   Male         False  Neuro  36.284564      21   \n",
       "2         David Cabrera   Male         False  Neuro  36.454276      21   \n",
       "3            David Vega   Male          True  Neuro  29.735890      18   \n",
       "4        Shannon Jacobs   Male          True  Neuro  30.133847      18   \n",
       "5        Richard Carter   Male         False  Neuro  36.517136      20   \n",
       "\n",
       "         citations  colleagues  coffees  citations_per_paper  \n",
       "ranking                                                       \n",
       "1              325           9       11            15.476190  \n",
       "2              309           9       11            14.714286  \n",
       "3              348           8       10            19.333333  \n",
       "4              313           8        9            17.388889  \n",
       "5              371           9       10            18.550000  "
      ]
     },
     "execution_count": 175,
     "metadata": {},
     "output_type": "execute_result"
    }
   ],
   "source": [
    "df.rename({'sex': 'gender', 'MPI':'mpi'}, axis=1).head()"
   ]
  },
  {
   "cell_type": "markdown",
   "metadata": {},
   "source": [
    "Another way is just to specify the columns"
   ]
  },
  {
   "cell_type": "code",
   "execution_count": 176,
   "metadata": {},
   "outputs": [
    {
     "data": {
      "text/html": [
       "<div>\n",
       "<style scoped>\n",
       "    .dataframe tbody tr th:only-of-type {\n",
       "        vertical-align: middle;\n",
       "    }\n",
       "\n",
       "    .dataframe tbody tr th {\n",
       "        vertical-align: top;\n",
       "    }\n",
       "\n",
       "    .dataframe thead th {\n",
       "        text-align: right;\n",
       "    }\n",
       "</style>\n",
       "<table border=\"1\" class=\"dataframe\">\n",
       "  <thead>\n",
       "    <tr style=\"text-align: right;\">\n",
       "      <th></th>\n",
       "      <th>name</th>\n",
       "      <th>gender</th>\n",
       "      <th>from_Germany</th>\n",
       "      <th>mpi</th>\n",
       "      <th>age</th>\n",
       "      <th>papers</th>\n",
       "      <th>citations</th>\n",
       "      <th>colleagues</th>\n",
       "      <th>coffees</th>\n",
       "      <th>citations_per_paper</th>\n",
       "    </tr>\n",
       "    <tr>\n",
       "      <th>ranking</th>\n",
       "      <th></th>\n",
       "      <th></th>\n",
       "      <th></th>\n",
       "      <th></th>\n",
       "      <th></th>\n",
       "      <th></th>\n",
       "      <th></th>\n",
       "      <th></th>\n",
       "      <th></th>\n",
       "      <th></th>\n",
       "    </tr>\n",
       "  </thead>\n",
       "  <tbody>\n",
       "    <tr>\n",
       "      <th>1</th>\n",
       "      <td>Melissa Lee</td>\n",
       "      <td>Male</td>\n",
       "      <td>False</td>\n",
       "      <td>Neuro</td>\n",
       "      <td>36.284564</td>\n",
       "      <td>21</td>\n",
       "      <td>325</td>\n",
       "      <td>9</td>\n",
       "      <td>11</td>\n",
       "      <td>15.476190</td>\n",
       "    </tr>\n",
       "    <tr>\n",
       "      <th>2</th>\n",
       "      <td>David Cabrera</td>\n",
       "      <td>Male</td>\n",
       "      <td>False</td>\n",
       "      <td>Neuro</td>\n",
       "      <td>36.454276</td>\n",
       "      <td>21</td>\n",
       "      <td>309</td>\n",
       "      <td>9</td>\n",
       "      <td>11</td>\n",
       "      <td>14.714286</td>\n",
       "    </tr>\n",
       "    <tr>\n",
       "      <th>3</th>\n",
       "      <td>David Vega</td>\n",
       "      <td>Male</td>\n",
       "      <td>True</td>\n",
       "      <td>Neuro</td>\n",
       "      <td>29.735890</td>\n",
       "      <td>18</td>\n",
       "      <td>348</td>\n",
       "      <td>8</td>\n",
       "      <td>10</td>\n",
       "      <td>19.333333</td>\n",
       "    </tr>\n",
       "    <tr>\n",
       "      <th>4</th>\n",
       "      <td>Shannon Jacobs</td>\n",
       "      <td>Male</td>\n",
       "      <td>True</td>\n",
       "      <td>Neuro</td>\n",
       "      <td>30.133847</td>\n",
       "      <td>18</td>\n",
       "      <td>313</td>\n",
       "      <td>8</td>\n",
       "      <td>9</td>\n",
       "      <td>17.388889</td>\n",
       "    </tr>\n",
       "    <tr>\n",
       "      <th>5</th>\n",
       "      <td>Richard Carter</td>\n",
       "      <td>Male</td>\n",
       "      <td>False</td>\n",
       "      <td>Neuro</td>\n",
       "      <td>36.517136</td>\n",
       "      <td>20</td>\n",
       "      <td>371</td>\n",
       "      <td>9</td>\n",
       "      <td>10</td>\n",
       "      <td>18.550000</td>\n",
       "    </tr>\n",
       "  </tbody>\n",
       "</table>\n",
       "</div>"
      ],
      "text/plain": [
       "                   name gender  from_Germany    mpi        age  papers  \\\n",
       "ranking                                                                  \n",
       "1           Melissa Lee   Male         False  Neuro  36.284564      21   \n",
       "2         David Cabrera   Male         False  Neuro  36.454276      21   \n",
       "3            David Vega   Male          True  Neuro  29.735890      18   \n",
       "4        Shannon Jacobs   Male          True  Neuro  30.133847      18   \n",
       "5        Richard Carter   Male         False  Neuro  36.517136      20   \n",
       "\n",
       "         citations  colleagues  coffees  citations_per_paper  \n",
       "ranking                                                       \n",
       "1              325           9       11            15.476190  \n",
       "2              309           9       11            14.714286  \n",
       "3              348           8       10            19.333333  \n",
       "4              313           8        9            17.388889  \n",
       "5              371           9       10            18.550000  "
      ]
     },
     "execution_count": 176,
     "metadata": {},
     "output_type": "execute_result"
    }
   ],
   "source": [
    "df.rename(columns={'sex': 'gender', 'MPI':'mpi'}).head()"
   ]
  },
  {
   "cell_type": "markdown",
   "metadata": {},
   "source": [
    "### Removing columns"
   ]
  },
  {
   "cell_type": "code",
   "execution_count": 154,
   "metadata": {},
   "outputs": [
    {
     "data": {
      "text/html": [
       "<div>\n",
       "<style scoped>\n",
       "    .dataframe tbody tr th:only-of-type {\n",
       "        vertical-align: middle;\n",
       "    }\n",
       "\n",
       "    .dataframe tbody tr th {\n",
       "        vertical-align: top;\n",
       "    }\n",
       "\n",
       "    .dataframe thead th {\n",
       "        text-align: right;\n",
       "    }\n",
       "</style>\n",
       "<table border=\"1\" class=\"dataframe\">\n",
       "  <thead>\n",
       "    <tr style=\"text-align: right;\">\n",
       "      <th></th>\n",
       "      <th>name</th>\n",
       "      <th>sex</th>\n",
       "      <th>from_Germany</th>\n",
       "      <th>MPI</th>\n",
       "      <th>age</th>\n",
       "      <th>papers</th>\n",
       "      <th>citations</th>\n",
       "      <th>colleagues</th>\n",
       "    </tr>\n",
       "    <tr>\n",
       "      <th>ranking</th>\n",
       "      <th></th>\n",
       "      <th></th>\n",
       "      <th></th>\n",
       "      <th></th>\n",
       "      <th></th>\n",
       "      <th></th>\n",
       "      <th></th>\n",
       "      <th></th>\n",
       "    </tr>\n",
       "  </thead>\n",
       "  <tbody>\n",
       "    <tr>\n",
       "      <th>1</th>\n",
       "      <td>Melissa Lee</td>\n",
       "      <td>Male</td>\n",
       "      <td>False</td>\n",
       "      <td>Neuro</td>\n",
       "      <td>36.284564</td>\n",
       "      <td>21</td>\n",
       "      <td>325</td>\n",
       "      <td>9</td>\n",
       "    </tr>\n",
       "    <tr>\n",
       "      <th>2</th>\n",
       "      <td>David Cabrera</td>\n",
       "      <td>Male</td>\n",
       "      <td>False</td>\n",
       "      <td>Neuro</td>\n",
       "      <td>36.454276</td>\n",
       "      <td>21</td>\n",
       "      <td>309</td>\n",
       "      <td>9</td>\n",
       "    </tr>\n",
       "    <tr>\n",
       "      <th>3</th>\n",
       "      <td>David Vega</td>\n",
       "      <td>Male</td>\n",
       "      <td>True</td>\n",
       "      <td>Neuro</td>\n",
       "      <td>29.735890</td>\n",
       "      <td>18</td>\n",
       "      <td>348</td>\n",
       "      <td>8</td>\n",
       "    </tr>\n",
       "    <tr>\n",
       "      <th>4</th>\n",
       "      <td>Shannon Jacobs</td>\n",
       "      <td>Male</td>\n",
       "      <td>True</td>\n",
       "      <td>Neuro</td>\n",
       "      <td>30.133847</td>\n",
       "      <td>18</td>\n",
       "      <td>313</td>\n",
       "      <td>8</td>\n",
       "    </tr>\n",
       "    <tr>\n",
       "      <th>5</th>\n",
       "      <td>Richard Carter</td>\n",
       "      <td>Male</td>\n",
       "      <td>False</td>\n",
       "      <td>Neuro</td>\n",
       "      <td>36.517136</td>\n",
       "      <td>20</td>\n",
       "      <td>371</td>\n",
       "      <td>9</td>\n",
       "    </tr>\n",
       "  </tbody>\n",
       "</table>\n",
       "</div>"
      ],
      "text/plain": [
       "                   name   sex  from_Germany    MPI        age  papers  \\\n",
       "ranking                                                                 \n",
       "1           Melissa Lee  Male         False  Neuro  36.284564      21   \n",
       "2         David Cabrera  Male         False  Neuro  36.454276      21   \n",
       "3            David Vega  Male          True  Neuro  29.735890      18   \n",
       "4        Shannon Jacobs  Male          True  Neuro  30.133847      18   \n",
       "5        Richard Carter  Male         False  Neuro  36.517136      20   \n",
       "\n",
       "         citations  colleagues  \n",
       "ranking                         \n",
       "1              325           9  \n",
       "2              309           9  \n",
       "3              348           8  \n",
       "4              313           8  \n",
       "5              371           9  "
      ]
     },
     "execution_count": 154,
     "metadata": {},
     "output_type": "execute_result"
    }
   ],
   "source": [
    "df.drop(labels='coffees', axis=1).head()"
   ]
  },
  {
   "cell_type": "markdown",
   "metadata": {},
   "source": [
    "## Data manipulation"
   ]
  },
  {
   "cell_type": "code",
   "execution_count": 155,
   "metadata": {},
   "outputs": [
    {
     "data": {
      "text/html": [
       "<div>\n",
       "<style scoped>\n",
       "    .dataframe tbody tr th:only-of-type {\n",
       "        vertical-align: middle;\n",
       "    }\n",
       "\n",
       "    .dataframe tbody tr th {\n",
       "        vertical-align: top;\n",
       "    }\n",
       "\n",
       "    .dataframe thead th {\n",
       "        text-align: right;\n",
       "    }\n",
       "</style>\n",
       "<table border=\"1\" class=\"dataframe\">\n",
       "  <thead>\n",
       "    <tr style=\"text-align: right;\">\n",
       "      <th></th>\n",
       "      <th>name</th>\n",
       "      <th>sex</th>\n",
       "      <th>from_Germany</th>\n",
       "      <th>MPI</th>\n",
       "      <th>age</th>\n",
       "      <th>papers</th>\n",
       "      <th>citations</th>\n",
       "      <th>colleagues</th>\n",
       "      <th>coffees</th>\n",
       "    </tr>\n",
       "    <tr>\n",
       "      <th>ranking</th>\n",
       "      <th></th>\n",
       "      <th></th>\n",
       "      <th></th>\n",
       "      <th></th>\n",
       "      <th></th>\n",
       "      <th></th>\n",
       "      <th></th>\n",
       "      <th></th>\n",
       "      <th></th>\n",
       "    </tr>\n",
       "  </thead>\n",
       "  <tbody>\n",
       "    <tr>\n",
       "      <th>1</th>\n",
       "      <td>Melissa Lee</td>\n",
       "      <td>Male</td>\n",
       "      <td>False</td>\n",
       "      <td>Neuro</td>\n",
       "      <td>36.284564</td>\n",
       "      <td>21</td>\n",
       "      <td>325</td>\n",
       "      <td>9</td>\n",
       "      <td>6</td>\n",
       "    </tr>\n",
       "    <tr>\n",
       "      <th>2</th>\n",
       "      <td>David Cabrera</td>\n",
       "      <td>Male</td>\n",
       "      <td>False</td>\n",
       "      <td>Neuro</td>\n",
       "      <td>36.454276</td>\n",
       "      <td>21</td>\n",
       "      <td>309</td>\n",
       "      <td>9</td>\n",
       "      <td>6</td>\n",
       "    </tr>\n",
       "    <tr>\n",
       "      <th>3</th>\n",
       "      <td>David Vega</td>\n",
       "      <td>Male</td>\n",
       "      <td>True</td>\n",
       "      <td>Neuro</td>\n",
       "      <td>29.735890</td>\n",
       "      <td>18</td>\n",
       "      <td>348</td>\n",
       "      <td>8</td>\n",
       "      <td>5</td>\n",
       "    </tr>\n",
       "    <tr>\n",
       "      <th>4</th>\n",
       "      <td>Shannon Jacobs</td>\n",
       "      <td>Male</td>\n",
       "      <td>True</td>\n",
       "      <td>Neuro</td>\n",
       "      <td>30.133847</td>\n",
       "      <td>18</td>\n",
       "      <td>313</td>\n",
       "      <td>8</td>\n",
       "      <td>4</td>\n",
       "    </tr>\n",
       "    <tr>\n",
       "      <th>5</th>\n",
       "      <td>Richard Carter</td>\n",
       "      <td>Male</td>\n",
       "      <td>False</td>\n",
       "      <td>Neuro</td>\n",
       "      <td>36.517136</td>\n",
       "      <td>20</td>\n",
       "      <td>371</td>\n",
       "      <td>9</td>\n",
       "      <td>5</td>\n",
       "    </tr>\n",
       "  </tbody>\n",
       "</table>\n",
       "</div>"
      ],
      "text/plain": [
       "                   name   sex  from_Germany    MPI        age  papers  \\\n",
       "ranking                                                                 \n",
       "1           Melissa Lee  Male         False  Neuro  36.284564      21   \n",
       "2         David Cabrera  Male         False  Neuro  36.454276      21   \n",
       "3            David Vega  Male          True  Neuro  29.735890      18   \n",
       "4        Shannon Jacobs  Male          True  Neuro  30.133847      18   \n",
       "5        Richard Carter  Male         False  Neuro  36.517136      20   \n",
       "\n",
       "         citations  colleagues  coffees  \n",
       "ranking                                  \n",
       "1              325           9        6  \n",
       "2              309           9        6  \n",
       "3              348           8        5  \n",
       "4              313           8        4  \n",
       "5              371           9        5  "
      ]
     },
     "execution_count": 155,
     "metadata": {},
     "output_type": "execute_result"
    }
   ],
   "source": [
    "df.head()"
   ]
  },
  {
   "cell_type": "markdown",
   "metadata": {},
   "source": [
    "### Changing column values"
   ]
  },
  {
   "cell_type": "code",
   "execution_count": 156,
   "metadata": {},
   "outputs": [],
   "source": [
    "df['coffees'] += 5"
   ]
  },
  {
   "cell_type": "code",
   "execution_count": 157,
   "metadata": {},
   "outputs": [
    {
     "data": {
      "text/html": [
       "<div>\n",
       "<style scoped>\n",
       "    .dataframe tbody tr th:only-of-type {\n",
       "        vertical-align: middle;\n",
       "    }\n",
       "\n",
       "    .dataframe tbody tr th {\n",
       "        vertical-align: top;\n",
       "    }\n",
       "\n",
       "    .dataframe thead th {\n",
       "        text-align: right;\n",
       "    }\n",
       "</style>\n",
       "<table border=\"1\" class=\"dataframe\">\n",
       "  <thead>\n",
       "    <tr style=\"text-align: right;\">\n",
       "      <th></th>\n",
       "      <th>name</th>\n",
       "      <th>sex</th>\n",
       "      <th>from_Germany</th>\n",
       "      <th>MPI</th>\n",
       "      <th>age</th>\n",
       "      <th>papers</th>\n",
       "      <th>citations</th>\n",
       "      <th>colleagues</th>\n",
       "      <th>coffees</th>\n",
       "    </tr>\n",
       "    <tr>\n",
       "      <th>ranking</th>\n",
       "      <th></th>\n",
       "      <th></th>\n",
       "      <th></th>\n",
       "      <th></th>\n",
       "      <th></th>\n",
       "      <th></th>\n",
       "      <th></th>\n",
       "      <th></th>\n",
       "      <th></th>\n",
       "    </tr>\n",
       "  </thead>\n",
       "  <tbody>\n",
       "    <tr>\n",
       "      <th>1</th>\n",
       "      <td>Melissa Lee</td>\n",
       "      <td>Male</td>\n",
       "      <td>False</td>\n",
       "      <td>Neuro</td>\n",
       "      <td>36.284564</td>\n",
       "      <td>21</td>\n",
       "      <td>325</td>\n",
       "      <td>9</td>\n",
       "      <td>11</td>\n",
       "    </tr>\n",
       "    <tr>\n",
       "      <th>2</th>\n",
       "      <td>David Cabrera</td>\n",
       "      <td>Male</td>\n",
       "      <td>False</td>\n",
       "      <td>Neuro</td>\n",
       "      <td>36.454276</td>\n",
       "      <td>21</td>\n",
       "      <td>309</td>\n",
       "      <td>9</td>\n",
       "      <td>11</td>\n",
       "    </tr>\n",
       "    <tr>\n",
       "      <th>3</th>\n",
       "      <td>David Vega</td>\n",
       "      <td>Male</td>\n",
       "      <td>True</td>\n",
       "      <td>Neuro</td>\n",
       "      <td>29.735890</td>\n",
       "      <td>18</td>\n",
       "      <td>348</td>\n",
       "      <td>8</td>\n",
       "      <td>10</td>\n",
       "    </tr>\n",
       "    <tr>\n",
       "      <th>4</th>\n",
       "      <td>Shannon Jacobs</td>\n",
       "      <td>Male</td>\n",
       "      <td>True</td>\n",
       "      <td>Neuro</td>\n",
       "      <td>30.133847</td>\n",
       "      <td>18</td>\n",
       "      <td>313</td>\n",
       "      <td>8</td>\n",
       "      <td>9</td>\n",
       "    </tr>\n",
       "    <tr>\n",
       "      <th>5</th>\n",
       "      <td>Richard Carter</td>\n",
       "      <td>Male</td>\n",
       "      <td>False</td>\n",
       "      <td>Neuro</td>\n",
       "      <td>36.517136</td>\n",
       "      <td>20</td>\n",
       "      <td>371</td>\n",
       "      <td>9</td>\n",
       "      <td>10</td>\n",
       "    </tr>\n",
       "  </tbody>\n",
       "</table>\n",
       "</div>"
      ],
      "text/plain": [
       "                   name   sex  from_Germany    MPI        age  papers  \\\n",
       "ranking                                                                 \n",
       "1           Melissa Lee  Male         False  Neuro  36.284564      21   \n",
       "2         David Cabrera  Male         False  Neuro  36.454276      21   \n",
       "3            David Vega  Male          True  Neuro  29.735890      18   \n",
       "4        Shannon Jacobs  Male          True  Neuro  30.133847      18   \n",
       "5        Richard Carter  Male         False  Neuro  36.517136      20   \n",
       "\n",
       "         citations  colleagues  coffees  \n",
       "ranking                                  \n",
       "1              325           9       11  \n",
       "2              309           9       11  \n",
       "3              348           8       10  \n",
       "4              313           8        9  \n",
       "5              371           9       10  "
      ]
     },
     "execution_count": 157,
     "metadata": {},
     "output_type": "execute_result"
    }
   ],
   "source": [
    "df.head()"
   ]
  },
  {
   "cell_type": "code",
   "execution_count": 158,
   "metadata": {},
   "outputs": [],
   "source": [
    "df['citations_per_paper'] = df['citations'] / df['papers']"
   ]
  },
  {
   "cell_type": "code",
   "execution_count": 159,
   "metadata": {},
   "outputs": [
    {
     "data": {
      "text/html": [
       "<div>\n",
       "<style scoped>\n",
       "    .dataframe tbody tr th:only-of-type {\n",
       "        vertical-align: middle;\n",
       "    }\n",
       "\n",
       "    .dataframe tbody tr th {\n",
       "        vertical-align: top;\n",
       "    }\n",
       "\n",
       "    .dataframe thead th {\n",
       "        text-align: right;\n",
       "    }\n",
       "</style>\n",
       "<table border=\"1\" class=\"dataframe\">\n",
       "  <thead>\n",
       "    <tr style=\"text-align: right;\">\n",
       "      <th></th>\n",
       "      <th>name</th>\n",
       "      <th>sex</th>\n",
       "      <th>from_Germany</th>\n",
       "      <th>MPI</th>\n",
       "      <th>age</th>\n",
       "      <th>papers</th>\n",
       "      <th>citations</th>\n",
       "      <th>colleagues</th>\n",
       "      <th>coffees</th>\n",
       "      <th>citations_per_paper</th>\n",
       "    </tr>\n",
       "    <tr>\n",
       "      <th>ranking</th>\n",
       "      <th></th>\n",
       "      <th></th>\n",
       "      <th></th>\n",
       "      <th></th>\n",
       "      <th></th>\n",
       "      <th></th>\n",
       "      <th></th>\n",
       "      <th></th>\n",
       "      <th></th>\n",
       "      <th></th>\n",
       "    </tr>\n",
       "  </thead>\n",
       "  <tbody>\n",
       "    <tr>\n",
       "      <th>1</th>\n",
       "      <td>Melissa Lee</td>\n",
       "      <td>Male</td>\n",
       "      <td>False</td>\n",
       "      <td>Neuro</td>\n",
       "      <td>36.284564</td>\n",
       "      <td>21</td>\n",
       "      <td>325</td>\n",
       "      <td>9</td>\n",
       "      <td>11</td>\n",
       "      <td>15.476190</td>\n",
       "    </tr>\n",
       "    <tr>\n",
       "      <th>2</th>\n",
       "      <td>David Cabrera</td>\n",
       "      <td>Male</td>\n",
       "      <td>False</td>\n",
       "      <td>Neuro</td>\n",
       "      <td>36.454276</td>\n",
       "      <td>21</td>\n",
       "      <td>309</td>\n",
       "      <td>9</td>\n",
       "      <td>11</td>\n",
       "      <td>14.714286</td>\n",
       "    </tr>\n",
       "    <tr>\n",
       "      <th>3</th>\n",
       "      <td>David Vega</td>\n",
       "      <td>Male</td>\n",
       "      <td>True</td>\n",
       "      <td>Neuro</td>\n",
       "      <td>29.735890</td>\n",
       "      <td>18</td>\n",
       "      <td>348</td>\n",
       "      <td>8</td>\n",
       "      <td>10</td>\n",
       "      <td>19.333333</td>\n",
       "    </tr>\n",
       "    <tr>\n",
       "      <th>4</th>\n",
       "      <td>Shannon Jacobs</td>\n",
       "      <td>Male</td>\n",
       "      <td>True</td>\n",
       "      <td>Neuro</td>\n",
       "      <td>30.133847</td>\n",
       "      <td>18</td>\n",
       "      <td>313</td>\n",
       "      <td>8</td>\n",
       "      <td>9</td>\n",
       "      <td>17.388889</td>\n",
       "    </tr>\n",
       "    <tr>\n",
       "      <th>5</th>\n",
       "      <td>Richard Carter</td>\n",
       "      <td>Male</td>\n",
       "      <td>False</td>\n",
       "      <td>Neuro</td>\n",
       "      <td>36.517136</td>\n",
       "      <td>20</td>\n",
       "      <td>371</td>\n",
       "      <td>9</td>\n",
       "      <td>10</td>\n",
       "      <td>18.550000</td>\n",
       "    </tr>\n",
       "  </tbody>\n",
       "</table>\n",
       "</div>"
      ],
      "text/plain": [
       "                   name   sex  from_Germany    MPI        age  papers  \\\n",
       "ranking                                                                 \n",
       "1           Melissa Lee  Male         False  Neuro  36.284564      21   \n",
       "2         David Cabrera  Male         False  Neuro  36.454276      21   \n",
       "3            David Vega  Male          True  Neuro  29.735890      18   \n",
       "4        Shannon Jacobs  Male          True  Neuro  30.133847      18   \n",
       "5        Richard Carter  Male         False  Neuro  36.517136      20   \n",
       "\n",
       "         citations  colleagues  coffees  citations_per_paper  \n",
       "ranking                                                       \n",
       "1              325           9       11            15.476190  \n",
       "2              309           9       11            14.714286  \n",
       "3              348           8       10            19.333333  \n",
       "4              313           8        9            17.388889  \n",
       "5              371           9       10            18.550000  "
      ]
     },
     "execution_count": 159,
     "metadata": {},
     "output_type": "execute_result"
    }
   ],
   "source": [
    "df.head()"
   ]
  },
  {
   "cell_type": "markdown",
   "metadata": {},
   "source": [
    "### Applying functions: group-wise"
   ]
  },
  {
   "cell_type": "markdown",
   "metadata": {},
   "source": [
    "### This is also called aggregation: **taking many samples and produce one value**"
   ]
  },
  {
   "cell_type": "code",
   "execution_count": 161,
   "metadata": {},
   "outputs": [
    {
     "data": {
      "text/plain": [
       "(31.362755062994122, 4.7470265301199825)"
      ]
     },
     "execution_count": 161,
     "metadata": {},
     "output_type": "execute_result"
    }
   ],
   "source": [
    "np.mean(df['age']), np.std(df['age'])"
   ]
  },
  {
   "cell_type": "markdown",
   "metadata": {},
   "source": [
    "This approach becomes redundant as soon as want to do calculate the same thing for many other columns. Pandas provides fucntions that take other functions as input and perform the operations on as many columns as you'd like:"
   ]
  },
  {
   "cell_type": "code",
   "execution_count": 165,
   "metadata": {},
   "outputs": [
    {
     "data": {
      "text/html": [
       "<div>\n",
       "<style scoped>\n",
       "    .dataframe tbody tr th:only-of-type {\n",
       "        vertical-align: middle;\n",
       "    }\n",
       "\n",
       "    .dataframe tbody tr th {\n",
       "        vertical-align: top;\n",
       "    }\n",
       "\n",
       "    .dataframe thead th {\n",
       "        text-align: right;\n",
       "    }\n",
       "</style>\n",
       "<table border=\"1\" class=\"dataframe\">\n",
       "  <thead>\n",
       "    <tr style=\"text-align: right;\">\n",
       "      <th></th>\n",
       "      <th>name</th>\n",
       "      <th>sex</th>\n",
       "      <th>from_Germany</th>\n",
       "      <th>MPI</th>\n",
       "      <th>age</th>\n",
       "      <th>papers</th>\n",
       "      <th>citations</th>\n",
       "      <th>colleagues</th>\n",
       "      <th>coffees</th>\n",
       "      <th>citations_per_paper</th>\n",
       "    </tr>\n",
       "  </thead>\n",
       "  <tbody>\n",
       "    <tr>\n",
       "      <th>amin</th>\n",
       "      <td>Aaron Brooks</td>\n",
       "      <td>Female</td>\n",
       "      <td>False</td>\n",
       "      <td>Biochem</td>\n",
       "      <td>23.176235</td>\n",
       "      <td>2.000000</td>\n",
       "      <td>-8.000000</td>\n",
       "      <td>0.000000</td>\n",
       "      <td>5.000000</td>\n",
       "      <td>-1.142857</td>\n",
       "    </tr>\n",
       "    <tr>\n",
       "      <th>amax</th>\n",
       "      <td>Yesenia Rodriguez</td>\n",
       "      <td>Male</td>\n",
       "      <td>True</td>\n",
       "      <td>Neuro</td>\n",
       "      <td>44.467649</td>\n",
       "      <td>21.000000</td>\n",
       "      <td>371.000000</td>\n",
       "      <td>9.000000</td>\n",
       "      <td>12.000000</td>\n",
       "      <td>25.333333</td>\n",
       "    </tr>\n",
       "    <tr>\n",
       "      <th>mean</th>\n",
       "      <td>NaN</td>\n",
       "      <td>NaN</td>\n",
       "      <td>0.5</td>\n",
       "      <td>NaN</td>\n",
       "      <td>31.362755</td>\n",
       "      <td>10.983333</td>\n",
       "      <td>130.416667</td>\n",
       "      <td>4.050000</td>\n",
       "      <td>6.753333</td>\n",
       "      <td>11.323555</td>\n",
       "    </tr>\n",
       "    <tr>\n",
       "      <th>std</th>\n",
       "      <td>NaN</td>\n",
       "      <td>NaN</td>\n",
       "      <td>0.500835</td>\n",
       "      <td>NaN</td>\n",
       "      <td>4.754958</td>\n",
       "      <td>3.216240</td>\n",
       "      <td>79.433675</td>\n",
       "      <td>1.688293</td>\n",
       "      <td>2.416323</td>\n",
       "      <td>5.052053</td>\n",
       "    </tr>\n",
       "  </tbody>\n",
       "</table>\n",
       "</div>"
      ],
      "text/plain": [
       "                   name     sex from_Germany      MPI        age     papers  \\\n",
       "amin       Aaron Brooks  Female        False  Biochem  23.176235   2.000000   \n",
       "amax  Yesenia Rodriguez    Male         True    Neuro  44.467649  21.000000   \n",
       "mean                NaN     NaN          0.5      NaN  31.362755  10.983333   \n",
       "std                 NaN     NaN     0.500835      NaN   4.754958   3.216240   \n",
       "\n",
       "       citations  colleagues    coffees  citations_per_paper  \n",
       "amin   -8.000000    0.000000   5.000000            -1.142857  \n",
       "amax  371.000000    9.000000  12.000000            25.333333  \n",
       "mean  130.416667    4.050000   6.753333            11.323555  \n",
       "std    79.433675    1.688293   2.416323             5.052053  "
      ]
     },
     "execution_count": 165,
     "metadata": {},
     "output_type": "execute_result"
    }
   ],
   "source": [
    "df.agg([np.mean, np.std, np.min, np.max])"
   ]
  },
  {
   "cell_type": "code",
   "execution_count": 178,
   "metadata": {},
   "outputs": [
    {
     "data": {
      "text/html": [
       "<div>\n",
       "<style scoped>\n",
       "    .dataframe tbody tr th:only-of-type {\n",
       "        vertical-align: middle;\n",
       "    }\n",
       "\n",
       "    .dataframe tbody tr th {\n",
       "        vertical-align: top;\n",
       "    }\n",
       "\n",
       "    .dataframe thead th {\n",
       "        text-align: right;\n",
       "    }\n",
       "</style>\n",
       "<table border=\"1\" class=\"dataframe\">\n",
       "  <thead>\n",
       "    <tr style=\"text-align: right;\">\n",
       "      <th></th>\n",
       "      <th>age</th>\n",
       "      <th>papers</th>\n",
       "    </tr>\n",
       "  </thead>\n",
       "  <tbody>\n",
       "    <tr>\n",
       "      <th>mean</th>\n",
       "      <td>31.362755</td>\n",
       "      <td>10.983333</td>\n",
       "    </tr>\n",
       "    <tr>\n",
       "      <th>std</th>\n",
       "      <td>4.754958</td>\n",
       "      <td>3.216240</td>\n",
       "    </tr>\n",
       "    <tr>\n",
       "      <th>amin</th>\n",
       "      <td>23.176235</td>\n",
       "      <td>2.000000</td>\n",
       "    </tr>\n",
       "    <tr>\n",
       "      <th>amax</th>\n",
       "      <td>44.467649</td>\n",
       "      <td>21.000000</td>\n",
       "    </tr>\n",
       "  </tbody>\n",
       "</table>\n",
       "</div>"
      ],
      "text/plain": [
       "            age     papers\n",
       "mean  31.362755  10.983333\n",
       "std    4.754958   3.216240\n",
       "amin  23.176235   2.000000\n",
       "amax  44.467649  21.000000"
      ]
     },
     "execution_count": 178,
     "metadata": {},
     "output_type": "execute_result"
    }
   ],
   "source": [
    "cols = ['age', 'papers']\n",
    "df[cols].agg([np.mean, np.std, np.min, np.max])"
   ]
  },
  {
   "cell_type": "markdown",
   "metadata": {},
   "source": [
    "There many other function one can use to produce more information about the data in hand:"
   ]
  },
  {
   "cell_type": "markdown",
   "metadata": {},
   "source": [
    "<center>\n",
    "    <img src=\"pandas_function.png\" width=\"70%\"/>\n",
    "</center>"
   ]
  },
  {
   "cell_type": "markdown",
   "metadata": {},
   "source": [
    "### Applying functions: element-wise"
   ]
  },
  {
   "cell_type": "code",
   "execution_count": 201,
   "metadata": {},
   "outputs": [],
   "source": [
    "df['coffees'] -= df['coffees'].min()"
   ]
  },
  {
   "cell_type": "markdown",
   "metadata": {},
   "source": [
    "However, again, we are working with one column at the time. How can we change the elements of multiple functions "
   ]
  },
  {
   "cell_type": "code",
   "execution_count": 219,
   "metadata": {},
   "outputs": [],
   "source": [
    "cols = ['coffees']\n",
    "df[cols] = df[cols].apply(lambda x: x / x.max())"
   ]
  },
  {
   "cell_type": "markdown",
   "metadata": {},
   "source": [
    "Normalize all the columns (between 0 and 1)"
   ]
  },
  {
   "cell_type": "code",
   "execution_count": 210,
   "metadata": {},
   "outputs": [],
   "source": [
    "cols = ['age', 'papers', 'citations', 'colleagues']\n",
    "df_noremd = df[cols].apply(lambda x: x / x.max()).copy()"
   ]
  },
  {
   "cell_type": "code",
   "execution_count": 207,
   "metadata": {},
   "outputs": [
    {
     "data": {
      "text/html": [
       "<div>\n",
       "<style scoped>\n",
       "    .dataframe tbody tr th:only-of-type {\n",
       "        vertical-align: middle;\n",
       "    }\n",
       "\n",
       "    .dataframe tbody tr th {\n",
       "        vertical-align: top;\n",
       "    }\n",
       "\n",
       "    .dataframe thead th {\n",
       "        text-align: right;\n",
       "    }\n",
       "</style>\n",
       "<table border=\"1\" class=\"dataframe\">\n",
       "  <thead>\n",
       "    <tr style=\"text-align: right;\">\n",
       "      <th></th>\n",
       "      <th>age</th>\n",
       "      <th>papers</th>\n",
       "      <th>citations</th>\n",
       "      <th>colleagues</th>\n",
       "      <th>coffees</th>\n",
       "    </tr>\n",
       "  </thead>\n",
       "  <tbody>\n",
       "    <tr>\n",
       "      <th>amax</th>\n",
       "      <td>1.0</td>\n",
       "      <td>1.0</td>\n",
       "      <td>1.0</td>\n",
       "      <td>1.0</td>\n",
       "      <td>1.0</td>\n",
       "    </tr>\n",
       "    <tr>\n",
       "      <th>amin</th>\n",
       "      <td>0.0</td>\n",
       "      <td>0.0</td>\n",
       "      <td>0.0</td>\n",
       "      <td>0.0</td>\n",
       "      <td>0.0</td>\n",
       "    </tr>\n",
       "  </tbody>\n",
       "</table>\n",
       "</div>"
      ],
      "text/plain": [
       "      age  papers  citations  colleagues  coffees\n",
       "amax  1.0     1.0        1.0         1.0      1.0\n",
       "amin  0.0     0.0        0.0         0.0      0.0"
      ]
     },
     "execution_count": 207,
     "metadata": {},
     "output_type": "execute_result"
    }
   ],
   "source": [
    "df_noremd.agg([np.max, np.min])"
   ]
  },
  {
   "cell_type": "markdown",
   "metadata": {},
   "source": [
    "## Borh `agg()` and `apply()` can be done both column-wise and row-wise"
   ]
  },
  {
   "cell_type": "code",
   "execution_count": 275,
   "metadata": {},
   "outputs": [],
   "source": [
    "cols = ['age', 'papers', 'citations', 'colleagues']"
   ]
  },
  {
   "cell_type": "code",
   "execution_count": 277,
   "metadata": {},
   "outputs": [
    {
     "data": {
      "text/plain": [
       "ranking\n",
       "1    9.000000\n",
       "2    9.000000\n",
       "3    6.559656\n",
       "4    6.957612\n",
       "5    9.000000\n",
       "dtype: float64"
      ]
     },
     "execution_count": 277,
     "metadata": {},
     "output_type": "execute_result"
    }
   ],
   "source": [
    "df[cols].agg(np.min, axis=1).head()"
   ]
  },
  {
   "cell_type": "code",
   "execution_count": 278,
   "metadata": {},
   "outputs": [
    {
     "data": {
      "text/html": [
       "<div>\n",
       "<style scoped>\n",
       "    .dataframe tbody tr th:only-of-type {\n",
       "        vertical-align: middle;\n",
       "    }\n",
       "\n",
       "    .dataframe tbody tr th {\n",
       "        vertical-align: top;\n",
       "    }\n",
       "\n",
       "    .dataframe thead th {\n",
       "        text-align: right;\n",
       "    }\n",
       "</style>\n",
       "<table border=\"1\" class=\"dataframe\">\n",
       "  <thead>\n",
       "    <tr style=\"text-align: right;\">\n",
       "      <th></th>\n",
       "      <th>age</th>\n",
       "      <th>papers</th>\n",
       "      <th>citations</th>\n",
       "      <th>colleagues</th>\n",
       "    </tr>\n",
       "    <tr>\n",
       "      <th>ranking</th>\n",
       "      <th></th>\n",
       "      <th></th>\n",
       "      <th></th>\n",
       "      <th></th>\n",
       "    </tr>\n",
       "  </thead>\n",
       "  <tbody>\n",
       "    <tr>\n",
       "      <th>1</th>\n",
       "      <td>4.108329</td>\n",
       "      <td>10.000000</td>\n",
       "      <td>324.000000</td>\n",
       "      <td>0.000000</td>\n",
       "    </tr>\n",
       "    <tr>\n",
       "      <th>2</th>\n",
       "      <td>4.278041</td>\n",
       "      <td>10.000000</td>\n",
       "      <td>308.000000</td>\n",
       "      <td>0.000000</td>\n",
       "    </tr>\n",
       "    <tr>\n",
       "      <th>3</th>\n",
       "      <td>0.000000</td>\n",
       "      <td>9.440344</td>\n",
       "      <td>349.440344</td>\n",
       "      <td>1.440344</td>\n",
       "    </tr>\n",
       "    <tr>\n",
       "      <th>4</th>\n",
       "      <td>0.000000</td>\n",
       "      <td>9.042388</td>\n",
       "      <td>314.042388</td>\n",
       "      <td>1.042388</td>\n",
       "    </tr>\n",
       "    <tr>\n",
       "      <th>5</th>\n",
       "      <td>4.340902</td>\n",
       "      <td>9.000000</td>\n",
       "      <td>370.000000</td>\n",
       "      <td>0.000000</td>\n",
       "    </tr>\n",
       "  </tbody>\n",
       "</table>\n",
       "</div>"
      ],
      "text/plain": [
       "              age     papers   citations  colleagues\n",
       "ranking                                             \n",
       "1        4.108329  10.000000  324.000000    0.000000\n",
       "2        4.278041  10.000000  308.000000    0.000000\n",
       "3        0.000000   9.440344  349.440344    1.440344\n",
       "4        0.000000   9.042388  314.042388    1.042388\n",
       "5        4.340902   9.000000  370.000000    0.000000"
      ]
     },
     "execution_count": 278,
     "metadata": {},
     "output_type": "execute_result"
    }
   ],
   "source": [
    "df[cols].apply(lambda x: x - x.min(), axis=1).head()"
   ]
  },
  {
   "cell_type": "markdown",
   "metadata": {},
   "source": [
    "## Merging and Splitting"
   ]
  },
  {
   "cell_type": "markdown",
   "metadata": {},
   "source": [
    "### Two DataFrame, same size, common column(s)"
   ]
  },
  {
   "cell_type": "code",
   "execution_count": 249,
   "metadata": {},
   "outputs": [
    {
     "data": {
      "text/html": [
       "<div>\n",
       "<style scoped>\n",
       "    .dataframe tbody tr th:only-of-type {\n",
       "        vertical-align: middle;\n",
       "    }\n",
       "\n",
       "    .dataframe tbody tr th {\n",
       "        vertical-align: top;\n",
       "    }\n",
       "\n",
       "    .dataframe thead th {\n",
       "        text-align: right;\n",
       "    }\n",
       "</style>\n",
       "<table border=\"1\" class=\"dataframe\">\n",
       "  <thead>\n",
       "    <tr style=\"text-align: right;\">\n",
       "      <th></th>\n",
       "      <th>A</th>\n",
       "      <th>B</th>\n",
       "      <th>C</th>\n",
       "      <th>D</th>\n",
       "    </tr>\n",
       "  </thead>\n",
       "  <tbody>\n",
       "    <tr>\n",
       "      <th>0</th>\n",
       "      <td>1</td>\n",
       "      <td>10</td>\n",
       "      <td>100</td>\n",
       "      <td>1000</td>\n",
       "    </tr>\n",
       "    <tr>\n",
       "      <th>1</th>\n",
       "      <td>2</td>\n",
       "      <td>20</td>\n",
       "      <td>200</td>\n",
       "      <td>2000</td>\n",
       "    </tr>\n",
       "    <tr>\n",
       "      <th>2</th>\n",
       "      <td>3</td>\n",
       "      <td>30</td>\n",
       "      <td>300</td>\n",
       "      <td>3000</td>\n",
       "    </tr>\n",
       "    <tr>\n",
       "      <th>3</th>\n",
       "      <td>4</td>\n",
       "      <td>40</td>\n",
       "      <td>400</td>\n",
       "      <td>4000</td>\n",
       "    </tr>\n",
       "    <tr>\n",
       "      <th>4</th>\n",
       "      <td>5</td>\n",
       "      <td>50</td>\n",
       "      <td>500</td>\n",
       "      <td>5000</td>\n",
       "    </tr>\n",
       "  </tbody>\n",
       "</table>\n",
       "</div>"
      ],
      "text/plain": [
       "   A   B    C     D\n",
       "0  1  10  100  1000\n",
       "1  2  20  200  2000\n",
       "2  3  30  300  3000\n",
       "3  4  40  400  4000\n",
       "4  5  50  500  5000"
      ]
     },
     "execution_count": 249,
     "metadata": {},
     "output_type": "execute_result"
    }
   ],
   "source": [
    "left = pd.DataFrame({'A': [1, 2, 3, 4, 5],\n",
    "                     'B': [10, 20, 30, 40, 50], \n",
    "                     'C': [100, 200, 300, 400, 500]})\n",
    "\n",
    "right = pd.DataFrame({'A': [1, 2, 3, 4, 5],\n",
    "                      'B': [10, 20, 30, 40, 50], \n",
    "                      'D': [1000, 2000, 3000, 4000, 5000]})\n",
    "\n",
    "pd.merge(left, right)"
   ]
  },
  {
   "cell_type": "markdown",
   "metadata": {},
   "source": [
    "### Two DataFrame, different size, common column(s)"
   ]
  },
  {
   "cell_type": "code",
   "execution_count": 267,
   "metadata": {},
   "outputs": [],
   "source": [
    "left = pd.DataFrame({'session': [1, 2, 3],\n",
    "                     'mean_RT': [.3, .27, .25], \n",
    "                     'mean_perc_correct': [.6, .8, 1]})\n",
    "\n",
    "right = pd.DataFrame({'session': [1, 1, 1, 1, 1, 2, 2, 2, 2, 2, 3, 3, 3, 3, 3],\n",
    "                      'trial': [1, 2, 3, 4, 5, 1, 2, 3, 4, 5, 1, 2, 3, 4, 5],\n",
    "                      'RT': [.29, .28, .3, .32, .31, .28, .27, .29, .26, .25, .25, .24, .27, .26, .24], \n",
    "                      'correct': [0, 0, 1, 1, 1, 0, 1, 1, 1, 1, 1, 1, 1, 1, 1]})"
   ]
  },
  {
   "cell_type": "code",
   "execution_count": 268,
   "metadata": {},
   "outputs": [
    {
     "data": {
      "text/html": [
       "<div>\n",
       "<style scoped>\n",
       "    .dataframe tbody tr th:only-of-type {\n",
       "        vertical-align: middle;\n",
       "    }\n",
       "\n",
       "    .dataframe tbody tr th {\n",
       "        vertical-align: top;\n",
       "    }\n",
       "\n",
       "    .dataframe thead th {\n",
       "        text-align: right;\n",
       "    }\n",
       "</style>\n",
       "<table border=\"1\" class=\"dataframe\">\n",
       "  <thead>\n",
       "    <tr style=\"text-align: right;\">\n",
       "      <th></th>\n",
       "      <th>session</th>\n",
       "      <th>mean_RT</th>\n",
       "      <th>mean_perc_correct</th>\n",
       "    </tr>\n",
       "  </thead>\n",
       "  <tbody>\n",
       "    <tr>\n",
       "      <th>0</th>\n",
       "      <td>1</td>\n",
       "      <td>0.30</td>\n",
       "      <td>0.6</td>\n",
       "    </tr>\n",
       "    <tr>\n",
       "      <th>1</th>\n",
       "      <td>2</td>\n",
       "      <td>0.27</td>\n",
       "      <td>0.8</td>\n",
       "    </tr>\n",
       "    <tr>\n",
       "      <th>2</th>\n",
       "      <td>3</td>\n",
       "      <td>0.25</td>\n",
       "      <td>1.0</td>\n",
       "    </tr>\n",
       "  </tbody>\n",
       "</table>\n",
       "</div>"
      ],
      "text/plain": [
       "   session  mean_RT  mean_perc_correct\n",
       "0        1     0.30                0.6\n",
       "1        2     0.27                0.8\n",
       "2        3     0.25                1.0"
      ]
     },
     "execution_count": 268,
     "metadata": {},
     "output_type": "execute_result"
    }
   ],
   "source": [
    "left"
   ]
  },
  {
   "cell_type": "code",
   "execution_count": 269,
   "metadata": {},
   "outputs": [
    {
     "data": {
      "text/html": [
       "<div>\n",
       "<style scoped>\n",
       "    .dataframe tbody tr th:only-of-type {\n",
       "        vertical-align: middle;\n",
       "    }\n",
       "\n",
       "    .dataframe tbody tr th {\n",
       "        vertical-align: top;\n",
       "    }\n",
       "\n",
       "    .dataframe thead th {\n",
       "        text-align: right;\n",
       "    }\n",
       "</style>\n",
       "<table border=\"1\" class=\"dataframe\">\n",
       "  <thead>\n",
       "    <tr style=\"text-align: right;\">\n",
       "      <th></th>\n",
       "      <th>session</th>\n",
       "      <th>trial</th>\n",
       "      <th>RT</th>\n",
       "      <th>correct</th>\n",
       "    </tr>\n",
       "  </thead>\n",
       "  <tbody>\n",
       "    <tr>\n",
       "      <th>0</th>\n",
       "      <td>1</td>\n",
       "      <td>1</td>\n",
       "      <td>0.29</td>\n",
       "      <td>0</td>\n",
       "    </tr>\n",
       "    <tr>\n",
       "      <th>1</th>\n",
       "      <td>1</td>\n",
       "      <td>2</td>\n",
       "      <td>0.28</td>\n",
       "      <td>0</td>\n",
       "    </tr>\n",
       "    <tr>\n",
       "      <th>2</th>\n",
       "      <td>1</td>\n",
       "      <td>3</td>\n",
       "      <td>0.30</td>\n",
       "      <td>1</td>\n",
       "    </tr>\n",
       "    <tr>\n",
       "      <th>3</th>\n",
       "      <td>1</td>\n",
       "      <td>4</td>\n",
       "      <td>0.32</td>\n",
       "      <td>1</td>\n",
       "    </tr>\n",
       "    <tr>\n",
       "      <th>4</th>\n",
       "      <td>1</td>\n",
       "      <td>5</td>\n",
       "      <td>0.31</td>\n",
       "      <td>1</td>\n",
       "    </tr>\n",
       "    <tr>\n",
       "      <th>5</th>\n",
       "      <td>2</td>\n",
       "      <td>1</td>\n",
       "      <td>0.28</td>\n",
       "      <td>0</td>\n",
       "    </tr>\n",
       "    <tr>\n",
       "      <th>6</th>\n",
       "      <td>2</td>\n",
       "      <td>2</td>\n",
       "      <td>0.27</td>\n",
       "      <td>1</td>\n",
       "    </tr>\n",
       "    <tr>\n",
       "      <th>7</th>\n",
       "      <td>2</td>\n",
       "      <td>3</td>\n",
       "      <td>0.29</td>\n",
       "      <td>1</td>\n",
       "    </tr>\n",
       "    <tr>\n",
       "      <th>8</th>\n",
       "      <td>2</td>\n",
       "      <td>4</td>\n",
       "      <td>0.26</td>\n",
       "      <td>1</td>\n",
       "    </tr>\n",
       "    <tr>\n",
       "      <th>9</th>\n",
       "      <td>2</td>\n",
       "      <td>5</td>\n",
       "      <td>0.25</td>\n",
       "      <td>1</td>\n",
       "    </tr>\n",
       "    <tr>\n",
       "      <th>10</th>\n",
       "      <td>3</td>\n",
       "      <td>1</td>\n",
       "      <td>0.25</td>\n",
       "      <td>1</td>\n",
       "    </tr>\n",
       "    <tr>\n",
       "      <th>11</th>\n",
       "      <td>3</td>\n",
       "      <td>2</td>\n",
       "      <td>0.24</td>\n",
       "      <td>1</td>\n",
       "    </tr>\n",
       "    <tr>\n",
       "      <th>12</th>\n",
       "      <td>3</td>\n",
       "      <td>3</td>\n",
       "      <td>0.27</td>\n",
       "      <td>1</td>\n",
       "    </tr>\n",
       "    <tr>\n",
       "      <th>13</th>\n",
       "      <td>3</td>\n",
       "      <td>4</td>\n",
       "      <td>0.26</td>\n",
       "      <td>1</td>\n",
       "    </tr>\n",
       "    <tr>\n",
       "      <th>14</th>\n",
       "      <td>3</td>\n",
       "      <td>5</td>\n",
       "      <td>0.24</td>\n",
       "      <td>1</td>\n",
       "    </tr>\n",
       "  </tbody>\n",
       "</table>\n",
       "</div>"
      ],
      "text/plain": [
       "    session  trial    RT  correct\n",
       "0         1      1  0.29        0\n",
       "1         1      2  0.28        0\n",
       "2         1      3  0.30        1\n",
       "3         1      4  0.32        1\n",
       "4         1      5  0.31        1\n",
       "5         2      1  0.28        0\n",
       "6         2      2  0.27        1\n",
       "7         2      3  0.29        1\n",
       "8         2      4  0.26        1\n",
       "9         2      5  0.25        1\n",
       "10        3      1  0.25        1\n",
       "11        3      2  0.24        1\n",
       "12        3      3  0.27        1\n",
       "13        3      4  0.26        1\n",
       "14        3      5  0.24        1"
      ]
     },
     "execution_count": 269,
     "metadata": {},
     "output_type": "execute_result"
    }
   ],
   "source": [
    "right"
   ]
  },
  {
   "cell_type": "code",
   "execution_count": 271,
   "metadata": {},
   "outputs": [
    {
     "data": {
      "text/html": [
       "<div>\n",
       "<style scoped>\n",
       "    .dataframe tbody tr th:only-of-type {\n",
       "        vertical-align: middle;\n",
       "    }\n",
       "\n",
       "    .dataframe tbody tr th {\n",
       "        vertical-align: top;\n",
       "    }\n",
       "\n",
       "    .dataframe thead th {\n",
       "        text-align: right;\n",
       "    }\n",
       "</style>\n",
       "<table border=\"1\" class=\"dataframe\">\n",
       "  <thead>\n",
       "    <tr style=\"text-align: right;\">\n",
       "      <th></th>\n",
       "      <th>session</th>\n",
       "      <th>mean_RT</th>\n",
       "      <th>mean_perc_correct</th>\n",
       "      <th>trial</th>\n",
       "      <th>RT</th>\n",
       "      <th>correct</th>\n",
       "    </tr>\n",
       "  </thead>\n",
       "  <tbody>\n",
       "    <tr>\n",
       "      <th>0</th>\n",
       "      <td>1</td>\n",
       "      <td>0.30</td>\n",
       "      <td>0.6</td>\n",
       "      <td>1</td>\n",
       "      <td>0.29</td>\n",
       "      <td>0</td>\n",
       "    </tr>\n",
       "    <tr>\n",
       "      <th>1</th>\n",
       "      <td>1</td>\n",
       "      <td>0.30</td>\n",
       "      <td>0.6</td>\n",
       "      <td>2</td>\n",
       "      <td>0.28</td>\n",
       "      <td>0</td>\n",
       "    </tr>\n",
       "    <tr>\n",
       "      <th>2</th>\n",
       "      <td>1</td>\n",
       "      <td>0.30</td>\n",
       "      <td>0.6</td>\n",
       "      <td>3</td>\n",
       "      <td>0.30</td>\n",
       "      <td>1</td>\n",
       "    </tr>\n",
       "    <tr>\n",
       "      <th>3</th>\n",
       "      <td>1</td>\n",
       "      <td>0.30</td>\n",
       "      <td>0.6</td>\n",
       "      <td>4</td>\n",
       "      <td>0.32</td>\n",
       "      <td>1</td>\n",
       "    </tr>\n",
       "    <tr>\n",
       "      <th>4</th>\n",
       "      <td>1</td>\n",
       "      <td>0.30</td>\n",
       "      <td>0.6</td>\n",
       "      <td>5</td>\n",
       "      <td>0.31</td>\n",
       "      <td>1</td>\n",
       "    </tr>\n",
       "    <tr>\n",
       "      <th>5</th>\n",
       "      <td>2</td>\n",
       "      <td>0.27</td>\n",
       "      <td>0.8</td>\n",
       "      <td>1</td>\n",
       "      <td>0.28</td>\n",
       "      <td>0</td>\n",
       "    </tr>\n",
       "    <tr>\n",
       "      <th>6</th>\n",
       "      <td>2</td>\n",
       "      <td>0.27</td>\n",
       "      <td>0.8</td>\n",
       "      <td>2</td>\n",
       "      <td>0.27</td>\n",
       "      <td>1</td>\n",
       "    </tr>\n",
       "    <tr>\n",
       "      <th>7</th>\n",
       "      <td>2</td>\n",
       "      <td>0.27</td>\n",
       "      <td>0.8</td>\n",
       "      <td>3</td>\n",
       "      <td>0.29</td>\n",
       "      <td>1</td>\n",
       "    </tr>\n",
       "    <tr>\n",
       "      <th>8</th>\n",
       "      <td>2</td>\n",
       "      <td>0.27</td>\n",
       "      <td>0.8</td>\n",
       "      <td>4</td>\n",
       "      <td>0.26</td>\n",
       "      <td>1</td>\n",
       "    </tr>\n",
       "    <tr>\n",
       "      <th>9</th>\n",
       "      <td>2</td>\n",
       "      <td>0.27</td>\n",
       "      <td>0.8</td>\n",
       "      <td>5</td>\n",
       "      <td>0.25</td>\n",
       "      <td>1</td>\n",
       "    </tr>\n",
       "    <tr>\n",
       "      <th>10</th>\n",
       "      <td>3</td>\n",
       "      <td>0.25</td>\n",
       "      <td>1.0</td>\n",
       "      <td>1</td>\n",
       "      <td>0.25</td>\n",
       "      <td>1</td>\n",
       "    </tr>\n",
       "    <tr>\n",
       "      <th>11</th>\n",
       "      <td>3</td>\n",
       "      <td>0.25</td>\n",
       "      <td>1.0</td>\n",
       "      <td>2</td>\n",
       "      <td>0.24</td>\n",
       "      <td>1</td>\n",
       "    </tr>\n",
       "    <tr>\n",
       "      <th>12</th>\n",
       "      <td>3</td>\n",
       "      <td>0.25</td>\n",
       "      <td>1.0</td>\n",
       "      <td>3</td>\n",
       "      <td>0.27</td>\n",
       "      <td>1</td>\n",
       "    </tr>\n",
       "    <tr>\n",
       "      <th>13</th>\n",
       "      <td>3</td>\n",
       "      <td>0.25</td>\n",
       "      <td>1.0</td>\n",
       "      <td>4</td>\n",
       "      <td>0.26</td>\n",
       "      <td>1</td>\n",
       "    </tr>\n",
       "    <tr>\n",
       "      <th>14</th>\n",
       "      <td>3</td>\n",
       "      <td>0.25</td>\n",
       "      <td>1.0</td>\n",
       "      <td>5</td>\n",
       "      <td>0.24</td>\n",
       "      <td>1</td>\n",
       "    </tr>\n",
       "  </tbody>\n",
       "</table>\n",
       "</div>"
      ],
      "text/plain": [
       "    session  mean_RT  mean_perc_correct  trial    RT  correct\n",
       "0         1     0.30                0.6      1  0.29        0\n",
       "1         1     0.30                0.6      2  0.28        0\n",
       "2         1     0.30                0.6      3  0.30        1\n",
       "3         1     0.30                0.6      4  0.32        1\n",
       "4         1     0.30                0.6      5  0.31        1\n",
       "5         2     0.27                0.8      1  0.28        0\n",
       "6         2     0.27                0.8      2  0.27        1\n",
       "7         2     0.27                0.8      3  0.29        1\n",
       "8         2     0.27                0.8      4  0.26        1\n",
       "9         2     0.27                0.8      5  0.25        1\n",
       "10        3     0.25                1.0      1  0.25        1\n",
       "11        3     0.25                1.0      2  0.24        1\n",
       "12        3     0.25                1.0      3  0.27        1\n",
       "13        3     0.25                1.0      4  0.26        1\n",
       "14        3     0.25                1.0      5  0.24        1"
      ]
     },
     "execution_count": 271,
     "metadata": {},
     "output_type": "execute_result"
    }
   ],
   "source": [
    "pd.merge(left, right)"
   ]
  },
  {
   "cell_type": "markdown",
   "metadata": {},
   "source": [
    "## More on Merging"
   ]
  },
  {
   "cell_type": "code",
   "execution_count": 250,
   "metadata": {},
   "outputs": [
    {
     "data": {
      "text/html": [
       "<div>\n",
       "<style scoped>\n",
       "    .dataframe tbody tr th:only-of-type {\n",
       "        vertical-align: middle;\n",
       "    }\n",
       "\n",
       "    .dataframe tbody tr th {\n",
       "        vertical-align: top;\n",
       "    }\n",
       "\n",
       "    .dataframe thead th {\n",
       "        text-align: right;\n",
       "    }\n",
       "</style>\n",
       "<table border=\"1\" class=\"dataframe\">\n",
       "  <thead>\n",
       "    <tr style=\"text-align: right;\">\n",
       "      <th></th>\n",
       "      <th>A</th>\n",
       "      <th>B</th>\n",
       "      <th>C</th>\n",
       "      <th>D</th>\n",
       "    </tr>\n",
       "  </thead>\n",
       "  <tbody>\n",
       "    <tr>\n",
       "      <th>0</th>\n",
       "      <td>2</td>\n",
       "      <td>20</td>\n",
       "      <td>200</td>\n",
       "      <td>2000</td>\n",
       "    </tr>\n",
       "    <tr>\n",
       "      <th>1</th>\n",
       "      <td>4</td>\n",
       "      <td>40</td>\n",
       "      <td>400</td>\n",
       "      <td>4000</td>\n",
       "    </tr>\n",
       "  </tbody>\n",
       "</table>\n",
       "</div>"
      ],
      "text/plain": [
       "   A   B    C     D\n",
       "0  2  20  200  2000\n",
       "1  4  40  400  4000"
      ]
     },
     "execution_count": 250,
     "metadata": {},
     "output_type": "execute_result"
    }
   ],
   "source": [
    "left = pd.DataFrame({'A': [1, 2, 3, 4, 5],\n",
    "                     'B': [10, 20, 30, 40, 50], \n",
    "                     'C': [100, 200, 300, 400, 500]})\n",
    "\n",
    "right = pd.DataFrame({'A': [1, 2, 3, 4, 5],\n",
    "                      'B': [-10, 20, -30, 40, -50], \n",
    "                      'D': [1000, 2000, 3000, 4000, 5000]})\n",
    "pd.merge(left, right)"
   ]
  },
  {
   "cell_type": "markdown",
   "metadata": {},
   "source": [
    "What is happening here: Pandas looks for mutual labels (both index and rows). and by default takes the intersection of common labels"
   ]
  },
  {
   "cell_type": "markdown",
   "metadata": {},
   "source": [
    "How can we take the union?"
   ]
  },
  {
   "cell_type": "code",
   "execution_count": 253,
   "metadata": {},
   "outputs": [
    {
     "data": {
      "text/html": [
       "<div>\n",
       "<style scoped>\n",
       "    .dataframe tbody tr th:only-of-type {\n",
       "        vertical-align: middle;\n",
       "    }\n",
       "\n",
       "    .dataframe tbody tr th {\n",
       "        vertical-align: top;\n",
       "    }\n",
       "\n",
       "    .dataframe thead th {\n",
       "        text-align: right;\n",
       "    }\n",
       "</style>\n",
       "<table border=\"1\" class=\"dataframe\">\n",
       "  <thead>\n",
       "    <tr style=\"text-align: right;\">\n",
       "      <th></th>\n",
       "      <th>A</th>\n",
       "      <th>B</th>\n",
       "      <th>C</th>\n",
       "      <th>D</th>\n",
       "    </tr>\n",
       "  </thead>\n",
       "  <tbody>\n",
       "    <tr>\n",
       "      <th>0</th>\n",
       "      <td>1</td>\n",
       "      <td>10</td>\n",
       "      <td>100.0</td>\n",
       "      <td>NaN</td>\n",
       "    </tr>\n",
       "    <tr>\n",
       "      <th>1</th>\n",
       "      <td>2</td>\n",
       "      <td>20</td>\n",
       "      <td>200.0</td>\n",
       "      <td>2000.0</td>\n",
       "    </tr>\n",
       "    <tr>\n",
       "      <th>2</th>\n",
       "      <td>3</td>\n",
       "      <td>30</td>\n",
       "      <td>300.0</td>\n",
       "      <td>NaN</td>\n",
       "    </tr>\n",
       "    <tr>\n",
       "      <th>3</th>\n",
       "      <td>4</td>\n",
       "      <td>40</td>\n",
       "      <td>400.0</td>\n",
       "      <td>4000.0</td>\n",
       "    </tr>\n",
       "    <tr>\n",
       "      <th>4</th>\n",
       "      <td>5</td>\n",
       "      <td>50</td>\n",
       "      <td>500.0</td>\n",
       "      <td>NaN</td>\n",
       "    </tr>\n",
       "    <tr>\n",
       "      <th>5</th>\n",
       "      <td>1</td>\n",
       "      <td>-10</td>\n",
       "      <td>NaN</td>\n",
       "      <td>1000.0</td>\n",
       "    </tr>\n",
       "    <tr>\n",
       "      <th>6</th>\n",
       "      <td>3</td>\n",
       "      <td>-30</td>\n",
       "      <td>NaN</td>\n",
       "      <td>3000.0</td>\n",
       "    </tr>\n",
       "    <tr>\n",
       "      <th>7</th>\n",
       "      <td>5</td>\n",
       "      <td>-50</td>\n",
       "      <td>NaN</td>\n",
       "      <td>5000.0</td>\n",
       "    </tr>\n",
       "  </tbody>\n",
       "</table>\n",
       "</div>"
      ],
      "text/plain": [
       "   A   B      C       D\n",
       "0  1  10  100.0     NaN\n",
       "1  2  20  200.0  2000.0\n",
       "2  3  30  300.0     NaN\n",
       "3  4  40  400.0  4000.0\n",
       "4  5  50  500.0     NaN\n",
       "5  1 -10    NaN  1000.0\n",
       "6  3 -30    NaN  3000.0\n",
       "7  5 -50    NaN  5000.0"
      ]
     },
     "execution_count": 253,
     "metadata": {},
     "output_type": "execute_result"
    }
   ],
   "source": [
    "pd.merge(left, right, how='outer')"
   ]
  },
  {
   "cell_type": "markdown",
   "metadata": {},
   "source": [
    "How can we tell Pandas to only look into one column and take the intersection (or union)?"
   ]
  },
  {
   "cell_type": "code",
   "execution_count": 255,
   "metadata": {},
   "outputs": [
    {
     "data": {
      "text/html": [
       "<div>\n",
       "<style scoped>\n",
       "    .dataframe tbody tr th:only-of-type {\n",
       "        vertical-align: middle;\n",
       "    }\n",
       "\n",
       "    .dataframe tbody tr th {\n",
       "        vertical-align: top;\n",
       "    }\n",
       "\n",
       "    .dataframe thead th {\n",
       "        text-align: right;\n",
       "    }\n",
       "</style>\n",
       "<table border=\"1\" class=\"dataframe\">\n",
       "  <thead>\n",
       "    <tr style=\"text-align: right;\">\n",
       "      <th></th>\n",
       "      <th>A</th>\n",
       "      <th>B_x</th>\n",
       "      <th>C</th>\n",
       "      <th>B_y</th>\n",
       "      <th>D</th>\n",
       "    </tr>\n",
       "  </thead>\n",
       "  <tbody>\n",
       "    <tr>\n",
       "      <th>0</th>\n",
       "      <td>1</td>\n",
       "      <td>10</td>\n",
       "      <td>100</td>\n",
       "      <td>-10</td>\n",
       "      <td>1000</td>\n",
       "    </tr>\n",
       "    <tr>\n",
       "      <th>1</th>\n",
       "      <td>2</td>\n",
       "      <td>20</td>\n",
       "      <td>200</td>\n",
       "      <td>20</td>\n",
       "      <td>2000</td>\n",
       "    </tr>\n",
       "    <tr>\n",
       "      <th>2</th>\n",
       "      <td>3</td>\n",
       "      <td>30</td>\n",
       "      <td>300</td>\n",
       "      <td>-30</td>\n",
       "      <td>3000</td>\n",
       "    </tr>\n",
       "    <tr>\n",
       "      <th>3</th>\n",
       "      <td>4</td>\n",
       "      <td>40</td>\n",
       "      <td>400</td>\n",
       "      <td>40</td>\n",
       "      <td>4000</td>\n",
       "    </tr>\n",
       "    <tr>\n",
       "      <th>4</th>\n",
       "      <td>5</td>\n",
       "      <td>50</td>\n",
       "      <td>500</td>\n",
       "      <td>-50</td>\n",
       "      <td>5000</td>\n",
       "    </tr>\n",
       "  </tbody>\n",
       "</table>\n",
       "</div>"
      ],
      "text/plain": [
       "   A  B_x    C  B_y     D\n",
       "0  1   10  100  -10  1000\n",
       "1  2   20  200   20  2000\n",
       "2  3   30  300  -30  3000\n",
       "3  4   40  400   40  4000\n",
       "4  5   50  500  -50  5000"
      ]
     },
     "execution_count": 255,
     "metadata": {},
     "output_type": "execute_result"
    }
   ],
   "source": [
    "pd.merge(left, right, on='A')"
   ]
  },
  {
   "cell_type": "markdown",
   "metadata": {},
   "source": [
    "### **Note**: since A is completely similar between the two dataframes, the outer and inner would not differ"
   ]
  },
  {
   "cell_type": "code",
   "execution_count": 258,
   "metadata": {},
   "outputs": [
    {
     "data": {
      "text/html": [
       "<div>\n",
       "<style scoped>\n",
       "    .dataframe tbody tr th:only-of-type {\n",
       "        vertical-align: middle;\n",
       "    }\n",
       "\n",
       "    .dataframe tbody tr th {\n",
       "        vertical-align: top;\n",
       "    }\n",
       "\n",
       "    .dataframe thead th {\n",
       "        text-align: right;\n",
       "    }\n",
       "</style>\n",
       "<table border=\"1\" class=\"dataframe\">\n",
       "  <thead>\n",
       "    <tr style=\"text-align: right;\">\n",
       "      <th></th>\n",
       "      <th>A</th>\n",
       "      <th>B_x</th>\n",
       "      <th>C</th>\n",
       "      <th>B_y</th>\n",
       "      <th>D</th>\n",
       "    </tr>\n",
       "  </thead>\n",
       "  <tbody>\n",
       "    <tr>\n",
       "      <th>0</th>\n",
       "      <td>1</td>\n",
       "      <td>10</td>\n",
       "      <td>100</td>\n",
       "      <td>-10</td>\n",
       "      <td>1000</td>\n",
       "    </tr>\n",
       "    <tr>\n",
       "      <th>1</th>\n",
       "      <td>2</td>\n",
       "      <td>20</td>\n",
       "      <td>200</td>\n",
       "      <td>20</td>\n",
       "      <td>2000</td>\n",
       "    </tr>\n",
       "    <tr>\n",
       "      <th>2</th>\n",
       "      <td>3</td>\n",
       "      <td>30</td>\n",
       "      <td>300</td>\n",
       "      <td>-30</td>\n",
       "      <td>3000</td>\n",
       "    </tr>\n",
       "    <tr>\n",
       "      <th>3</th>\n",
       "      <td>4</td>\n",
       "      <td>40</td>\n",
       "      <td>400</td>\n",
       "      <td>40</td>\n",
       "      <td>4000</td>\n",
       "    </tr>\n",
       "    <tr>\n",
       "      <th>4</th>\n",
       "      <td>5</td>\n",
       "      <td>50</td>\n",
       "      <td>500</td>\n",
       "      <td>-50</td>\n",
       "      <td>5000</td>\n",
       "    </tr>\n",
       "  </tbody>\n",
       "</table>\n",
       "</div>"
      ],
      "text/plain": [
       "   A  B_x    C  B_y     D\n",
       "0  1   10  100  -10  1000\n",
       "1  2   20  200   20  2000\n",
       "2  3   30  300  -30  3000\n",
       "3  4   40  400   40  4000\n",
       "4  5   50  500  -50  5000"
      ]
     },
     "execution_count": 258,
     "metadata": {},
     "output_type": "execute_result"
    }
   ],
   "source": [
    "pd.merge(left, right, how='outer', on='A')"
   ]
  },
  {
   "cell_type": "markdown",
   "metadata": {},
   "source": [
    "But if we join the two dataframes based on `B`, things are different, becasue the intersection and union of the `B` columns in the two DataFrames are diffrent."
   ]
  },
  {
   "cell_type": "code",
   "execution_count": 259,
   "metadata": {},
   "outputs": [
    {
     "data": {
      "text/html": [
       "<div>\n",
       "<style scoped>\n",
       "    .dataframe tbody tr th:only-of-type {\n",
       "        vertical-align: middle;\n",
       "    }\n",
       "\n",
       "    .dataframe tbody tr th {\n",
       "        vertical-align: top;\n",
       "    }\n",
       "\n",
       "    .dataframe thead th {\n",
       "        text-align: right;\n",
       "    }\n",
       "</style>\n",
       "<table border=\"1\" class=\"dataframe\">\n",
       "  <thead>\n",
       "    <tr style=\"text-align: right;\">\n",
       "      <th></th>\n",
       "      <th>A_x</th>\n",
       "      <th>B</th>\n",
       "      <th>C</th>\n",
       "      <th>A_y</th>\n",
       "      <th>D</th>\n",
       "    </tr>\n",
       "  </thead>\n",
       "  <tbody>\n",
       "    <tr>\n",
       "      <th>0</th>\n",
       "      <td>2</td>\n",
       "      <td>20</td>\n",
       "      <td>200</td>\n",
       "      <td>2</td>\n",
       "      <td>2000</td>\n",
       "    </tr>\n",
       "    <tr>\n",
       "      <th>1</th>\n",
       "      <td>4</td>\n",
       "      <td>40</td>\n",
       "      <td>400</td>\n",
       "      <td>4</td>\n",
       "      <td>4000</td>\n",
       "    </tr>\n",
       "  </tbody>\n",
       "</table>\n",
       "</div>"
      ],
      "text/plain": [
       "   A_x   B    C  A_y     D\n",
       "0    2  20  200    2  2000\n",
       "1    4  40  400    4  4000"
      ]
     },
     "execution_count": 259,
     "metadata": {},
     "output_type": "execute_result"
    }
   ],
   "source": [
    "pd.merge(left, right, on='B')"
   ]
  },
  {
   "cell_type": "code",
   "execution_count": 257,
   "metadata": {},
   "outputs": [
    {
     "data": {
      "text/html": [
       "<div>\n",
       "<style scoped>\n",
       "    .dataframe tbody tr th:only-of-type {\n",
       "        vertical-align: middle;\n",
       "    }\n",
       "\n",
       "    .dataframe tbody tr th {\n",
       "        vertical-align: top;\n",
       "    }\n",
       "\n",
       "    .dataframe thead th {\n",
       "        text-align: right;\n",
       "    }\n",
       "</style>\n",
       "<table border=\"1\" class=\"dataframe\">\n",
       "  <thead>\n",
       "    <tr style=\"text-align: right;\">\n",
       "      <th></th>\n",
       "      <th>A_x</th>\n",
       "      <th>B</th>\n",
       "      <th>C</th>\n",
       "      <th>A_y</th>\n",
       "      <th>D</th>\n",
       "    </tr>\n",
       "  </thead>\n",
       "  <tbody>\n",
       "    <tr>\n",
       "      <th>0</th>\n",
       "      <td>1.0</td>\n",
       "      <td>10</td>\n",
       "      <td>100.0</td>\n",
       "      <td>NaN</td>\n",
       "      <td>NaN</td>\n",
       "    </tr>\n",
       "    <tr>\n",
       "      <th>1</th>\n",
       "      <td>2.0</td>\n",
       "      <td>20</td>\n",
       "      <td>200.0</td>\n",
       "      <td>2.0</td>\n",
       "      <td>2000.0</td>\n",
       "    </tr>\n",
       "    <tr>\n",
       "      <th>2</th>\n",
       "      <td>3.0</td>\n",
       "      <td>30</td>\n",
       "      <td>300.0</td>\n",
       "      <td>NaN</td>\n",
       "      <td>NaN</td>\n",
       "    </tr>\n",
       "    <tr>\n",
       "      <th>3</th>\n",
       "      <td>4.0</td>\n",
       "      <td>40</td>\n",
       "      <td>400.0</td>\n",
       "      <td>4.0</td>\n",
       "      <td>4000.0</td>\n",
       "    </tr>\n",
       "    <tr>\n",
       "      <th>4</th>\n",
       "      <td>5.0</td>\n",
       "      <td>50</td>\n",
       "      <td>500.0</td>\n",
       "      <td>NaN</td>\n",
       "      <td>NaN</td>\n",
       "    </tr>\n",
       "    <tr>\n",
       "      <th>5</th>\n",
       "      <td>NaN</td>\n",
       "      <td>-10</td>\n",
       "      <td>NaN</td>\n",
       "      <td>1.0</td>\n",
       "      <td>1000.0</td>\n",
       "    </tr>\n",
       "    <tr>\n",
       "      <th>6</th>\n",
       "      <td>NaN</td>\n",
       "      <td>-30</td>\n",
       "      <td>NaN</td>\n",
       "      <td>3.0</td>\n",
       "      <td>3000.0</td>\n",
       "    </tr>\n",
       "    <tr>\n",
       "      <th>7</th>\n",
       "      <td>NaN</td>\n",
       "      <td>-50</td>\n",
       "      <td>NaN</td>\n",
       "      <td>5.0</td>\n",
       "      <td>5000.0</td>\n",
       "    </tr>\n",
       "  </tbody>\n",
       "</table>\n",
       "</div>"
      ],
      "text/plain": [
       "   A_x   B      C  A_y       D\n",
       "0  1.0  10  100.0  NaN     NaN\n",
       "1  2.0  20  200.0  2.0  2000.0\n",
       "2  3.0  30  300.0  NaN     NaN\n",
       "3  4.0  40  400.0  4.0  4000.0\n",
       "4  5.0  50  500.0  NaN     NaN\n",
       "5  NaN -10    NaN  1.0  1000.0\n",
       "6  NaN -30    NaN  3.0  3000.0\n",
       "7  NaN -50    NaN  5.0  5000.0"
      ]
     },
     "execution_count": 257,
     "metadata": {},
     "output_type": "execute_result"
    }
   ],
   "source": [
    "pd.merge(left, right, how='outer', on='B')"
   ]
  },
  {
   "cell_type": "markdown",
   "metadata": {},
   "source": [
    "## Splitting Pandas DataFrames\n",
    "\n",
    "Let's start by splitting. Usually, we want to split our DataFrame into multiple DataFrames based on the values of a specific column. In other words we want to group the data in our dataset, based on some value. The function we use to do this is called `groupby()`."
   ]
  },
  {
   "cell_type": "code",
   "execution_count": 285,
   "metadata": {},
   "outputs": [],
   "source": [
    "grp = df.groupby('MPI')"
   ]
  },
  {
   "cell_type": "code",
   "execution_count": 286,
   "metadata": {},
   "outputs": [
    {
     "data": {
      "text/plain": [
       "{'Biochem': Int64Index([ 23,  30,  39,  50,  54,  58,  68,  69,  71,  77,\n",
       "             ...\n",
       "             289, 290, 291, 292, 293, 294, 295, 296, 297, 299],\n",
       "            dtype='int64', name='ranking', length=153),\n",
       " 'Neuro': Int64Index([  1,   2,   3,   4,   5,   6,   7,   8,   9,  10,\n",
       "             ...\n",
       "             252, 259, 261, 268, 270, 272, 273, 281, 298, 300],\n",
       "            dtype='int64', name='ranking', length=147)}"
      ]
     },
     "execution_count": 286,
     "metadata": {},
     "output_type": "execute_result"
    }
   ],
   "source": [
    "grp.groups"
   ]
  },
  {
   "cell_type": "code",
   "execution_count": 289,
   "metadata": {},
   "outputs": [
    {
     "data": {
      "text/html": [
       "<div>\n",
       "<style scoped>\n",
       "    .dataframe tbody tr th:only-of-type {\n",
       "        vertical-align: middle;\n",
       "    }\n",
       "\n",
       "    .dataframe tbody tr th {\n",
       "        vertical-align: top;\n",
       "    }\n",
       "\n",
       "    .dataframe thead th {\n",
       "        text-align: right;\n",
       "    }\n",
       "</style>\n",
       "<table border=\"1\" class=\"dataframe\">\n",
       "  <thead>\n",
       "    <tr style=\"text-align: right;\">\n",
       "      <th></th>\n",
       "      <th>name</th>\n",
       "      <th>sex</th>\n",
       "      <th>from_Germany</th>\n",
       "      <th>MPI</th>\n",
       "      <th>age</th>\n",
       "      <th>papers</th>\n",
       "      <th>citations</th>\n",
       "      <th>colleagues</th>\n",
       "      <th>coffees</th>\n",
       "      <th>citations_per_paper</th>\n",
       "    </tr>\n",
       "    <tr>\n",
       "      <th>ranking</th>\n",
       "      <th></th>\n",
       "      <th></th>\n",
       "      <th></th>\n",
       "      <th></th>\n",
       "      <th></th>\n",
       "      <th></th>\n",
       "      <th></th>\n",
       "      <th></th>\n",
       "      <th></th>\n",
       "      <th></th>\n",
       "    </tr>\n",
       "  </thead>\n",
       "  <tbody>\n",
       "    <tr>\n",
       "      <th>23</th>\n",
       "      <td>Heather Baker</td>\n",
       "      <td>Female</td>\n",
       "      <td>True</td>\n",
       "      <td>Biochem</td>\n",
       "      <td>6.797654</td>\n",
       "      <td>13.0</td>\n",
       "      <td>129.0</td>\n",
       "      <td>5.0</td>\n",
       "      <td>0.0</td>\n",
       "      <td>8.066667</td>\n",
       "    </tr>\n",
       "    <tr>\n",
       "      <th>30</th>\n",
       "      <td>Lori Ruiz</td>\n",
       "      <td>Female</td>\n",
       "      <td>True</td>\n",
       "      <td>Biochem</td>\n",
       "      <td>4.863175</td>\n",
       "      <td>12.0</td>\n",
       "      <td>112.0</td>\n",
       "      <td>5.0</td>\n",
       "      <td>0.0</td>\n",
       "      <td>7.428571</td>\n",
       "    </tr>\n",
       "    <tr>\n",
       "      <th>39</th>\n",
       "      <td>Dr. Jason Perez</td>\n",
       "      <td>Female</td>\n",
       "      <td>True</td>\n",
       "      <td>Biochem</td>\n",
       "      <td>3.204867</td>\n",
       "      <td>11.0</td>\n",
       "      <td>112.0</td>\n",
       "      <td>4.0</td>\n",
       "      <td>0.0</td>\n",
       "      <td>8.000000</td>\n",
       "    </tr>\n",
       "    <tr>\n",
       "      <th>50</th>\n",
       "      <td>Jamie Bowen</td>\n",
       "      <td>Female</td>\n",
       "      <td>True</td>\n",
       "      <td>Biochem</td>\n",
       "      <td>5.402584</td>\n",
       "      <td>11.0</td>\n",
       "      <td>146.0</td>\n",
       "      <td>5.0</td>\n",
       "      <td>0.0</td>\n",
       "      <td>10.615385</td>\n",
       "    </tr>\n",
       "    <tr>\n",
       "      <th>54</th>\n",
       "      <td>Jennifer Smith</td>\n",
       "      <td>Female</td>\n",
       "      <td>True</td>\n",
       "      <td>Biochem</td>\n",
       "      <td>3.237252</td>\n",
       "      <td>10.0</td>\n",
       "      <td>103.0</td>\n",
       "      <td>4.0</td>\n",
       "      <td>0.0</td>\n",
       "      <td>7.916667</td>\n",
       "    </tr>\n",
       "  </tbody>\n",
       "</table>\n",
       "</div>"
      ],
      "text/plain": [
       "                    name     sex  from_Germany      MPI       age  papers  \\\n",
       "ranking                                                                     \n",
       "23         Heather Baker  Female          True  Biochem  6.797654    13.0   \n",
       "30             Lori Ruiz  Female          True  Biochem  4.863175    12.0   \n",
       "39       Dr. Jason Perez  Female          True  Biochem  3.204867    11.0   \n",
       "50           Jamie Bowen  Female          True  Biochem  5.402584    11.0   \n",
       "54        Jennifer Smith  Female          True  Biochem  3.237252    10.0   \n",
       "\n",
       "         citations  colleagues  coffees  citations_per_paper  \n",
       "ranking                                                       \n",
       "23           129.0         5.0      0.0             8.066667  \n",
       "30           112.0         5.0      0.0             7.428571  \n",
       "39           112.0         4.0      0.0             8.000000  \n",
       "50           146.0         5.0      0.0            10.615385  \n",
       "54           103.0         4.0      0.0             7.916667  "
      ]
     },
     "execution_count": 289,
     "metadata": {},
     "output_type": "execute_result"
    }
   ],
   "source": [
    "grp.get_group('Biochem').head()"
   ]
  },
  {
   "cell_type": "code",
   "execution_count": 290,
   "metadata": {},
   "outputs": [
    {
     "data": {
      "text/plain": [
       "((300, 10), (153, 10), (147, 10))"
      ]
     },
     "execution_count": 290,
     "metadata": {},
     "output_type": "execute_result"
    }
   ],
   "source": [
    "df.shape, grp.get_group('Biochem').shape, grp.get_group('Neuro').shape"
   ]
  },
  {
   "cell_type": "markdown",
   "metadata": {},
   "source": [
    "And since now we have two separate dataframes, we can perform all the above mentioned oeprations on them.."
   ]
  },
  {
   "cell_type": "markdown",
   "metadata": {},
   "source": [
    "---"
   ]
  },
  {
   "cell_type": "markdown",
   "metadata": {},
   "source": [
    "## Exercise #2"
   ]
  },
  {
   "cell_type": "markdown",
   "metadata": {},
   "source": [
    "---"
   ]
  },
  {
   "cell_type": "markdown",
   "metadata": {},
   "source": [
    "### Split-Apply-Combine"
   ]
  },
  {
   "cell_type": "markdown",
   "metadata": {},
   "source": [
    "The idea behind this term is simply the fact that, we usually want to *split* the DataFrame, *apply* some function on it, and the *combine* the results.<br>\n",
    "\n",
    "### Example: we want to split our DataFrame based on whether the people are from Neuro or Biochem MPI. And then we want to finc the mean number of published paper, or anything.. and we want to have that value back in our original dataframe which includes people from both MPI.\n",
    "\n",
    "So we need to:\n",
    "- split first\n",
    "- apply a function on each dataframe\n",
    "- combine them again"
   ]
  },
  {
   "cell_type": "markdown",
   "metadata": {},
   "source": [
    "If we want to compute a single value (i.e., aggregation), the we use `agg()`:"
   ]
  },
  {
   "cell_type": "code",
   "execution_count": 294,
   "metadata": {},
   "outputs": [
    {
     "data": {
      "text/html": [
       "<div>\n",
       "<style scoped>\n",
       "    .dataframe tbody tr th:only-of-type {\n",
       "        vertical-align: middle;\n",
       "    }\n",
       "\n",
       "    .dataframe tbody tr th {\n",
       "        vertical-align: top;\n",
       "    }\n",
       "\n",
       "    .dataframe thead th {\n",
       "        text-align: right;\n",
       "    }\n",
       "</style>\n",
       "<table border=\"1\" class=\"dataframe\">\n",
       "  <thead>\n",
       "    <tr style=\"text-align: right;\">\n",
       "      <th></th>\n",
       "      <th>from_Germany</th>\n",
       "      <th>age</th>\n",
       "      <th>papers</th>\n",
       "      <th>citations</th>\n",
       "      <th>colleagues</th>\n",
       "      <th>coffees</th>\n",
       "      <th>citations_per_paper</th>\n",
       "    </tr>\n",
       "    <tr>\n",
       "      <th>MPI</th>\n",
       "      <th></th>\n",
       "      <th></th>\n",
       "      <th></th>\n",
       "      <th></th>\n",
       "      <th></th>\n",
       "      <th></th>\n",
       "      <th></th>\n",
       "    </tr>\n",
       "  </thead>\n",
       "  <tbody>\n",
       "    <tr>\n",
       "      <th>Biochem</th>\n",
       "      <td>0.503268</td>\n",
       "      <td>8.034829</td>\n",
       "      <td>7.594771</td>\n",
       "      <td>83.444444</td>\n",
       "      <td>3.091503</td>\n",
       "      <td>0.251167</td>\n",
       "      <td>7.879584</td>\n",
       "    </tr>\n",
       "    <tr>\n",
       "      <th>Neuro</th>\n",
       "      <td>0.496599</td>\n",
       "      <td>8.344403</td>\n",
       "      <td>10.428571</td>\n",
       "      <td>195.632653</td>\n",
       "      <td>5.047619</td>\n",
       "      <td>0.249757</td>\n",
       "      <td>14.908096</td>\n",
       "    </tr>\n",
       "  </tbody>\n",
       "</table>\n",
       "</div>"
      ],
      "text/plain": [
       "         from_Germany       age     papers   citations  colleagues   coffees  \\\n",
       "MPI                                                                            \n",
       "Biochem      0.503268  8.034829   7.594771   83.444444    3.091503  0.251167   \n",
       "Neuro        0.496599  8.344403  10.428571  195.632653    5.047619  0.249757   \n",
       "\n",
       "         citations_per_paper  \n",
       "MPI                           \n",
       "Biochem             7.879584  \n",
       "Neuro              14.908096  "
      ]
     },
     "execution_count": 294,
     "metadata": {},
     "output_type": "execute_result"
    }
   ],
   "source": [
    "df.groupby('MPI').agg(np.mean)"
   ]
  },
  {
   "cell_type": "markdown",
   "metadata": {},
   "source": [
    "If we want an element-wise operation, then we use `apply()`:"
   ]
  },
  {
   "cell_type": "code",
   "execution_count": 299,
   "metadata": {},
   "outputs": [
    {
     "data": {
      "text/html": [
       "<div>\n",
       "<style scoped>\n",
       "    .dataframe tbody tr th:only-of-type {\n",
       "        vertical-align: middle;\n",
       "    }\n",
       "\n",
       "    .dataframe tbody tr th {\n",
       "        vertical-align: top;\n",
       "    }\n",
       "\n",
       "    .dataframe thead th {\n",
       "        text-align: right;\n",
       "    }\n",
       "</style>\n",
       "<table border=\"1\" class=\"dataframe\">\n",
       "  <thead>\n",
       "    <tr style=\"text-align: right;\">\n",
       "      <th></th>\n",
       "      <th>papers</th>\n",
       "      <th>coffees</th>\n",
       "    </tr>\n",
       "    <tr>\n",
       "      <th>ranking</th>\n",
       "      <th></th>\n",
       "      <th></th>\n",
       "    </tr>\n",
       "  </thead>\n",
       "  <tbody>\n",
       "    <tr>\n",
       "      <th>1</th>\n",
       "      <td>16.0</td>\n",
       "      <td>0.857143</td>\n",
       "    </tr>\n",
       "    <tr>\n",
       "      <th>2</th>\n",
       "      <td>16.0</td>\n",
       "      <td>0.857143</td>\n",
       "    </tr>\n",
       "    <tr>\n",
       "      <th>3</th>\n",
       "      <td>13.0</td>\n",
       "      <td>0.714286</td>\n",
       "    </tr>\n",
       "    <tr>\n",
       "      <th>4</th>\n",
       "      <td>13.0</td>\n",
       "      <td>0.571429</td>\n",
       "    </tr>\n",
       "    <tr>\n",
       "      <th>5</th>\n",
       "      <td>15.0</td>\n",
       "      <td>0.714286</td>\n",
       "    </tr>\n",
       "  </tbody>\n",
       "</table>\n",
       "</div>"
      ],
      "text/plain": [
       "         papers   coffees\n",
       "ranking                  \n",
       "1          16.0  0.857143\n",
       "2          16.0  0.857143\n",
       "3          13.0  0.714286\n",
       "4          13.0  0.571429\n",
       "5          15.0  0.714286"
      ]
     },
     "execution_count": 299,
     "metadata": {},
     "output_type": "execute_result"
    }
   ],
   "source": [
    "cols = ['papers', 'coffees']\n",
    "df.groupby('MPI')[cols].apply(lambda x: x - x.min()).head()"
   ]
  },
  {
   "cell_type": "markdown",
   "metadata": {},
   "source": [
    "---"
   ]
  },
  {
   "cell_type": "markdown",
   "metadata": {},
   "source": [
    "## Plotting with Pandas"
   ]
  },
  {
   "cell_type": "code",
   "execution_count": 234,
   "metadata": {},
   "outputs": [
    {
     "data": {
      "image/png": "[encoded data removed]",
      "text/plain": [
       "<Figure size 432x288 with 1 Axes>"
      ]
     },
     "metadata": {
      "needs_background": "light"
     },
     "output_type": "display_data"
    }
   ],
   "source": [
    "df.plot.scatter(x='Happiness Score', y='Generosity');"
   ]
  },
  {
   "cell_type": "markdown",
   "metadata": {},
   "source": [
    "---"
   ]
  },
  {
   "cell_type": "markdown",
   "metadata": {},
   "source": [
    "## Exercise #3"
   ]
  },
  {
   "cell_type": "markdown",
   "metadata": {},
   "source": [
    "---"
   ]
  },
  {
   "cell_type": "markdown",
   "metadata": {},
   "source": [
    "## More Pandas\n",
    "\n",
    "### Apply() vs. agg() vs. transform()"
   ]
  },
  {
   "cell_type": "code",
   "execution_count": 260,
   "metadata": {},
   "outputs": [],
   "source": [
    "df = pd.DataFrame(data=np.random.rand(8, 2), columns=['C', 'D'])"
   ]
  },
  {
   "cell_type": "code",
   "execution_count": 261,
   "metadata": {},
   "outputs": [],
   "source": [
    "df['A'] = ['foo', 'bar'] * 3 + ['foo', 'foo']"
   ]
  },
  {
   "cell_type": "code",
   "execution_count": 262,
   "metadata": {},
   "outputs": [
    {
     "data": {
      "text/html": [
       "<div>\n",
       "<style scoped>\n",
       "    .dataframe tbody tr th:only-of-type {\n",
       "        vertical-align: middle;\n",
       "    }\n",
       "\n",
       "    .dataframe tbody tr th {\n",
       "        vertical-align: top;\n",
       "    }\n",
       "\n",
       "    .dataframe thead th {\n",
       "        text-align: right;\n",
       "    }\n",
       "</style>\n",
       "<table border=\"1\" class=\"dataframe\">\n",
       "  <thead>\n",
       "    <tr style=\"text-align: right;\">\n",
       "      <th></th>\n",
       "      <th>C</th>\n",
       "      <th>D</th>\n",
       "      <th>A</th>\n",
       "    </tr>\n",
       "  </thead>\n",
       "  <tbody>\n",
       "    <tr>\n",
       "      <th>0</th>\n",
       "      <td>0.246585</td>\n",
       "      <td>0.555072</td>\n",
       "      <td>foo</td>\n",
       "    </tr>\n",
       "    <tr>\n",
       "      <th>1</th>\n",
       "      <td>0.546432</td>\n",
       "      <td>0.787800</td>\n",
       "      <td>bar</td>\n",
       "    </tr>\n",
       "    <tr>\n",
       "      <th>2</th>\n",
       "      <td>0.887900</td>\n",
       "      <td>0.949350</td>\n",
       "      <td>foo</td>\n",
       "    </tr>\n",
       "    <tr>\n",
       "      <th>3</th>\n",
       "      <td>0.571210</td>\n",
       "      <td>0.262975</td>\n",
       "      <td>bar</td>\n",
       "    </tr>\n",
       "    <tr>\n",
       "      <th>4</th>\n",
       "      <td>0.535737</td>\n",
       "      <td>0.757636</td>\n",
       "      <td>foo</td>\n",
       "    </tr>\n",
       "    <tr>\n",
       "      <th>5</th>\n",
       "      <td>0.049385</td>\n",
       "      <td>0.516618</td>\n",
       "      <td>bar</td>\n",
       "    </tr>\n",
       "    <tr>\n",
       "      <th>6</th>\n",
       "      <td>0.142909</td>\n",
       "      <td>0.092581</td>\n",
       "      <td>foo</td>\n",
       "    </tr>\n",
       "    <tr>\n",
       "      <th>7</th>\n",
       "      <td>0.276184</td>\n",
       "      <td>0.888770</td>\n",
       "      <td>foo</td>\n",
       "    </tr>\n",
       "  </tbody>\n",
       "</table>\n",
       "</div>"
      ],
      "text/plain": [
       "          C         D    A\n",
       "0  0.246585  0.555072  foo\n",
       "1  0.546432  0.787800  bar\n",
       "2  0.887900  0.949350  foo\n",
       "3  0.571210  0.262975  bar\n",
       "4  0.535737  0.757636  foo\n",
       "5  0.049385  0.516618  bar\n",
       "6  0.142909  0.092581  foo\n",
       "7  0.276184  0.888770  foo"
      ]
     },
     "execution_count": 262,
     "metadata": {},
     "output_type": "execute_result"
    }
   ],
   "source": [
    "df"
   ]
  },
  {
   "cell_type": "markdown",
   "metadata": {},
   "source": [
    "Element-wise operation"
   ]
  },
  {
   "cell_type": "code",
   "execution_count": 263,
   "metadata": {},
   "outputs": [],
   "source": [
    "zscore = lambda x: (x - x.mean()) / x.std()"
   ]
  },
  {
   "cell_type": "code",
   "execution_count": 265,
   "metadata": {},
   "outputs": [
    {
     "data": {
      "text/html": [
       "<div>\n",
       "<style scoped>\n",
       "    .dataframe tbody tr th:only-of-type {\n",
       "        vertical-align: middle;\n",
       "    }\n",
       "\n",
       "    .dataframe tbody tr th {\n",
       "        vertical-align: top;\n",
       "    }\n",
       "\n",
       "    .dataframe thead th {\n",
       "        text-align: right;\n",
       "    }\n",
       "</style>\n",
       "<table border=\"1\" class=\"dataframe\">\n",
       "  <thead>\n",
       "    <tr style=\"text-align: right;\">\n",
       "      <th></th>\n",
       "      <th>C</th>\n",
       "      <th>D</th>\n",
       "    </tr>\n",
       "  </thead>\n",
       "  <tbody>\n",
       "    <tr>\n",
       "      <th>0</th>\n",
       "      <td>-0.571054</td>\n",
       "      <td>-0.270814</td>\n",
       "    </tr>\n",
       "    <tr>\n",
       "      <th>1</th>\n",
       "      <td>0.534754</td>\n",
       "      <td>1.010951</td>\n",
       "    </tr>\n",
       "    <tr>\n",
       "      <th>2</th>\n",
       "      <td>1.567143</td>\n",
       "      <td>0.869836</td>\n",
       "    </tr>\n",
       "    <tr>\n",
       "      <th>3</th>\n",
       "      <td>0.618924</td>\n",
       "      <td>-0.988677</td>\n",
       "    </tr>\n",
       "    <tr>\n",
       "      <th>4</th>\n",
       "      <td>0.393002</td>\n",
       "      <td>0.315205</td>\n",
       "    </tr>\n",
       "    <tr>\n",
       "      <th>5</th>\n",
       "      <td>-1.153678</td>\n",
       "      <td>-0.022274</td>\n",
       "    </tr>\n",
       "    <tr>\n",
       "      <th>6</th>\n",
       "      <td>-0.916721</td>\n",
       "      <td>-1.608804</td>\n",
       "    </tr>\n",
       "    <tr>\n",
       "      <th>7</th>\n",
       "      <td>-0.472370</td>\n",
       "      <td>0.694578</td>\n",
       "    </tr>\n",
       "  </tbody>\n",
       "</table>\n",
       "</div>"
      ],
      "text/plain": [
       "          C         D\n",
       "0 -0.571054 -0.270814\n",
       "1  0.534754  1.010951\n",
       "2  1.567143  0.869836\n",
       "3  0.618924 -0.988677\n",
       "4  0.393002  0.315205\n",
       "5 -1.153678 -0.022274\n",
       "6 -0.916721 -1.608804\n",
       "7 -0.472370  0.694578"
      ]
     },
     "execution_count": 265,
     "metadata": {},
     "output_type": "execute_result"
    }
   ],
   "source": [
    "df.groupby('A').apply(zscore)"
   ]
  },
  {
   "cell_type": "code",
   "execution_count": 264,
   "metadata": {},
   "outputs": [
    {
     "data": {
      "text/html": [
       "<div>\n",
       "<style scoped>\n",
       "    .dataframe tbody tr th:only-of-type {\n",
       "        vertical-align: middle;\n",
       "    }\n",
       "\n",
       "    .dataframe tbody tr th {\n",
       "        vertical-align: top;\n",
       "    }\n",
       "\n",
       "    .dataframe thead th {\n",
       "        text-align: right;\n",
       "    }\n",
       "</style>\n",
       "<table border=\"1\" class=\"dataframe\">\n",
       "  <thead>\n",
       "    <tr style=\"text-align: right;\">\n",
       "      <th></th>\n",
       "      <th>C</th>\n",
       "      <th>D</th>\n",
       "    </tr>\n",
       "  </thead>\n",
       "  <tbody>\n",
       "    <tr>\n",
       "      <th>0</th>\n",
       "      <td>-0.571054</td>\n",
       "      <td>-0.270814</td>\n",
       "    </tr>\n",
       "    <tr>\n",
       "      <th>1</th>\n",
       "      <td>0.534754</td>\n",
       "      <td>1.010951</td>\n",
       "    </tr>\n",
       "    <tr>\n",
       "      <th>2</th>\n",
       "      <td>1.567143</td>\n",
       "      <td>0.869836</td>\n",
       "    </tr>\n",
       "    <tr>\n",
       "      <th>3</th>\n",
       "      <td>0.618924</td>\n",
       "      <td>-0.988677</td>\n",
       "    </tr>\n",
       "    <tr>\n",
       "      <th>4</th>\n",
       "      <td>0.393002</td>\n",
       "      <td>0.315205</td>\n",
       "    </tr>\n",
       "    <tr>\n",
       "      <th>5</th>\n",
       "      <td>-1.153678</td>\n",
       "      <td>-0.022274</td>\n",
       "    </tr>\n",
       "    <tr>\n",
       "      <th>6</th>\n",
       "      <td>-0.916721</td>\n",
       "      <td>-1.608804</td>\n",
       "    </tr>\n",
       "    <tr>\n",
       "      <th>7</th>\n",
       "      <td>-0.472370</td>\n",
       "      <td>0.694578</td>\n",
       "    </tr>\n",
       "  </tbody>\n",
       "</table>\n",
       "</div>"
      ],
      "text/plain": [
       "          C         D\n",
       "0 -0.571054 -0.270814\n",
       "1  0.534754  1.010951\n",
       "2  1.567143  0.869836\n",
       "3  0.618924 -0.988677\n",
       "4  0.393002  0.315205\n",
       "5 -1.153678 -0.022274\n",
       "6 -0.916721 -1.608804\n",
       "7 -0.472370  0.694578"
      ]
     },
     "execution_count": 264,
     "metadata": {},
     "output_type": "execute_result"
    }
   ],
   "source": [
    "df.groupby('A').transform(zscore)"
   ]
  },
  {
   "cell_type": "code",
   "execution_count": 268,
   "metadata": {},
   "outputs": [],
   "source": [
    "df.groupby('A').agg(zscore)  # would give an error, because it should be given a group and result in a single value"
   ]
  },
  {
   "cell_type": "markdown",
   "metadata": {},
   "source": [
    "In this case `apply()` and `transform()` work exactly the same way. <br>\n",
    "**Note** that `agg()` would not work in this case, because we are working on elemetns rather than the whole data."
   ]
  },
  {
   "cell_type": "markdown",
   "metadata": {},
   "source": [
    "Group-wise operation"
   ]
  },
  {
   "cell_type": "code",
   "execution_count": 269,
   "metadata": {},
   "outputs": [
    {
     "data": {
      "text/html": [
       "<div>\n",
       "<style scoped>\n",
       "    .dataframe tbody tr th:only-of-type {\n",
       "        vertical-align: middle;\n",
       "    }\n",
       "\n",
       "    .dataframe tbody tr th {\n",
       "        vertical-align: top;\n",
       "    }\n",
       "\n",
       "    .dataframe thead th {\n",
       "        text-align: right;\n",
       "    }\n",
       "</style>\n",
       "<table border=\"1\" class=\"dataframe\">\n",
       "  <thead>\n",
       "    <tr style=\"text-align: right;\">\n",
       "      <th></th>\n",
       "      <th>C</th>\n",
       "      <th>D</th>\n",
       "    </tr>\n",
       "  </thead>\n",
       "  <tbody>\n",
       "    <tr>\n",
       "      <th>0</th>\n",
       "      <td>2.089315</td>\n",
       "      <td>3.243409</td>\n",
       "    </tr>\n",
       "    <tr>\n",
       "      <th>1</th>\n",
       "      <td>1.167027</td>\n",
       "      <td>1.567393</td>\n",
       "    </tr>\n",
       "    <tr>\n",
       "      <th>2</th>\n",
       "      <td>2.089315</td>\n",
       "      <td>3.243409</td>\n",
       "    </tr>\n",
       "    <tr>\n",
       "      <th>3</th>\n",
       "      <td>1.167027</td>\n",
       "      <td>1.567393</td>\n",
       "    </tr>\n",
       "    <tr>\n",
       "      <th>4</th>\n",
       "      <td>2.089315</td>\n",
       "      <td>3.243409</td>\n",
       "    </tr>\n",
       "    <tr>\n",
       "      <th>5</th>\n",
       "      <td>1.167027</td>\n",
       "      <td>1.567393</td>\n",
       "    </tr>\n",
       "    <tr>\n",
       "      <th>6</th>\n",
       "      <td>2.089315</td>\n",
       "      <td>3.243409</td>\n",
       "    </tr>\n",
       "    <tr>\n",
       "      <th>7</th>\n",
       "      <td>2.089315</td>\n",
       "      <td>3.243409</td>\n",
       "    </tr>\n",
       "  </tbody>\n",
       "</table>\n",
       "</div>"
      ],
      "text/plain": [
       "          C         D\n",
       "0  2.089315  3.243409\n",
       "1  1.167027  1.567393\n",
       "2  2.089315  3.243409\n",
       "3  1.167027  1.567393\n",
       "4  2.089315  3.243409\n",
       "5  1.167027  1.567393\n",
       "6  2.089315  3.243409\n",
       "7  2.089315  3.243409"
      ]
     },
     "execution_count": 269,
     "metadata": {},
     "output_type": "execute_result"
    }
   ],
   "source": [
    "df.groupby('A').transform(sum)"
   ]
  },
  {
   "cell_type": "code",
   "execution_count": 270,
   "metadata": {},
   "outputs": [
    {
     "data": {
      "text/html": [
       "<div>\n",
       "<style scoped>\n",
       "    .dataframe tbody tr th:only-of-type {\n",
       "        vertical-align: middle;\n",
       "    }\n",
       "\n",
       "    .dataframe tbody tr th {\n",
       "        vertical-align: top;\n",
       "    }\n",
       "\n",
       "    .dataframe thead th {\n",
       "        text-align: right;\n",
       "    }\n",
       "</style>\n",
       "<table border=\"1\" class=\"dataframe\">\n",
       "  <thead>\n",
       "    <tr style=\"text-align: right;\">\n",
       "      <th></th>\n",
       "      <th>C</th>\n",
       "      <th>D</th>\n",
       "      <th>A</th>\n",
       "    </tr>\n",
       "    <tr>\n",
       "      <th>A</th>\n",
       "      <th></th>\n",
       "      <th></th>\n",
       "      <th></th>\n",
       "    </tr>\n",
       "  </thead>\n",
       "  <tbody>\n",
       "    <tr>\n",
       "      <th>bar</th>\n",
       "      <td>1.167027</td>\n",
       "      <td>1.567393</td>\n",
       "      <td>barbarbar</td>\n",
       "    </tr>\n",
       "    <tr>\n",
       "      <th>foo</th>\n",
       "      <td>2.089315</td>\n",
       "      <td>3.243409</td>\n",
       "      <td>foofoofoofoofoo</td>\n",
       "    </tr>\n",
       "  </tbody>\n",
       "</table>\n",
       "</div>"
      ],
      "text/plain": [
       "            C         D                A\n",
       "A                                       \n",
       "bar  1.167027  1.567393        barbarbar\n",
       "foo  2.089315  3.243409  foofoofoofoofoo"
      ]
     },
     "execution_count": 270,
     "metadata": {},
     "output_type": "execute_result"
    }
   ],
   "source": [
    "df.groupby('A').apply(sum)"
   ]
  },
  {
   "cell_type": "code",
   "execution_count": 271,
   "metadata": {},
   "outputs": [
    {
     "data": {
      "text/html": [
       "<div>\n",
       "<style scoped>\n",
       "    .dataframe tbody tr th:only-of-type {\n",
       "        vertical-align: middle;\n",
       "    }\n",
       "\n",
       "    .dataframe tbody tr th {\n",
       "        vertical-align: top;\n",
       "    }\n",
       "\n",
       "    .dataframe thead th {\n",
       "        text-align: right;\n",
       "    }\n",
       "</style>\n",
       "<table border=\"1\" class=\"dataframe\">\n",
       "  <thead>\n",
       "    <tr style=\"text-align: right;\">\n",
       "      <th></th>\n",
       "      <th>C</th>\n",
       "      <th>D</th>\n",
       "    </tr>\n",
       "    <tr>\n",
       "      <th>A</th>\n",
       "      <th></th>\n",
       "      <th></th>\n",
       "    </tr>\n",
       "  </thead>\n",
       "  <tbody>\n",
       "    <tr>\n",
       "      <th>bar</th>\n",
       "      <td>1.167027</td>\n",
       "      <td>1.567393</td>\n",
       "    </tr>\n",
       "    <tr>\n",
       "      <th>foo</th>\n",
       "      <td>2.089315</td>\n",
       "      <td>3.243409</td>\n",
       "    </tr>\n",
       "  </tbody>\n",
       "</table>\n",
       "</div>"
      ],
      "text/plain": [
       "            C         D\n",
       "A                      \n",
       "bar  1.167027  1.567393\n",
       "foo  2.089315  3.243409"
      ]
     },
     "execution_count": 271,
     "metadata": {},
     "output_type": "execute_result"
    }
   ],
   "source": [
    "df.groupby('A').agg(sum)"
   ]
  },
  {
   "cell_type": "markdown",
   "metadata": {},
   "source": [
    "In this case `apply()` and `agg()` work (almost) the same way, except that `agg()` only works on numerical data. <br>\n",
    "Here the advantage of `transform()` is that it automatically broadcasts the results to the actual size of the dataframe (making it easier to creating new columns as a result of group-wise operations). however, this is not possible with `apply()` or `agg()` in this case."
   ]
  },
  {
   "cell_type": "markdown",
   "metadata": {},
   "source": [
    "One other thing to note is that transform only sees a single column (i.e., series) at a time:"
   ]
  },
  {
   "cell_type": "code",
   "execution_count": 274,
   "metadata": {},
   "outputs": [
    {
     "data": {
      "text/html": [
       "<div>\n",
       "<style scoped>\n",
       "    .dataframe tbody tr th:only-of-type {\n",
       "        vertical-align: middle;\n",
       "    }\n",
       "\n",
       "    .dataframe tbody tr th {\n",
       "        vertical-align: top;\n",
       "    }\n",
       "\n",
       "    .dataframe thead th {\n",
       "        text-align: right;\n",
       "    }\n",
       "</style>\n",
       "<table border=\"1\" class=\"dataframe\">\n",
       "  <thead>\n",
       "    <tr style=\"text-align: right;\">\n",
       "      <th></th>\n",
       "      <th>C</th>\n",
       "      <th>D</th>\n",
       "    </tr>\n",
       "  </thead>\n",
       "  <tbody>\n",
       "    <tr>\n",
       "      <th>0</th>\n",
       "      <td>0.103677</td>\n",
       "      <td>0.462490</td>\n",
       "    </tr>\n",
       "    <tr>\n",
       "      <th>1</th>\n",
       "      <td>0.497047</td>\n",
       "      <td>0.524824</td>\n",
       "    </tr>\n",
       "    <tr>\n",
       "      <th>2</th>\n",
       "      <td>0.744992</td>\n",
       "      <td>0.856769</td>\n",
       "    </tr>\n",
       "    <tr>\n",
       "      <th>3</th>\n",
       "      <td>0.521825</td>\n",
       "      <td>0.000000</td>\n",
       "    </tr>\n",
       "    <tr>\n",
       "      <th>4</th>\n",
       "      <td>0.392829</td>\n",
       "      <td>0.665054</td>\n",
       "    </tr>\n",
       "    <tr>\n",
       "      <th>5</th>\n",
       "      <td>0.000000</td>\n",
       "      <td>0.253643</td>\n",
       "    </tr>\n",
       "    <tr>\n",
       "      <th>6</th>\n",
       "      <td>0.000000</td>\n",
       "      <td>0.000000</td>\n",
       "    </tr>\n",
       "    <tr>\n",
       "      <th>7</th>\n",
       "      <td>0.133275</td>\n",
       "      <td>0.796189</td>\n",
       "    </tr>\n",
       "  </tbody>\n",
       "</table>\n",
       "</div>"
      ],
      "text/plain": [
       "          C         D\n",
       "0  0.103677  0.462490\n",
       "1  0.497047  0.524824\n",
       "2  0.744992  0.856769\n",
       "3  0.521825  0.000000\n",
       "4  0.392829  0.665054\n",
       "5  0.000000  0.253643\n",
       "6  0.000000  0.000000\n",
       "7  0.133275  0.796189"
      ]
     },
     "execution_count": 274,
     "metadata": {},
     "output_type": "execute_result"
    }
   ],
   "source": [
    "df.groupby('A').transform(lambda x: x - x.min())"
   ]
  },
  {
   "cell_type": "code",
   "execution_count": 277,
   "metadata": {},
   "outputs": [],
   "source": [
    "df.groupby('A').transform(lambda x: x['C'] - x['D'])"
   ]
  },
  {
   "cell_type": "markdown",
   "metadata": {},
   "source": [
    "But this is not the case for `apply()`"
   ]
  },
  {
   "cell_type": "code",
   "execution_count": 276,
   "metadata": {},
   "outputs": [
    {
     "data": {
      "text/plain": [
       "A     \n",
       "bar  1   -0.241368\n",
       "     3    0.308235\n",
       "     5   -0.467233\n",
       "foo  0   -0.308487\n",
       "     2   -0.061450\n",
       "     4   -0.221898\n",
       "     6    0.050327\n",
       "     7   -0.612586\n",
       "dtype: float64"
      ]
     },
     "execution_count": 276,
     "metadata": {},
     "output_type": "execute_result"
    }
   ],
   "source": [
    "df.groupby('A').apply(lambda x: x['C'] - x['D'])"
   ]
  },
  {
   "cell_type": "markdown",
   "metadata": {},
   "source": [
    "### Binning a single column"
   ]
  },
  {
   "cell_type": "code",
   "execution_count": 310,
   "metadata": {},
   "outputs": [],
   "source": [
    "df['papers_rng'] = pd.cut(df.papers, bins=5, labels=False)"
   ]
  },
  {
   "cell_type": "code",
   "execution_count": 312,
   "metadata": {},
   "outputs": [
    {
     "data": {
      "text/html": [
       "<div>\n",
       "<style scoped>\n",
       "    .dataframe tbody tr th:only-of-type {\n",
       "        vertical-align: middle;\n",
       "    }\n",
       "\n",
       "    .dataframe tbody tr th {\n",
       "        vertical-align: top;\n",
       "    }\n",
       "\n",
       "    .dataframe thead th {\n",
       "        text-align: right;\n",
       "    }\n",
       "</style>\n",
       "<table border=\"1\" class=\"dataframe\">\n",
       "  <thead>\n",
       "    <tr style=\"text-align: right;\">\n",
       "      <th></th>\n",
       "      <th>name</th>\n",
       "      <th>sex</th>\n",
       "      <th>from_Germany</th>\n",
       "      <th>MPI</th>\n",
       "      <th>age</th>\n",
       "      <th>papers</th>\n",
       "      <th>citations</th>\n",
       "      <th>colleagues</th>\n",
       "      <th>coffees</th>\n",
       "      <th>citations_per_paper</th>\n",
       "      <th>papers_rng</th>\n",
       "    </tr>\n",
       "    <tr>\n",
       "      <th>ranking</th>\n",
       "      <th></th>\n",
       "      <th></th>\n",
       "      <th></th>\n",
       "      <th></th>\n",
       "      <th></th>\n",
       "      <th></th>\n",
       "      <th></th>\n",
       "      <th></th>\n",
       "      <th></th>\n",
       "      <th></th>\n",
       "      <th></th>\n",
       "    </tr>\n",
       "  </thead>\n",
       "  <tbody>\n",
       "    <tr>\n",
       "      <th>1</th>\n",
       "      <td>Melissa Lee</td>\n",
       "      <td>Male</td>\n",
       "      <td>False</td>\n",
       "      <td>Neuro</td>\n",
       "      <td>13.108329</td>\n",
       "      <td>19.0</td>\n",
       "      <td>333.0</td>\n",
       "      <td>9.0</td>\n",
       "      <td>0.857143</td>\n",
       "      <td>15.476190</td>\n",
       "      <td>4</td>\n",
       "    </tr>\n",
       "    <tr>\n",
       "      <th>2</th>\n",
       "      <td>David Cabrera</td>\n",
       "      <td>Male</td>\n",
       "      <td>False</td>\n",
       "      <td>Neuro</td>\n",
       "      <td>13.278041</td>\n",
       "      <td>19.0</td>\n",
       "      <td>317.0</td>\n",
       "      <td>9.0</td>\n",
       "      <td>0.857143</td>\n",
       "      <td>14.714286</td>\n",
       "      <td>4</td>\n",
       "    </tr>\n",
       "    <tr>\n",
       "      <th>3</th>\n",
       "      <td>David Vega</td>\n",
       "      <td>Male</td>\n",
       "      <td>True</td>\n",
       "      <td>Neuro</td>\n",
       "      <td>6.559656</td>\n",
       "      <td>16.0</td>\n",
       "      <td>356.0</td>\n",
       "      <td>8.0</td>\n",
       "      <td>0.714286</td>\n",
       "      <td>19.333333</td>\n",
       "      <td>4</td>\n",
       "    </tr>\n",
       "    <tr>\n",
       "      <th>4</th>\n",
       "      <td>Shannon Jacobs</td>\n",
       "      <td>Male</td>\n",
       "      <td>True</td>\n",
       "      <td>Neuro</td>\n",
       "      <td>6.957612</td>\n",
       "      <td>16.0</td>\n",
       "      <td>321.0</td>\n",
       "      <td>8.0</td>\n",
       "      <td>0.571429</td>\n",
       "      <td>17.388889</td>\n",
       "      <td>4</td>\n",
       "    </tr>\n",
       "    <tr>\n",
       "      <th>5</th>\n",
       "      <td>Richard Carter</td>\n",
       "      <td>Male</td>\n",
       "      <td>False</td>\n",
       "      <td>Neuro</td>\n",
       "      <td>13.340902</td>\n",
       "      <td>18.0</td>\n",
       "      <td>379.0</td>\n",
       "      <td>9.0</td>\n",
       "      <td>0.714286</td>\n",
       "      <td>18.550000</td>\n",
       "      <td>4</td>\n",
       "    </tr>\n",
       "  </tbody>\n",
       "</table>\n",
       "</div>"
      ],
      "text/plain": [
       "                   name   sex  from_Germany    MPI        age  papers  \\\n",
       "ranking                                                                 \n",
       "1           Melissa Lee  Male         False  Neuro  13.108329    19.0   \n",
       "2         David Cabrera  Male         False  Neuro  13.278041    19.0   \n",
       "3            David Vega  Male          True  Neuro   6.559656    16.0   \n",
       "4        Shannon Jacobs  Male          True  Neuro   6.957612    16.0   \n",
       "5        Richard Carter  Male         False  Neuro  13.340902    18.0   \n",
       "\n",
       "         citations  colleagues   coffees  citations_per_paper  papers_rng  \n",
       "ranking                                                                    \n",
       "1            333.0         9.0  0.857143            15.476190           4  \n",
       "2            317.0         9.0  0.857143            14.714286           4  \n",
       "3            356.0         8.0  0.714286            19.333333           4  \n",
       "4            321.0         8.0  0.571429            17.388889           4  \n",
       "5            379.0         9.0  0.714286            18.550000           4  "
      ]
     },
     "execution_count": 312,
     "metadata": {},
     "output_type": "execute_result"
    }
   ],
   "source": [
    "df.head()"
   ]
  },
  {
   "cell_type": "markdown",
   "metadata": {},
   "source": [
    "---"
   ]
  },
  {
   "cell_type": "markdown",
   "metadata": {},
   "source": [
    "## References\n",
    "\n",
    "- Visualization: https://pandas.pydata.org/pandas-docs/stable/user_guide/visualization.html"
   ]
  },
  {
   "cell_type": "code",
   "execution_count": null,
   "metadata": {},
   "outputs": [],
   "source": []
  }
 ],
 "metadata": {
  "kernelspec": {
   "display_name": "Python 3",
   "language": "python",
   "name": "python3"
  },
  "language_info": {
   "codemirror_mode": {
    "name": "ipython",
    "version": 3
   },
   "file_extension": ".py",
   "mimetype": "text/x-python",
   "name": "python",
   "nbconvert_exporter": "python",
   "pygments_lexer": "ipython3",
   "version": "3.6.8"
  }
 },
 "nbformat": 4,
 "nbformat_minor": 2
}
